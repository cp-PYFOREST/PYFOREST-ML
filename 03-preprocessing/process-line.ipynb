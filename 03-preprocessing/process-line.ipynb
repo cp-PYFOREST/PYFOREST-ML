{
 "cells": [
  {
   "cell_type": "markdown",
   "metadata": {},
   "source": [
    "# Process and calculate distance of deforestation pixel to road  and to river"
   ]
  },
  {
   "cell_type": "code",
   "execution_count": 1,
   "metadata": {},
   "outputs": [],
   "source": [
    "import rasterio\n",
    "import geopandas as gpd\n",
    "from scipy.ndimage import distance_transform_edt\n",
    "from concurrent.futures import ThreadPoolExecutor\n",
    "from process_functions  import  process_columns, vector_to_raster, calculate_distance_rasters\n",
    "from distance_calculation import process_year\n",
    "from shapely.geometry import Polygon, MultiPolygon\n",
    "from constants import SHAPEFILE_PATH\n"
   ]
  },
  {
   "cell_type": "code",
   "execution_count": 2,
   "metadata": {},
   "outputs": [],
   "source": [
    "# Read the river_shapefile using GeoPandas\n",
    "river_gdf = gpd.read_file(\"/Users/romero61/../../capstone/pyforest/data/roads_hydrology/ly_hid2.shp\")\n",
    "# Read the river_shapefile using GeoPandas\n",
    "road_gdf = gpd.read_file(\"/Users/romero61/../../capstone/pyforest/data/roads_hydrology/ly_via2.shp\")\n",
    "\n"
   ]
  },
  {
   "cell_type": "code",
   "execution_count": 3,
   "metadata": {},
   "outputs": [
    {
     "data": {
      "text/plain": [
       "<Projected CRS: PROJCS[\"WGS_1984_UTM_Zone_21S\",GEOGCS[\"WGS 84\",DAT ...>\n",
       "Name: WGS_1984_UTM_Zone_21S\n",
       "Axis Info [cartesian]:\n",
       "- [east]: Easting (Meter)\n",
       "- [north]: Northing (Meter)\n",
       "Area of Use:\n",
       "- undefined\n",
       "Coordinate Operation:\n",
       "- name: UTM zone 21S\n",
       "- method: Transverse Mercator\n",
       "Datum: World Geodetic System 1984\n",
       "- Ellipsoid: WGS 84\n",
       "- Prime Meridian: Greenwich"
      ]
     },
     "execution_count": 3,
     "metadata": {},
     "output_type": "execute_result"
    }
   ],
   "source": [
    "river_gdf.crs"
   ]
  },
  {
   "cell_type": "markdown",
   "metadata": {},
   "source": [
    "# Reprojections"
   ]
  },
  {
   "cell_type": "code",
   "execution_count": 5,
   "metadata": {},
   "outputs": [],
   "source": [
    "study_boundary_gdf = gpd.read_file(SHAPEFILE_PATH)\n",
    "\n",
    "# Reproject the study boundary GeoDataFrame to 4326\n",
    "study_boundary_gdf_reprojected = study_boundary_gdf.to_crs(\"EPSG:4326\")\n",
    "# Get the geometry column from the reprojected GeoDataFrame\n",
    "study_boundary_geom_reprojected = study_boundary_gdf_reprojected.geometry\n",
    "\n"
   ]
  },
  {
   "cell_type": "code",
   "execution_count": 8,
   "metadata": {},
   "outputs": [
    {
     "data": {
      "text/plain": [
       "<Geographic 2D CRS: EPSG:4326>\n",
       "Name: WGS 84\n",
       "Axis Info [ellipsoidal]:\n",
       "- Lat[north]: Geodetic latitude (degree)\n",
       "- Lon[east]: Geodetic longitude (degree)\n",
       "Area of Use:\n",
       "- name: World.\n",
       "- bounds: (-180.0, -90.0, 180.0, 90.0)\n",
       "Datum: World Geodetic System 1984 ensemble\n",
       "- Ellipsoid: WGS 84\n",
       "- Prime Meridian: Greenwich"
      ]
     },
     "execution_count": 8,
     "metadata": {},
     "output_type": "execute_result"
    }
   ],
   "source": [
    "study_boundary_gdf_reprojected.crs\n"
   ]
  },
  {
   "cell_type": "code",
   "execution_count": 12,
   "metadata": {},
   "outputs": [],
   "source": [
    "# Get the total bounds of the river_shapefile\n",
    "minx, miny, maxx, maxy = study_boundary_gdf_reprojected.total_bounds\n",
    "\n",
    "# Create a Shapely Polygon from the bounds\n",
    "bounds_polygon = Polygon([(minx, miny), (minx, maxy), (maxx, maxy), (maxx, miny)])\n",
    "\n",
    "# Create a GeoDataFrame from the Polygon and name it study_bounds\n",
    "study_bounds = gpd.GeoDataFrame(geometry=[bounds_polygon], crs=study_boundary_gdf_reprojected.crs)"
   ]
  },
  {
   "cell_type": "code",
   "execution_count": 13,
   "metadata": {},
   "outputs": [
    {
     "data": {
      "text/plain": [
       "array([-62.64185791, -25.35415853, -57.14930819, -19.28764722])"
      ]
     },
     "execution_count": 13,
     "metadata": {},
     "output_type": "execute_result"
    }
   ],
   "source": [
    "study_bounds.total_bounds"
   ]
  },
  {
   "cell_type": "code",
   "execution_count": 20,
   "metadata": {},
   "outputs": [],
   "source": [
    "# Skeleton of process_columns inputs\n",
    "# Function requires absolute path couldn't get it to take gpd\n",
    "#input_vector = \"/Users/romero61/../../capstone/pyforest/data/roads_hydrology/ly_hid2.shp\"\n",
    "input_vector = \"/Users/romero61/../../capstone/pyforest/data/roads_hydrology/ly_via2.shp\"\n",
    "\n",
    "\n",
    "\n",
    "output_dir = '/Users/romero61/github/PYFOREST-ML/src/data_loading/output_rasters'\n",
    "#study_area_bounds = (minx, miny, maxx, maxy)  # Replace with the bounds of your study area\n",
    "#columns = ['column1', 'column2']  # Replace with the desired columns or None to use all columns\n",
    "\n",
    "#process_columns(input_vector, output_dir, study_area_bounds, columns=columns)"
   ]
  },
  {
   "cell_type": "code",
   "execution_count": 21,
   "metadata": {},
   "outputs": [
    {
     "name": "stdout",
     "output_type": "stream",
     "text": [
      "Entering vector_to_raster\n",
      "Writing to /Users/romero61/github/PYFOREST-ML/src/data_loading/output_rasters/value_raster.tif\n"
     ]
    }
   ],
   "source": [
    "process_columns(input_vector, output_dir, study_bounds.total_bounds, single_value=1)\n"
   ]
  },
  {
   "cell_type": "code",
   "execution_count": 22,
   "metadata": {},
   "outputs": [
    {
     "name": "stdout",
     "output_type": "stream",
     "text": [
      "Output file exists: /Users/romero61/github/PYFOREST-ML/src/data_loading/output_rasters/value_raster.tif\n"
     ]
    }
   ],
   "source": [
    "import os\n",
    "\n",
    "output_file_path = f\"{output_dir}/value_raster.tif\"  # Replace 'column_name' with the appropriate column name\n",
    "if os.path.exists(output_file_path):\n",
    "    print(f\"Output file exists: {output_file_path}\")\n",
    "else:\n",
    "    print(f\"Output file not found: {output_file_path}\")\n"
   ]
  },
  {
   "cell_type": "markdown",
   "metadata": {},
   "source": [
    "# MANUAL RENAME REQUIRED"
   ]
  },
  {
   "cell_type": "code",
   "execution_count": 23,
   "metadata": {},
   "outputs": [
    {
     "name": "stdout",
     "output_type": "stream",
     "text": [
      "/Users/romero61/../../capstone/pyforest/ml_data/deforestation_by_year/deforestation_11.tif\n",
      "output_rasters/deforestation_river_distance_11.tif\n",
      "output_rasters/deforestation_road_distance_11.tif\n",
      "Processing deforestation data for year 2011\n",
      "/Users/romero61/../../capstone/pyforest/ml_data/deforestation_by_year/deforestation_12.tif\n",
      "output_rasters/deforestation_river_distance_12.tif\n",
      "output_rasters/deforestation_road_distance_12.tif\n",
      "Processing deforestation data for year 2012\n",
      "/Users/romero61/../../capstone/pyforest/ml_data/deforestation_by_year/deforestation_13.tif\n",
      "output_rasters/deforestation_river_distance_13.tif\n",
      "output_rasters/deforestation_road_distance_13.tif\n",
      "Processing deforestation data for year 2013\n",
      "/Users/romero61/../../capstone/pyforest/ml_data/deforestation_by_year/deforestation_14.tif\n",
      "output_rasters/deforestation_river_distance_14.tif\n",
      "output_rasters/deforestation_road_distance_14.tif\n",
      "Processing deforestation data for year 2014\n",
      "/Users/romero61/../../capstone/pyforest/ml_data/deforestation_by_year/deforestation_15.tif\n",
      "output_rasters/deforestation_river_distance_15.tif\n",
      "output_rasters/deforestation_road_distance_15.tif\n",
      "Processing deforestation data for year 2015\n",
      "/Users/romero61/../../capstone/pyforest/ml_data/deforestation_by_year/deforestation_16.tif\n",
      "output_rasters/deforestation_river_distance_16.tif\n",
      "output_rasters/deforestation_road_distance_16.tif\n",
      "Processing deforestation data for year 2016\n",
      "/Users/romero61/../../capstone/pyforest/ml_data/deforestation_by_year/deforestation_17.tif\n",
      "output_rasters/deforestation_river_distance_17.tif\n",
      "output_rasters/deforestation_road_distance_17.tif\n",
      "Processing deforestation data for year 2017\n",
      "/Users/romero61/../../capstone/pyforest/ml_data/deforestation_by_year/deforestation_18.tif\n",
      "output_rasters/deforestation_river_distance_18.tif\n",
      "output_rasters/deforestation_road_distance_18.tif\n",
      "Processing deforestation data for year 2018\n",
      "/Users/romero61/../../capstone/pyforest/ml_data/deforestation_by_year/deforestation_19.tif\n",
      "output_rasters/deforestation_river_distance_19.tif\n",
      "output_rasters/deforestation_road_distance_19.tif\n",
      "Processing deforestation data for year 2019\n",
      "/Users/romero61/../../capstone/pyforest/ml_data/deforestation_by_year/deforestation_20.tif\n",
      "output_rasters/deforestation_river_distance_20.tif\n",
      "output_rasters/deforestation_road_distance_20.tif\n",
      "Processing deforestation data for year 2020\n",
      "/Users/romero61/../../capstone/pyforest/ml_data/deforestation_by_year/deforestation_21.tif\n",
      "output_rasters/deforestation_river_distance_21.tif\n",
      "output_rasters/deforestation_road_distance_21.tif\n",
      "Processing deforestation data for year 2021\n"
     ]
    }
   ],
   "source": [
    "deforestation_years = [11, 12, 13, 14, 15, 16, 17, 18, 19, 20, 21]\n",
    "\n",
    "num_cores = 19\n",
    "with ThreadPoolExecutor(max_workers=num_cores) as executor:\n",
    "    executor.map(process_year, deforestation_years)\n"
   ]
  },
  {
   "cell_type": "code",
   "execution_count": 25,
   "metadata": {},
   "outputs": [
    {
     "name": "stdout",
     "output_type": "stream",
     "text": [
      "Processing deforestation data for year 2011\n",
      "Entering calculate_distance_rasters\n"
     ]
    }
   ],
   "source": [
    "# using a loop instead of parallelized code\n",
    "deforestation_years = [11]\n",
    "\n",
    "for year in deforestation_years:\n",
    "    deforestation_raster = f\"/Users/romero61/../../capstone/pyforest/ml_data/deforestation_by_year/deforestation_{year}.tif\"\n",
    "    river_distance_output = f\"output_rasters/deforestation_river_distance_{year}.tif\"\n",
    "    road_distance_output = f\"output_rasters/deforestation_road_distance_{year}.tif\"\n",
    "\n",
    "    print(f\"Processing deforestation data for year {year + 2000}\")\n",
    "    calculate_distance_rasters(\n",
    "    deforestation_raster,\n",
    "    \"/Users/romero61/github/PYFOREST-ML/src/data_loading/output_rasters/rivers_value_raster.tif\",\n",
    "    \"/Users/romero61/github/PYFOREST-ML/src/data_loading/output_rasters/road_value_raster.tif\",\n",
    "    river_distance_output,\n",
    "    road_distance_output\n",
    ")"
   ]
  },
  {
   "cell_type": "code",
   "execution_count": null,
   "metadata": {},
   "outputs": [],
   "source": [
    "# Get the band names from the clipped raster\n",
    "band_names = clipped_hansen_dataset.bandNames().getInfo()\n",
    "\n",
    "# Print the band names\n",
    "print(\"Band names:\")\n",
    "for i, band in enumerate(band_names, 1):\n",
    "    print(f\"{i}. {band}\")\n"
   ]
  },
  {
   "cell_type": "markdown",
   "metadata": {},
   "source": [
    "C:/Users/bsf31/Desktop/capstone/deforestation_river_distance_11.tif, band 1: IReadBlock failed at X offset 0, Y offset 22302: TIFFReadEncodedStrip() failed.\n",
    "C:/Users/bsf31/Desktop/capstone/deforestation_river_distance_11.tif, band 1: IReadBlock failed at X offset 0, Y offset 7212: TIFFReadEncodedStrip() failed.\n",
    "C:/Users/bsf31/Desktop/capstone/deforestation_river_distance_11.tif, band 1: IReadBlock failed at X offset 0, Y offset 4966: TIFFReadEncodedStrip() failed.\n",
    "C:/Users/bsf31/Desktop/capstone/deforestation_river_distance_11.tif, band 1: IReadBlock failed at X offset 0, Y offset 4826: TIFFReadEncodedStrip() failed.\n",
    "C:/Users/bsf31/Desktop/capstone/deforestation_river_distance_11.tif, band 1: IReadBlock failed at X offset 0, Y offset 4837: TIFFReadEncodedStrip() failed.\n",
    "C:/Users/bsf31/Desktop/capstone/deforestation_river_distance_11.tif, band 1: IReadBlock failed at X offset 0, Y offset 4834: TIFFReadEncodedStrip() failed."
   ]
  }
 ],
 "metadata": {
  "kernelspec": {
   "display_name": "Python 3.11.3 ('pyforest')",
   "language": "python",
   "name": "python3"
  },
  "language_info": {
   "codemirror_mode": {
    "name": "ipython",
    "version": 3
   },
   "file_extension": ".py",
   "mimetype": "text/x-python",
   "name": "python",
   "nbconvert_exporter": "python",
   "pygments_lexer": "ipython3",
   "version": "3.11.3"
  },
  "orig_nbformat": 4,
  "vscode": {
   "interpreter": {
    "hash": "aca51edb778be56207d5a76d5369999259e96b3950a8b6f86c3be07548c77925"
   }
  }
 },
 "nbformat": 4,
 "nbformat_minor": 2
}
