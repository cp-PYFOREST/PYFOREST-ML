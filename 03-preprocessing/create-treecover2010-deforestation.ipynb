{
 "cells": [
  {
   "cell_type": "markdown",
   "metadata": {},
   "source": [
    "# Create Individual Deforestation Files From Hansen Dataset"
   ]
  },
  {
   "cell_type": "markdown",
   "metadata": {},
   "source": [
    "The purpose of this notebook is two fold:\n",
    "1. Extract pixels:Takes the 'lossyear' image from the Hansen et al. (2013) dataset and creates a tiff file deforestation_year for each year desired. Take the 'treecover2000' and filter for pixels greater than 10%. \n",
    "2. 'lossyear' and 'treecover2000' also need to be cropped so that pixels are only within the boundary of the active property of that year. "
   ]
  },
  {
   "cell_type": "markdown",
   "metadata": {},
   "source": [
    "# Import  libraries "
   ]
  },
  {
   "cell_type": "code",
   "execution_count": 1,
   "metadata": {},
   "outputs": [],
   "source": [
    "import os\n",
    "import sys\n",
    "from pathlib import Path\n",
    "import rasterio\n",
    "from rasterio.merge import merge\n",
    "from rasterio.mask import mask\n",
    "from rasterio.transform import from_origin\n",
    "import geopandas as gpd\n",
    "import pandas as pd\n",
    "import numpy as np\n",
    "import numpy.ma as ma\n",
    "import matplotlib.pyplot as plt\n"
   ]
  },
  {
   "cell_type": "markdown",
   "metadata": {},
   "source": [
    "# Import Constants"
   ]
  },
  {
   "cell_type": "code",
   "execution_count": 2,
   "metadata": {},
   "outputs": [],
   "source": [
    "\n",
    "# Get the current working directory\n",
    "current_dir = os.path.abspath('')\n",
    "\n",
    "# Search for the 'constants.py' file starting from the current directory and moving up the hierarchy\n",
    "project_root = current_dir\n",
    "while not os.path.isfile(os.path.join(project_root, 'constants.py')):\n",
    "    project_root = os.path.dirname(project_root)\n",
    "\n",
    "# Add the project root to the Python path\n",
    "sys.path.append(project_root)\n"
   ]
  },
  {
   "cell_type": "code",
   "execution_count": 4,
   "metadata": {},
   "outputs": [],
   "source": [
    "from constants import HANSEN_LOSSYEAR_FILEPATHS, HANSEN_TREECOVER_FILEPATH, STUDY_BOUNDARY_PATH, OUTPUT_PATH"
   ]
  },
  {
   "cell_type": "code",
   "execution_count": 5,
   "metadata": {},
   "outputs": [],
   "source": [
    "study_boundary_gdf = gpd.read_file(STUDY_BOUNDARY_PATH)\n",
    "\n",
    "'''rasterio.open() expects a single file path as a string, \n",
    " pass the file path string directly. Since HANSEN_LOSSYEAR_FILEPATHS is a list, \n",
    " you can access the file path string by indexing the list with [0].\n",
    " '''\n",
    "# Reproject the study boundary to match the Hansen raster CRS\n",
    "with rasterio.open(HANSEN_LOSSYEAR_FILEPATHS[0]) as src:\n",
    "    hansen_crs = src.crs\n",
    "\n",
    "# Reproject the study boundary GeoDataFrame to match the Hansen raster CRS    \n",
    "study_boundary_gdf_reprojected = study_boundary_gdf.to_crs(hansen_crs)\n",
    "# Get the geometry column from the reprojected GeoDataFrame\n",
    "study_boundary_geom_reprojected = study_boundary_gdf_reprojected.geometry"
   ]
  },
  {
   "cell_type": "code",
   "execution_count": 6,
   "metadata": {},
   "outputs": [],
   "source": [
    "with rasterio.open(HANSEN_LOSSYEAR_FILEPATHS[0]) as hansen:\n",
    "    hansen_array = hansen.read(1)\n",
    "    hansen_crs = hansen.crs\n",
    "    out_transform = hansen.transform\n",
    "    out_meta = hansen.meta"
   ]
  },
  {
   "cell_type": "markdown",
   "metadata": {},
   "source": [
    "# Extract Pixel Function"
   ]
  },
  {
   "cell_type": "code",
   "execution_count": 13,
   "metadata": {},
   "outputs": [
    {
     "data": {
      "text/plain": [
       "\"While iterating through the years, the function also prints unique values for \\neach year's binary mask. These unique values should be either 0 or 1, \\nwhere 1 represents the pixels that have a deforestation event \\nfor that specific year, and 0 represents the pixels that do not.\""
      ]
     },
     "execution_count": 13,
     "metadata": {},
     "output_type": "execute_result"
    }
   ],
   "source": [
    "'''This function accepts raster data, a start year, and an end year as arguments. \n",
    "The function iterates through the years within the given range and \n",
    "creates a binary mask for each year where the raster values match the year. \n",
    "It then stores these binary masks in a dictionary with the corresponding year \n",
    "as the key.'''\n",
    "\n",
    "\n",
    "\n",
    "# Extract pixels corresponding to each year (2001-2021)\n",
    "# This will return binary but if we want to keep the encoded value of the \n",
    "# pixelReturns pixels encoded with value of 1 and zeros as NaN.\n",
    "#if `year_pixels[year_pixels == 0] = np.nan` is removed then will return \n",
    "# Unique values for year 2011: [0 1]. \n",
    "\n",
    "def extract_pixels_by_year_binary(raster_data, start_year, end_year):\n",
    "    year_data = {}\n",
    "    for year in range(start_year, end_year + 1):\n",
    "        year_pixels = (raster_data == year).astype(int) \n",
    "        year_data[year] = year_pixels\n",
    "\n",
    "        # Print unique values for each year\n",
    "        unique_values = np.unique(year_pixels)\n",
    "        print(f\"Unique values for year {year + 2000}: {unique_values}\") # Add 2000 to the year to get the correct year values\n",
    "    return year_data\n",
    "\n",
    "\n",
    "'''While iterating through the years, the function also prints unique values for \n",
    "each year's binary mask. These unique values should be either 0 or 1, \n",
    "where 1 represents the pixels that have a deforestation event \n",
    "for that specific year, and 0 represents the pixels that do not.'''\n",
    "\n",
    "\n",
    "\n"
   ]
  },
  {
   "cell_type": "markdown",
   "metadata": {},
   "source": [
    "# Extract Tree Cover >= 10%, Convert to Binary\n",
    "\n",
    "To extract pixels with 10% and above tree cover and write the resulting raster:\n",
    "\n",
    "1. Read the tree cover raster data.\n",
    "2. Create a binary mask for pixels with tree cover equal to or greater than 10%.\n",
    "3. Write the binary mask to a new raster file."
   ]
  },
  {
   "cell_type": "code",
   "execution_count": 7,
   "metadata": {},
   "outputs": [],
   "source": [
    "# Step 1: Read the tree cover raster data\n",
    "with rasterio.open(HANSEN_TREECOVER_FILEPATH[0]) as src:\n",
    "    tree_cover_array = src.read(1)\n",
    "    tree_cover_transform = src.transform\n",
    "    tree_cover_meta = src.meta\n",
    "\n",
    "# Step 2: Create a mask for pixels with tree cover equal to or greater than 10%\n",
    "'''np.where() to create a new array, masked_array,\n",
    "that contains the original tree cover values \n",
    "where the condition (tree cover >= 10%) is met and 0 for the other pixels. '''\n",
    "tree_cover_threshold = 10\n",
    "masked_array = np.where(tree_cover_array >= tree_cover_threshold, tree_cover_array, 0)\n",
    "\n",
    "# Step 3: Write the masked array to a new raster file\n",
    "output_dir = os.path.join(OUTPUT_PATH[0], 'tree_cover_10_percent_and_above_00')\n",
    "os.makedirs(output_dir, exist_ok=True)\n",
    "\n",
    "output_filepath = os.path.join(output_dir, 'tree_cover_10_percent_and_above_00.tif')\n",
    "with rasterio.open(output_filepath, 'w', **tree_cover_meta) as dst:\n",
    "    dst.write(masked_array, 1)\n",
    "    dst.transform = tree_cover_transform"
   ]
  },
  {
   "cell_type": "code",
   "execution_count": 9,
   "metadata": {},
   "outputs": [],
   "source": [
    "# Step 1: Read the existing tree cover raster\n",
    "with rasterio.open(output_filepath) as src:\n",
    "    tree_cover_10_and_above = src.read(1)\n",
    "\n",
    "# Step 2: Reclassify the tree cover data to have a value of 1 for tree cover >= 10% and 0 for tree cover < 10%\n",
    "binary_tree_cover_array = np.where(tree_cover_10_and_above > 0, 1, 0)\n",
    "\n",
    "# Step 3: Write the binary array to a new raster file\n",
    "output_filepath_treecover2010 = os.path.join(output_dir, 'treecover2010.tif')\n",
    "with rasterio.open(output_filepath_treecover2010, 'w', **tree_cover_meta) as dst:\n",
    "    dst.write(binary_tree_cover_array, 1)\n",
    "    dst.transform = tree_cover_transform"
   ]
  },
  {
   "cell_type": "code",
   "execution_count": 23,
   "metadata": {},
   "outputs": [
    {
     "name": "stdout",
     "output_type": "stream",
     "text": [
      "Unique values for year 2001: [0 1]\n",
      "Unique values for year 2002: [0 1]\n",
      "Unique values for year 2003: [0 1]\n",
      "Unique values for year 2004: [0 1]\n",
      "Unique values for year 2005: [0 1]\n",
      "Unique values for year 2006: [0 1]\n",
      "Unique values for year 2007: [0 1]\n",
      "Unique values for year 2008: [0 1]\n",
      "Unique values for year 2009: [0 1]\n",
      "Unique values for year 2010: [0 1]\n"
     ]
    }
   ],
   "source": [
    "output_dir = os.path.join(OUTPUT_PATH[0], 'deforestation-cumulative_0110')\n",
    "os.makedirs(output_dir, exist_ok=True)\n",
    "# Step 1: Read the existing treecover2000 raster\n",
    "with rasterio.open(os.path.join(OUTPUT_PATH[0], 'tree_cover_10_percent_and_above_00','tree_cover_10_percent_and_above_00.tif')) as src:\n",
    "    treecover2000 = src.read(1)\n",
    "\n",
    "# Step 2: Extract binary masks for each year in the lossyear raster\n",
    "pixels_by_year = extract_pixels_by_year_binary(hansen_array, 1, 10)\n",
    "\n",
    "# Step 3: Create a binary deforestation raster for years 1 to 10 (2001 to 2010)\n",
    "deforestation_1_to_10_binary = np.zeros_like(hansen_array, dtype=int)\n",
    "\n",
    "for year in range(1, 11):  # We use 11 because range's upper bound is exclusive\n",
    "    deforestation_1_to_10_binary = np.logical_or(deforestation_1_to_10_binary, pixels_by_year[year]).astype(int)\n",
    "\n",
    "# Step 4: Apply the deforestation mask to the treecover2000 raster\n",
    "# Pixels without deforestation = 1, pixels with deforestation = 0\n",
    "treecover2010 = np.where(deforestation_1_to_10_binary == 1, 0, 1)\n",
    "\n",
    "# Step 5: Write the treecover2010 array to a new raster file\n",
    "output_filepath_treecover2010 = os.path.join(output_dir, 'treecover2010.tif')\n",
    "with rasterio.open(output_filepath_treecover2010, 'w', **out_meta) as dst:\n",
    "    dst.write(treecover2010, 1)\n",
    "    dst.transform = out_transform\n",
    "\n"
   ]
  },
  {
   "cell_type": "markdown",
   "metadata": {},
   "source": [
    "# Create Deforestation 11-20"
   ]
  },
  {
   "cell_type": "code",
   "execution_count": 25,
   "metadata": {},
   "outputs": [
    {
     "name": "stdout",
     "output_type": "stream",
     "text": [
      "Unique values for year 2011: [0 1]\n",
      "Unique values for year 2012: [0 1]\n",
      "Unique values for year 2013: [0 1]\n",
      "Unique values for year 2014: [0 1]\n",
      "Unique values for year 2015: [0 1]\n",
      "Unique values for year 2016: [0 1]\n",
      "Unique values for year 2017: [0 1]\n",
      "Unique values for year 2018: [0 1]\n",
      "Unique values for year 2019: [0 1]\n",
      "Unique values for year 2020: [0 1]\n"
     ]
    }
   ],
   "source": [
    "# Extract pixels corresponding to each year (2011-2020)\n",
    "pixels_by_year = extract_pixels_by_year_binary(hansen_array, 11, 20)\n",
    "\n",
    "# Create a binary deforestation raster for years 11 to 20 (2011 to 2020)\n",
    "deforestation_11_to_20_binary = np.zeros_like(hansen_array, dtype=int)\n",
    "\n",
    "for year in range(11, 21):  # We use 21 because range's upper bound is exclusive\n",
    "    deforestation_11_to_20_binary += pixels_by_year[year]\n",
    "\n",
    "# Convert the values to 1 where there was deforestation (values > 0)\n",
    "deforestation_11_to_20_binary = (deforestation_11_to_20_binary > 0).astype(int)\n",
    "\n",
    "# Write this to a new raster file\n",
    "output_filepath_deforestation11_20 = os.path.join(output_dir, 'deforestation11_20.tif')\n",
    "with rasterio.open(output_filepath_deforestation11_20, 'w', **out_meta) as dst:\n",
    "    dst.write(deforestation_11_to_20_binary, 1)\n",
    "    dst.transform = out_transform\n"
   ]
  }
 ],
 "metadata": {
  "kernelspec": {
   "display_name": "Python 3.11.3 ('pyforest')",
   "language": "python",
   "name": "python3"
  },
  "language_info": {
   "codemirror_mode": {
    "name": "ipython",
    "version": 3
   },
   "file_extension": ".py",
   "mimetype": "text/x-python",
   "name": "python",
   "nbconvert_exporter": "python",
   "pygments_lexer": "ipython3",
   "version": "3.11.3"
  },
  "orig_nbformat": 4,
  "vscode": {
   "interpreter": {
    "hash": "aca51edb778be56207d5a76d5369999259e96b3950a8b6f86c3be07548c77925"
   }
  }
 },
 "nbformat": 4,
 "nbformat_minor": 2
}
