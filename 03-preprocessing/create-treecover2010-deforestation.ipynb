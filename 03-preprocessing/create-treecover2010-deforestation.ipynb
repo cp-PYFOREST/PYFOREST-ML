{
 "cells": [
  {
   "cell_type": "markdown",
   "metadata": {},
   "source": [
    "# Create Individual Deforestation Files From Hansen Dataset"
   ]
  },
  {
   "cell_type": "markdown",
   "metadata": {},
   "source": [
    "The purpose of this notebook is two fold:\n",
    "1. Extract pixels:Takes the 'lossyear' image from the Hansen et al. (2013) dataset and creates a tiff file deforestation_year for each year desired. Take the 'treecover2000' and filter for pixels greater than 10%. \n",
    "2. 'lossyear' and 'treecover2000' also need to be cropped so that pixels are only within the boundary of the active property of that year. "
   ]
  },
  {
   "cell_type": "markdown",
   "metadata": {},
   "source": [
    "# Import  libraries "
   ]
  },
  {
   "cell_type": "code",
   "execution_count": 1,
   "metadata": {},
   "outputs": [],
   "source": [
    "import os\n",
    "import sys\n",
    "from pathlib import Path\n",
    "import rasterio\n",
    "from rasterio.merge import merge\n",
    "from rasterio.mask import mask\n",
    "from rasterio.transform import from_origin\n",
    "import geopandas as gpd\n",
    "import pandas as pd\n",
    "import numpy as np\n",
    "import numpy.ma as ma\n",
    "import matplotlib.pyplot as plt\n"
   ]
  },
  {
   "cell_type": "markdown",
   "metadata": {},
   "source": [
    "# Import Constants"
   ]
  },
  {
   "cell_type": "code",
   "execution_count": 2,
   "metadata": {},
   "outputs": [],
   "source": [
    "\n",
    "# Get the current working directory\n",
    "current_dir = os.path.abspath('')\n",
    "\n",
    "# Search for the 'constants.py' file starting from the current directory and moving up the hierarchy\n",
    "project_root = current_dir\n",
    "while not os.path.isfile(os.path.join(project_root, 'constants.py')):\n",
    "    project_root = os.path.dirname(project_root)\n",
    "\n",
    "# Add the project root to the Python path\n",
    "sys.path.append(project_root)\n"
   ]
  },
  {
   "cell_type": "code",
   "execution_count": 3,
   "metadata": {},
   "outputs": [],
   "source": [
    "from constants import HANSEN_LOSSYEAR_FILEPATHS, HANSEN_TREECOVER_FILEPATH, STUDY_BOUNDARY_PATH, LUP_YEAR_PATHS, OUTPUT_PATH"
   ]
  },
  {
   "cell_type": "code",
   "execution_count": 4,
   "metadata": {},
   "outputs": [],
   "source": [
    "study_boundary_gdf = gpd.read_file(STUDY_BOUNDARY_PATH)\n",
    "\n",
    "'''rasterio.open() expects a single file path as a string, \n",
    " pass the file path string directly. Since HANSEN_LOSSYEAR_FILEPATHS is a list, \n",
    " you can access the file path string by indexing the list with [0].\n",
    " '''\n",
    "# Reproject the study boundary to match the Hansen raster CRS\n",
    "with rasterio.open(HANSEN_LOSSYEAR_FILEPATHS[0]) as src:\n",
    "    hansen_crs = src.crs\n",
    "\n",
    "# Reproject the study boundary GeoDataFrame to match the Hansen raster CRS    \n",
    "study_boundary_gdf_reprojected = study_boundary_gdf.to_crs(hansen_crs)\n",
    "# Get the geometry column from the reprojected GeoDataFrame\n",
    "study_boundary_geom_reprojected = study_boundary_gdf_reprojected.geometry"
   ]
  },
  {
   "cell_type": "code",
   "execution_count": 5,
   "metadata": {},
   "outputs": [],
   "source": [
    "with rasterio.open(HANSEN_LOSSYEAR_FILEPATHS[0]) as hansen:\n",
    "    hansen_array = hansen.read(1)\n",
    "    hansen_crs = hansen.crs\n",
    "    out_transform = hansen.transform\n",
    "    out_meta = hansen.meta"
   ]
  },
  {
   "cell_type": "markdown",
   "metadata": {},
   "source": [
    "# Extract Tree Cover >= 10%\n",
    "\n",
    "To extract pixels with 10% and above tree cover and write the resulting raster:\n",
    "\n",
    "1. Read the tree cover raster data.\n",
    "2. Create a binary mask for pixels with tree cover equal to or greater than 10%.\n",
    "3. Write the binary mask to a new raster file."
   ]
  },
  {
   "cell_type": "code",
   "execution_count": 12,
   "metadata": {},
   "outputs": [],
   "source": [
    "# Step 1: Read the tree cover raster data\n",
    "with rasterio.open(HANSEN_TREECOVER_FILEPATH[0]) as src:\n",
    "    tree_cover_array = src.read(1)\n",
    "    tree_cover_transform = src.transform\n",
    "    tree_cover_meta = src.meta\n",
    "\n",
    "# Step 2: Create a mask for pixels with tree cover equal to or greater than 10%\n",
    "'''np.where() to create a new array, masked_array,\n",
    "that contains the original tree cover values \n",
    "where the condition (tree cover >= 10%) is met and 0 for the other pixels. '''\n",
    "tree_cover_threshold = 10\n",
    "masked_array = np.where(tree_cover_array >= tree_cover_threshold, tree_cover_array, 0)\n",
    "\n",
    "# Step 3: Write the masked array to a new raster file\n",
    "output_dir = os.path.join(OUTPUT_PATH[0], 'tree_cover_10_percent_and_above_00')\n",
    "os.makedirs(output_dir, exist_ok=True)\n",
    "\n",
    "output_filepath = os.path.join(output_dir, 'tree_cover_10_percent_and_above_00.tif')\n",
    "with rasterio.open(output_filepath, 'w', **tree_cover_meta) as dst:\n",
    "    dst.write(masked_array, 1)\n",
    "    dst.transform = tree_cover_transform"
   ]
  },
  {
   "cell_type": "markdown",
   "metadata": {},
   "source": [
    "# Extract-Mask Pixels Treecover2010"
   ]
  },
  {
   "cell_type": "code",
   "execution_count": 7,
   "metadata": {},
   "outputs": [],
   "source": [
    "def extract_pixels_by_year_cumulative(raster_data, start_year, end_year):\n",
    "    year_data = {}\n",
    "    cumulative_pixels = np.zeros_like(raster_data, dtype=int)\n",
    "    \n",
    "    for year in range(start_year, end_year + 1):\n",
    "        year_pixels = (raster_data == year).astype(int)\n",
    "        cumulative_pixels += year_pixels\n",
    "        year_data[year] = cumulative_pixels.copy()\n",
    "\n",
    "        # Print unique values for each year\n",
    "        unique_values = np.unique(year_pixels)\n",
    "        print(f\"Unique values for year {year + 2000}: {unique_values}\") # Add 2000 to the year to get the correct year values\n",
    "    return year_data\n",
    "\n"
   ]
  },
  {
   "cell_type": "code",
   "execution_count": 14,
   "metadata": {},
   "outputs": [
    {
     "name": "stdout",
     "output_type": "stream",
     "text": [
      "Unique values for year 2001: [0 1]\n",
      "Unique values for year 2002: [0 1]\n",
      "Unique values for year 2003: [0 1]\n",
      "Unique values for year 2004: [0 1]\n",
      "Unique values for year 2005: [0 1]\n",
      "Unique values for year 2006: [0 1]\n",
      "Unique values for year 2007: [0 1]\n",
      "Unique values for year 2008: [0 1]\n",
      "Unique values for year 2009: [0 1]\n",
      "Unique values for year 2010: [0 1]\n"
     ]
    }
   ],
   "source": [
    "pixels_by_year = extract_pixels_by_year_cumulative(hansen_array, 1, 10)"
   ]
  },
  {
   "cell_type": "code",
   "execution_count": 15,
   "metadata": {},
   "outputs": [],
   "source": [
    "output_dir = os.path.join(OUTPUT_PATH[0], 'deforestation-cumulative_0110')\n",
    "os.makedirs(output_dir, exist_ok=True)\n",
    "# Step 1: Create a cumulative deforestation raster for years 1 to 10\n",
    "deforestation_1_to_10 = np.zeros_like(hansen_array, dtype=int)\n",
    "\n",
    "for year in range(1, 11):\n",
    "    deforestation_1_to_10 += pixels_by_year[year]\n",
    "\n",
    "# Step 2: Write this to a new raster file\n",
    "output_filepath = os.path.join(output_dir, 'deforestation_1_to_10.tif')\n",
    "with rasterio.open(output_filepath, 'w', **out_meta) as dst:\n",
    "    dst.write(deforestation_1_to_10, 1)\n",
    "    dst.transform = out_transform\n",
    "\n",
    "# Step 3: Read the newly created deforestation raster file\n",
    "with rasterio.open(output_filepath) as src:\n",
    "    deforestation_1_to_10 = src.read(1)\n",
    "\n",
    "# Step 4: Mask the tree cover data with the deforestation data\n",
    "masked_tree_cover_array = np.where(deforestation_1_to_10 > 0, tree_cover_array, 0)\n",
    "\n",
    "# Step 5: Reclassify the masked tree cover data to have a value of 1 for forest and 0 for non-forest\n",
    "reclassified_tree_cover_array = np.where(masked_tree_cover_array >= tree_cover_threshold, 1, 0)\n",
    "\n",
    "# Step 6: Write the reclassified array to a new raster file\n",
    "output_filepath = os.path.join(output_dir, 'reclassified_tree_cover_10.tif')\n",
    "with rasterio.open(output_filepath, 'w', **tree_cover_meta) as dst:\n",
    "    dst.write(reclassified_tree_cover_array, 1)\n",
    "    dst.transform = tree_cover_transform\n"
   ]
  },
  {
   "cell_type": "markdown",
   "metadata": {},
   "source": [
    "# Create Deforestation 11-20"
   ]
  },
  {
   "cell_type": "code",
   "execution_count": 16,
   "metadata": {},
   "outputs": [
    {
     "name": "stdout",
     "output_type": "stream",
     "text": [
      "Unique values for year 2011: [0 1]\n",
      "Unique values for year 2012: [0 1]\n",
      "Unique values for year 2013: [0 1]\n",
      "Unique values for year 2014: [0 1]\n",
      "Unique values for year 2015: [0 1]\n",
      "Unique values for year 2016: [0 1]\n",
      "Unique values for year 2017: [0 1]\n",
      "Unique values for year 2018: [0 1]\n",
      "Unique values for year 2019: [0 1]\n",
      "Unique values for year 2020: [0 1]\n"
     ]
    }
   ],
   "source": [
    "output_dir = os.path.join(OUTPUT_PATH[0], 'deforestation-cumulative_0110')\n",
    "os.makedirs(output_dir, exist_ok=True)\n",
    "# Generate cumulative deforestation data for years 12 to 21\n",
    "pixels_by_year_11_to_20 = extract_pixels_by_year_cumulative(hansen_array, 11, 20)\n",
    "\n",
    "# Create a cumulative deforestation raster for years 12 to 21\n",
    "deforestation_11_to_20 = np.zeros_like(hansen_array, dtype=int)\n",
    "\n",
    "for year in range(11, 21):  # We use 22 because range's upper bound is exclusive\n",
    "    deforestation_11_to_20 += pixels_by_year_11_to_20[year]\n",
    "\n",
    "# Write this to a new raster file\n",
    "output_filepath_11_to_20 = os.path.join(output_dir, 'deforestation_11_to_20.tif')\n",
    "with rasterio.open(output_filepath_11_to_20, 'w', **out_meta) as dst:\n",
    "    dst.write(deforestation_11_to_20, 1)\n",
    "    dst.transform = out_transform\n"
   ]
  },
  {
   "cell_type": "code",
   "execution_count": null,
   "metadata": {},
   "outputs": [],
   "source": []
  }
 ],
 "metadata": {
  "kernelspec": {
   "display_name": "Python 3.11.3 ('pyforest')",
   "language": "python",
   "name": "python3"
  },
  "language_info": {
   "codemirror_mode": {
    "name": "ipython",
    "version": 3
   },
   "file_extension": ".py",
   "mimetype": "text/x-python",
   "name": "python",
   "nbconvert_exporter": "python",
   "pygments_lexer": "ipython3",
   "version": "3.11.3"
  },
  "orig_nbformat": 4,
  "vscode": {
   "interpreter": {
    "hash": "aca51edb778be56207d5a76d5369999259e96b3950a8b6f86c3be07548c77925"
   }
  }
 },
 "nbformat": 4,
 "nbformat_minor": 2
}
