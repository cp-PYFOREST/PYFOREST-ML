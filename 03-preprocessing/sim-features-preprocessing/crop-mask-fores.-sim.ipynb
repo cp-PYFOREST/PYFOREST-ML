{
 "cells": [
  {
   "cell_type": "markdown",
   "metadata": {},
   "source": [
    "# Import Libraries"
   ]
  },
  {
   "cell_type": "code",
   "execution_count": 1,
   "metadata": {},
   "outputs": [],
   "source": [
    "import os\n",
    "import sys\n",
    "import rasterio\n",
    "import numpy as np\n",
    "import pandas as pd\n",
    "import matplotlib.pyplot as plt\n",
    "import shutil\n",
    "from pathlib import Path\n",
    "from rasterio.mask import mask\n",
    "from rasterio.enums import Resampling\n",
    "from rasterio.warp import reproject, Resampling\n",
    "\n"
   ]
  },
  {
   "cell_type": "markdown",
   "metadata": {},
   "source": [
    "# Import Constants"
   ]
  },
  {
   "cell_type": "code",
   "execution_count": 2,
   "metadata": {},
   "outputs": [],
   "source": [
    "# Get the current working directory\n",
    "current_dir = os.path.abspath('')\n",
    "\n",
    "# Search for the 'constants.py' file starting from the current directory and moving up the hierarchy\n",
    "project_root = current_dir\n",
    "while not os.path.isfile(os.path.join(project_root, 'constants.py')):\n",
    "    project_root = os.path.dirname(project_root)\n",
    "\n",
    "# Add the project root to the Python path\n",
    "sys.path.append(project_root)\n"
   ]
  },
  {
   "cell_type": "code",
   "execution_count": 9,
   "metadata": {},
   "outputs": [],
   "source": [
    "from constants import (SERVER_PATH,\n",
    "OUTPUT_PATH, MASKED_RASTERS_SIM_DIR, SIMULATION_FEATURES_DIR)\n"
   ]
  },
  {
   "cell_type": "code",
   "execution_count": 10,
   "metadata": {},
   "outputs": [
    {
     "data": {
      "text/plain": [
       "['/Users/romero61/../../capstone/pyforest/ml_data/output/sim_lup_features']"
      ]
     },
     "execution_count": 10,
     "metadata": {},
     "output_type": "execute_result"
    }
   ],
   "source": [
    "SIMULATION_FEATURES_DIR"
   ]
  },
  {
   "cell_type": "code",
   "execution_count": 6,
   "metadata": {},
   "outputs": [],
   "source": [
    "# Constants\n",
    "# update the first rasters_to_use_as_mask with the folder with the raster you want to use as a mask\n",
    "raster_to_use_as_mask25 =  rasterio.open(os.path.join(MASKED_RASTERS_SIM_DIR[0], 'treecover_2010_masked_sim25.tif'))\n",
    "\n",
    "raster_to_use_as_mask50 =  rasterio.open(os.path.join(MASKED_RASTERS_SIM_DIR[0], 'treecover_2010_masked_sim50.tif'))\n",
    "\n",
    "\n",
    "raster_to_use_as_mask5 =  rasterio.open(os.path.join(MASKED_RASTERS_SIM_DIR[0], 'treecover_2010_masked_sim5.tif'))\n",
    "\n",
    "\n",
    "raster_to_use_as_maskhedges =  rasterio.open(os.path.join(MASKED_RASTERS_SIM_DIR[0], 'treecover_2010_masked_simhedges.tif'))\n",
    "\n",
    "\n"
   ]
  },
  {
   "cell_type": "code",
   "execution_count": 12,
   "metadata": {},
   "outputs": [],
   "source": [
    "def treecover_mask(input_mask_ds, input_raster, output_raster_path):\n",
    "    # Read the data from the mask raster\n",
    "    mask = input_mask_ds.read(1)\n",
    "\n",
    "    # Open the second raster\n",
    "    with rasterio.open(input_raster) as second_ds:\n",
    "        profile = second_ds.profile\n",
    "        second_raster = second_ds.read(1)\n",
    "\n",
    "    # Create a mask where forest is 0 (nonforested)\n",
    "    mask = mask == 0\n",
    "\n",
    "    # Apply the mask to the second raster, setting those values to -1\n",
    "    second_raster[mask] = -1\n",
    "\n",
    "    # Update the profile for the output raster\n",
    "    profile.update(\n",
    "        dtype=rasterio.float32,\n",
    "        nodata=-1\n",
    "    )\n",
    "\n",
    "    # Save the result to a new file\n",
    "    with rasterio.open(output_raster_path, 'w', **profile) as dst:\n",
    "        dst.write(second_raster.astype(rasterio.float32), 1)"
   ]
  },
  {
   "cell_type": "markdown",
   "metadata": {},
   "source": [
    "# Process Files"
   ]
  },
  {
   "cell_type": "code",
   "execution_count": 8,
   "metadata": {},
   "outputs": [
    {
     "data": {
      "text/plain": [
       "['/Users/romero61/../../capstone/pyforest/ml_data/output/masked_rasters_sims']"
      ]
     },
     "execution_count": 8,
     "metadata": {},
     "output_type": "execute_result"
    }
   ],
   "source": [
    "MASKED_RASTERS_SIM_DIR"
   ]
  },
  {
   "cell_type": "markdown",
   "metadata": {},
   "source": [
    "##  Stacks"
   ]
  },
  {
   "cell_type": "markdown",
   "metadata": {},
   "source": [
    "# 25"
   ]
  },
  {
   "cell_type": "code",
   "execution_count": null,
   "metadata": {},
   "outputs": [],
   "source": [
    "output_folder = os.path.join(SERVER_PATH, 'ml_data', 'output','tree_masked_rasters_sim25')"
   ]
  },
  {
   "cell_type": "code",
   "execution_count": 11,
   "metadata": {},
   "outputs": [],
   "source": [
    "# Mask land use plan\n",
    "input_lup_10 = os.path.join(SIMULATION_FEATURES_DIR[0], 'sim25_raster.tif')\n",
    "lup_output_raster = os.path.join(output_folder, 'lup_25_treemask.tif')\n",
    "treecover_mask(raster_to_use_as_mask25, input_lup_10, lup_output_raster)\n",
    "\n",
    "# Mask distance to river raster\n",
    "input_river = os.path.join(MASKED_RASTERS_DIR[0], 'river_masked.tif')\n",
    "river_output_raster = os.path.join(output_folder, 'river_treemask.tif')\n",
    "treecover_mask(raster_to_use_as_mask25, input_river, river_output_raster)\n",
    "\n",
    "\n",
    "# Mask distance to road raster\n",
    "input_road = os.path.join(MASKED_RASTERS_DIR[0], 'road_masked.tif')\n",
    "road_output_raster = os.path.join(output_folder, 'road_treemask.tif')\n",
    "treecover_mask(raster_to_use_as_mask25, input_road, road_output_raster)\n",
    "\n",
    "# Mask soil \n",
    "input_soil = os.path.join(MASKED_RASTERS_DIR[0], 'soil_masked.tif')\n",
    "soil_output_raster = os.path.join(output_folder, 'soil_treemask.tif')\n",
    "treecover_mask(raster_to_use_as_mask25, input_soil, soil_output_raster)\n",
    "\n",
    "# Mask precipitation \n",
    "input_precipitation = os.path.join(MASKED_RASTERS_DIR[0], 'precipitation_masked.tif')\n",
    "precipitation_output_raster = os.path.join(output_folder, 'precipitation_treemask.tif')\n",
    "treecover_mask(raster_to_use_as_mask25, input_precipitation, precipitation_output_raster)\n",
    "\n",
    "# Mask ports\n",
    "input_ports = os.path.join(MASKED_RASTERS_DIR[0], 'ports_masked.tif')\n",
    "ports_output_raster = os.path.join(output_folder, 'ports_treemask.tif')\n",
    "treecover_mask(raster_to_use_as_mask25, input_ports, ports_output_raster)\n",
    "\n",
    "# Mask cities\n",
    "input_cities = os.path.join(MASKED_RASTERS_DIR[0], 'cities_masked.tif')\n",
    "cities_output_raster = os.path.join(output_folder, 'cities_treemask.tif')\n",
    "treecover_mask(raster_to_use_as_mask25, input_cities, cities_output_raster)\n",
    "\n"
   ]
  },
  {
   "cell_type": "markdown",
   "metadata": {},
   "source": [
    "# 50"
   ]
  },
  {
   "cell_type": "code",
   "execution_count": null,
   "metadata": {},
   "outputs": [],
   "source": [
    "output_folder = os.path.join(SERVER_PATH, 'ml_data', 'output','tree_masked_rasters_sim25')"
   ]
  },
  {
   "cell_type": "code",
   "execution_count": 13,
   "metadata": {},
   "outputs": [],
   "source": []
  },
  {
   "cell_type": "markdown",
   "metadata": {},
   "source": [
    "# 5"
   ]
  },
  {
   "cell_type": "code",
   "execution_count": null,
   "metadata": {},
   "outputs": [],
   "source": [
    "output_folder = os.path.join(SERVER_PATH, 'ml_data', 'output','tree_masked_rasters_sim25')"
   ]
  },
  {
   "cell_type": "code",
   "execution_count": 14,
   "metadata": {},
   "outputs": [],
   "source": []
  },
  {
   "cell_type": "markdown",
   "metadata": {},
   "source": [
    "# Hedges"
   ]
  },
  {
   "cell_type": "code",
   "execution_count": null,
   "metadata": {},
   "outputs": [],
   "source": [
    "output_folder = os.path.join(SERVER_PATH, 'ml_data', 'output','tree_masked_rasters_sim25')"
   ]
  },
  {
   "cell_type": "code",
   "execution_count": 15,
   "metadata": {},
   "outputs": [],
   "source": []
  },
  {
   "cell_type": "code",
   "execution_count": null,
   "metadata": {},
   "outputs": [],
   "source": []
  },
  {
   "cell_type": "code",
   "execution_count": 6,
   "metadata": {},
   "outputs": [],
   "source": []
  },
  {
   "cell_type": "code",
   "execution_count": 7,
   "metadata": {},
   "outputs": [],
   "source": []
  }
 ],
 "metadata": {
  "kernelspec": {
   "display_name": "Python 3.11.3 ('pyforest')",
   "language": "python",
   "name": "python3"
  },
  "language_info": {
   "codemirror_mode": {
    "name": "ipython",
    "version": 3
   },
   "file_extension": ".py",
   "mimetype": "text/x-python",
   "name": "python",
   "nbconvert_exporter": "python",
   "pygments_lexer": "ipython3",
   "version": "3.11.3"
  },
  "orig_nbformat": 4,
  "vscode": {
   "interpreter": {
    "hash": "aca51edb778be56207d5a76d5369999259e96b3950a8b6f86c3be07548c77925"
   }
  }
 },
 "nbformat": 4,
 "nbformat_minor": 2
}
