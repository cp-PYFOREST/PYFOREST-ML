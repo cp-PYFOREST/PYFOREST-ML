{
 "cells": [
  {
   "cell_type": "markdown",
   "metadata": {},
   "source": [
    "For Predictions of Simulated land use plans.\n",
    "These go directly into feature stack no need to crop and mask"
   ]
  },
  {
   "cell_type": "markdown",
   "metadata": {},
   "source": [
    "# Imports"
   ]
  },
  {
   "cell_type": "code",
   "execution_count": 6,
   "metadata": {},
   "outputs": [],
   "source": [
    "import os\n",
    "import sys\n",
    "import math\n",
    "import rasterio\n",
    "from rasterio.features import rasterize\n",
    "from rasterio.transform import from_origin\n",
    "import fiona\n",
    "import pandas as pd\n",
    "import geopandas as gpd\n",
    "from rasterio import features\n",
    "import numpy as np\n",
    "import matplotlib.pyplot as plt\n",
    "from rasterio.plot import show\n",
    "from scipy.ndimage import distance_transform_edt\n"
   ]
  },
  {
   "cell_type": "code",
   "execution_count": 7,
   "metadata": {},
   "outputs": [],
   "source": [
    "# Get the current working directory\n",
    "current_dir = os.path.abspath('')\n",
    "\n",
    "# Search for the 'constants.py' file starting from the current directory and moving up the hierarchy\n",
    "project_root = current_dir\n",
    "while not os.path.isfile(os.path.join(project_root, 'constants.py')):\n",
    "    project_root = os.path.dirname(project_root)\n",
    "\n",
    "# Add the project root to the Python path\n",
    "sys.path.append(project_root)"
   ]
  },
  {
   "cell_type": "code",
   "execution_count": 8,
   "metadata": {},
   "outputs": [],
   "source": [
    "from constants import TREECOVER_2010, OUTPUT_PATH, ROAD_PATH , RIVER_PATH, SIMULATION_FEATURES_DIR"
   ]
  },
  {
   "cell_type": "markdown",
   "metadata": {},
   "source": [
    "# Pixel Distance to Nearest Road\n",
    "\n",
    "Here we determine the distance to Roads and Rivers within the land use plans."
   ]
  },
  {
   "cell_type": "code",
   "execution_count": 9,
   "metadata": {},
   "outputs": [],
   "source": [
    "lup_raster_25 = rasterio.open(os.path.join(SIMULATION_FEATURES_DIR[0],'sim25', 'sim25_raster.tif'))\n",
    "# Read the raster data into a NumPy array\n",
    "lup_raster_array_25 = lup_raster_25.read(1)\n"
   ]
  },
  {
   "cell_type": "code",
   "execution_count": 12,
   "metadata": {},
   "outputs": [],
   "source": [
    "lup_raster_50 = rasterio.open(os.path.join(SIMULATION_FEATURES_DIR[0],'sim50', 'sim50_raster.tif'))\n",
    "# Read the raster data into a NumPy array\n",
    "lup_raster_array_50 = lup_raster_50.read(1)"
   ]
  },
  {
   "cell_type": "code",
   "execution_count": null,
   "metadata": {},
   "outputs": [],
   "source": [
    "lup_raster_5 = rasterio.open(os.path.join(SIMULATION_FEATURES_DIR[0], 'sim5', 'sim5_raster.tif'))\n",
    "# Read the raster data into a NumPy array\n",
    "lup_raster_array_5 = lup_raster_5.read(1)"
   ]
  },
  {
   "cell_type": "code",
   "execution_count": null,
   "metadata": {},
   "outputs": [],
   "source": [
    "lup_raster_hedges = rasterio.open(os.path.join(SIMULATION_FEATURES_DIR[0], 'simhedges','simhedges_raster.tif'))\n",
    "# Read the raster data into a NumPy array\n",
    "lup_raster_array_hedges = lup_raster_hedges.read(1)"
   ]
  },
  {
   "cell_type": "code",
   "execution_count": null,
   "metadata": {},
   "outputs": [],
   "source": [
    "# Read in road vector\n",
    "vector = gpd.read_file(ROAD_PATH[0]).to_crs(\"EPSG:4326\")\n",
    "\n",
    "# Get list of geometries for all features in vector file\n",
    "geom = [shapes for shapes in vector.geometry]\n",
    "\n"
   ]
  },
  {
   "cell_type": "code",
   "execution_count": 11,
   "metadata": {},
   "outputs": [
    {
     "data": {
      "text/plain": [
       "CRS.from_epsg(4326)"
      ]
     },
     "execution_count": 11,
     "metadata": {},
     "output_type": "execute_result"
    }
   ],
   "source": [
    "lup_raster_25.crs"
   ]
  },
  {
   "cell_type": "code",
   "execution_count": 10,
   "metadata": {},
   "outputs": [],
   "source": [
    "# Open example raster for profile details\n",
    "raster = rasterio.open(TREECOVER_2010)\n",
    "\n",
    "#"
   ]
  },
  {
   "cell_type": "code",
   "execution_count": 11,
   "metadata": {},
   "outputs": [],
   "source": [
    "# Rasterize road vector using the shape and coordinate system of the raster\n",
    "rasterized = features.rasterize(geom,\n",
    "                                out_shape = raster.shape,\n",
    "                                fill = -1,\n",
    "                                out = None,\n",
    "                                transform = raster.transform,\n",
    "                                all_touched = False,\n",
    "                                default_value = 1,\n",
    "                                dtype = None)\n",
    "\n"
   ]
  },
  {
   "cell_type": "code",
   "execution_count": 12,
   "metadata": {},
   "outputs": [
    {
     "data": {
      "text/plain": [
       "{'driver': 'GTiff', 'dtype': 'float32', 'nodata': -1, 'width': 20381, 'height': 22512, 'count': 1, 'crs': CRS.from_epsg(4326), 'transform': Affine(0.00026949458523585647, 0.0, -62.64186038139295,\n",
       "       0.0, -0.00026949458523585647, -19.287457970745013), 'tiled': False, 'interleave': 'band'}"
      ]
     },
     "execution_count": 12,
     "metadata": {},
     "output_type": "execute_result"
    }
   ],
   "source": [
    "# Modify the nodata value and the data type in the raster profile\n",
    "profile = raster.profile\n",
    "profile.update(nodata=-1, dtype='float32')\n",
    "\n",
    "profile\n"
   ]
  },
  {
   "cell_type": "code",
   "execution_count": 13,
   "metadata": {},
   "outputs": [],
   "source": [
    "# Where files will save, can add subfolders if desired\n",
    "output_dir = os.path.join(OUTPUT_PATH[0], 'processed_rasters', 'road_raster_sims')\n",
    "os.makedirs(output_dir, exist_ok=True)"
   ]
  },
  {
   "cell_type": "markdown",
   "metadata": {},
   "source": [
    "# Create Distance to roads for Simulation"
   ]
  },
  {
   "cell_type": "code",
   "execution_count": 14,
   "metadata": {},
   "outputs": [],
   "source": [
    "# Convert the rasterized array to boolean where True represents roads\n",
    "road_mask = rasterized == 1"
   ]
  },
  {
   "cell_type": "code",
   "execution_count": 15,
   "metadata": {},
   "outputs": [],
   "source": [
    "# Calculate the Euclidean distance from each road pixel to every other pixel\n",
    "distances = distance_transform_edt(~road_mask)\n"
   ]
  },
  {
   "cell_type": "markdown",
   "metadata": {},
   "source": [
    "# Process"
   ]
  },
  {
   "cell_type": "markdown",
   "metadata": {},
   "source": [
    "### 25%"
   ]
  },
  {
   "cell_type": "code",
   "execution_count": 21,
   "metadata": {},
   "outputs": [],
   "source": [
    "\n",
    "\n",
    "# Convert the lup_raster array to boolean where True represents the area of interest\n",
    "area_mask = np.isin(lup_raster_array_25, [1, 2, 3, 4])\n",
    "\n",
    "# For pixels outside the area of interest, set the distance to a nodata value\n",
    "distances[~area_mask] = -1\n",
    "\n",
    "output_filepath = os.path.join(output_dir, 'road_raster_sim25.tif')\n",
    "\n",
    "# Write the rasterized data to a new GeoTIFF file\n",
    "with rasterio.open(output_filepath, 'w', **profile) as dst:\n",
    "    dst.write(distances.astype('float32'), 1)"
   ]
  },
  {
   "cell_type": "markdown",
   "metadata": {},
   "source": [
    "### 50%"
   ]
  },
  {
   "cell_type": "code",
   "execution_count": 22,
   "metadata": {},
   "outputs": [],
   "source": [
    "# Convert the lup_raster array to boolean where True represents the area of interest\n",
    "area_mask = np.isin(lup_raster_array_50, [1, 2, 3, 4])\n",
    "\n",
    "\n",
    "# For pixels outside the area of interest, set the distance to a nodata value\n",
    "distances[~area_mask] = -1\n",
    "\n",
    "output_filepath = os.path.join(output_dir, 'road_raster_sim50.tif')\n",
    "\n",
    "# Write the rasterized data to a new GeoTIFF file\n",
    "with rasterio.open(output_filepath, 'w', **profile) as dst:\n",
    "    dst.write(distances.astype('float32'), 1)"
   ]
  },
  {
   "cell_type": "markdown",
   "metadata": {},
   "source": [
    "### 5%"
   ]
  },
  {
   "cell_type": "code",
   "execution_count": 16,
   "metadata": {},
   "outputs": [],
   "source": [
    "# Convert the lup_raster array to boolean where True represents the area of interest\n",
    "area_mask = np.isin(lup_raster_array_5, [1, 2, 3, 4])\n",
    "\n",
    "\n",
    "# For pixels outside the area of interest, set the distance to a nodata value\n",
    "distances[~area_mask] = -1\n",
    "\n",
    "output_filepath = os.path.join(output_dir, 'road_raster_sim5.tif')\n",
    "\n",
    "# Write the rasterized data to a new GeoTIFF file\n",
    "with rasterio.open(output_filepath, 'w', **profile) as dst:\n",
    "    dst.write(distances.astype('float32'), 1)\n",
    "\n",
    "\n",
    "\n"
   ]
  },
  {
   "cell_type": "markdown",
   "metadata": {},
   "source": [
    "### HEDGEROWS"
   ]
  },
  {
   "cell_type": "code",
   "execution_count": 17,
   "metadata": {},
   "outputs": [],
   "source": [
    "# Convert the lup_raster array to boolean where True represents the area of interest\n",
    "area_mask = np.isin(lup_raster_array_hedges, [1, 2, 3, 4])\n",
    "\n",
    "\n",
    "# For pixels outside the area of interest, set the distance to a nodata value\n",
    "distances[~area_mask] = -1\n",
    "\n",
    "output_filepath = os.path.join(output_dir, 'road_raster_simhedges.tif')\n",
    "\n",
    "# Write the rasterized data to a new GeoTIFF file\n",
    "with rasterio.open(output_filepath, 'w', **profile) as dst:\n",
    "    dst.write(distances.astype('float32'), 1)"
   ]
  },
  {
   "cell_type": "markdown",
   "metadata": {},
   "source": [
    "# Pixel Distance to Nearest River"
   ]
  },
  {
   "cell_type": "code",
   "execution_count": 18,
   "metadata": {},
   "outputs": [],
   "source": [
    "# Where files will save, can add subfolders if desired\n",
    "output_dir = os.path.join(OUTPUT_PATH[0], 'processed_rasters', 'river_raster_sims')\n",
    "os.makedirs(output_dir, exist_ok=True)"
   ]
  },
  {
   "cell_type": "code",
   "execution_count": 21,
   "metadata": {},
   "outputs": [],
   "source": [
    "# Read in vector\n",
    "vector_river = gpd.read_file(RIVER_PATH[0]).to_crs(\"EPSG:4326\")\n",
    "\n",
    "# Get list of geometries for all features in vector file\n",
    "geom_river = [shapes for shapes in vector_river.geometry]\n"
   ]
  },
  {
   "cell_type": "code",
   "execution_count": 22,
   "metadata": {},
   "outputs": [],
   "source": [
    "# Rasterize vector using the shape and coordinate system of the raster\n",
    "rasterized_river = features.rasterize(geom_river,\n",
    "                                out_shape = raster.shape,\n",
    "                                fill = -1,\n",
    "                                out = None,\n",
    "                                transform = raster.transform,\n",
    "                                all_touched = False,\n",
    "                                default_value = 1,\n",
    "                                dtype = None)"
   ]
  },
  {
   "cell_type": "code",
   "execution_count": 23,
   "metadata": {},
   "outputs": [],
   "source": [
    "# Convert the rasterized array to boolean where True represents roads\n",
    "river_mask = rasterized_river == 1\n",
    "# Calculate the Euclidean distance from each road pixel to every other pixel\n",
    "distances_river = distance_transform_edt(~river_mask)"
   ]
  },
  {
   "cell_type": "code",
   "execution_count": 24,
   "metadata": {},
   "outputs": [],
   "source": [
    "# Convert the lup_raster array to boolean where True represents the area of interest\n",
    "area_mask = np.isin(lup_raster_array_25, [1, 2, 3, 4])\n",
    "\n",
    "# For pixels outside the area of interest, set the distance to a nodata value\n",
    "distances_river[~area_mask] = -1\n",
    "\n",
    "output_filepath = os.path.join(output_dir, 'river_raster-sim25.tif')\n",
    "\n",
    "# Write the rasterized data to a new GeoTIFF file\n",
    "with rasterio.open(output_filepath, 'w', **profile) as dst:\n",
    "    dst.write(distances_river.astype('float32'), 1)"
   ]
  },
  {
   "cell_type": "code",
   "execution_count": 25,
   "metadata": {},
   "outputs": [],
   "source": [
    "\n",
    "# Convert the lup_raster array to boolean where True represents the area of interest\n",
    "area_mask = np.isin(lup_raster_array_5, [1, 2, 3, 4])\n",
    "\n",
    "# For pixels outside the area of interest, set the distance to a nodata value\n",
    "distances_river[~area_mask] = -1\n",
    "\n",
    "output_filepath = os.path.join(output_dir, 'river_raster-sim5.tif')\n",
    "\n",
    "# Write the rasterized data to a new GeoTIFF file\n",
    "with rasterio.open(output_filepath, 'w', **profile) as dst:\n",
    "    dst.write(distances_river.astype('float32'), 1)"
   ]
  },
  {
   "cell_type": "code",
   "execution_count": 26,
   "metadata": {},
   "outputs": [],
   "source": [
    "\n",
    "# Convert the lup_raster array to boolean where True represents the area of interest\n",
    "area_mask = np.isin(lup_raster_array_50, [1, 2, 3, 4])\n",
    "\n",
    "# For pixels outside the area of interest, set the distance to a nodata value\n",
    "distances_river[~area_mask] = -1\n",
    "\n",
    "output_filepath = os.path.join(output_dir, 'river_raster-sim50.tif')\n",
    "\n",
    "# Write the rasterized data to a new GeoTIFF file\n",
    "with rasterio.open(output_filepath, 'w', **profile) as dst:\n",
    "    dst.write(distances_river.astype('float32'), 1)"
   ]
  },
  {
   "cell_type": "code",
   "execution_count": null,
   "metadata": {},
   "outputs": [],
   "source": [
    "# Convert the lup_raster array to boolean where True represents the area of interest\n",
    "area_mask = np.isin(lup_raster_array_hedges, [1, 2, 3, 4])\n",
    "\n",
    "# For pixels outside the area of interest, set the distance to a nodata value\n",
    "distances_river[~area_mask] = -1\n",
    "\n",
    "output_filepath = os.path.join(output_dir, 'river_raster-simhedges.tif')\n",
    "\n",
    "# Write the rasterized data to a new GeoTIFF file\n",
    "with rasterio.open(output_filepath, 'w', **profile) as dst:\n",
    "    dst.write(distances_river.astype('float32'), 1)"
   ]
  }
 ],
 "metadata": {
  "kernelspec": {
   "display_name": "Python 3.11.3 ('pyforest')",
   "language": "python",
   "name": "python3"
  },
  "language_info": {
   "codemirror_mode": {
    "name": "ipython",
    "version": 3
   },
   "file_extension": ".py",
   "mimetype": "text/x-python",
   "name": "python",
   "nbconvert_exporter": "python",
   "pygments_lexer": "ipython3",
   "version": "3.11.3"
  },
  "orig_nbformat": 4,
  "vscode": {
   "interpreter": {
    "hash": "aca51edb778be56207d5a76d5369999259e96b3950a8b6f86c3be07548c77925"
   }
  }
 },
 "nbformat": 4,
 "nbformat_minor": 2
}
