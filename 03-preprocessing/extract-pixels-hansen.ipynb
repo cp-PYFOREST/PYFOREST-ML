{
 "cells": [
  {
   "cell_type": "markdown",
   "metadata": {},
   "source": [
    "# Create Individual Deforestation Files From Hansen Dataset"
   ]
  },
  {
   "cell_type": "markdown",
   "metadata": {},
   "source": [
    "The purpose of this notebook is two fold:\n",
    "1. Takes the 'lossyear' image from the Hansen et al. (2013) dataset and creates a tiff file deforestation_year for each year desired.\n",
    "2. 'lossyear' and 'treecover2000' also need to be cropped so that pixels are only within the boundary of the active property of that year. "
   ]
  },
  {
   "cell_type": "markdown",
   "metadata": {},
   "source": [
    "# Import the necessary libraries and load the datasets.\n"
   ]
  },
  {
   "cell_type": "code",
   "execution_count": 46,
   "metadata": {},
   "outputs": [],
   "source": [
    "import os\n",
    "from pathlib import Path\n",
    "import rasterio\n",
    "from rasterio.merge import merge\n",
    "from rasterio.mask import mask\n",
    "from rasterio.transform import from_origin\n",
    "import geopandas as gpd\n",
    "import pandas as pd\n",
    "import numpy as np\n",
    "import numpy.ma as ma\n",
    "import matplotlib.pyplot as plt\n",
    "from constants import HANSEN_FILEPATHS, PROPERTIES_SHAPEFILE_PATHS, PROJECT_PATH, SHAPEFILE_PATH"
   ]
  },
  {
   "cell_type": "markdown",
   "metadata": {},
   "source": [
    "# Extract pixels corresponding to each year (2011-2021)."
   ]
  },
  {
   "cell_type": "markdown",
   "metadata": {},
   "source": [
    "\n"
   ]
  },
  {
   "cell_type": "code",
   "execution_count": null,
   "metadata": {},
   "outputs": [],
   "source": [
    "# Extract pixels corresponding to each year (2011-2021)\n",
    "# This will return binary but we want to keep the encoded value of the pixelReturns pixels encoded with value of 1 and zeros as NaN.\n",
    "#if `year_pixels[year_pixels == 0] = np.nan` is removed then will return Unique values for year 2011: [0 1]. \n",
    "'''\n",
    "def extract_pixels_by_year_binary(raster_data, start_year, end_year):\n",
    "    year_data = {}\n",
    "    for year in range(start_year, end_year + 1):\n",
    "        year_pixels = (raster_data == year).astype(int) \n",
    "        year_data[year] = year_pixels\n",
    "\n",
    "        # Print unique values for each year\n",
    "        unique_values = np.unique(year_pixels)\n",
    "        print(f\"Unique values for year {year + 2000}: {unique_values}\") # Add 2000 to the year to get the correct year values\n",
    "    return year_data\n",
    "\n",
    "pixels_by_year = extract_pixels_by_year(study_boundary_masked, 11, 21)\n",
    "'''\n",
    "\n",
    "\n"
   ]
  },
  {
   "cell_type": "markdown",
   "metadata": {},
   "source": [
    "Returns pixels encoded with value of corresponding year(11,12,13...) and zeros as NaN.\n",
    "if `year_pixels[year_pixels == 0] = np.nan` is removed then will return [0 11]. "
   ]
  },
  {
   "cell_type": "code",
   "execution_count": 30,
   "metadata": {},
   "outputs": [
    {
     "name": "stdout",
     "output_type": "stream",
     "text": [
      "Unique values for year 2011: [ 0 11]\n",
      "Unique values for year 2012: [ 0 12]\n",
      "Unique values for year 2013: [ 0 13]\n",
      "Unique values for year 2014: [ 0 14]\n",
      "Unique values for year 2015: [ 0 15]\n",
      "Unique values for year 2016: [ 0 16]\n",
      "Unique values for year 2017: [ 0 17]\n",
      "Unique values for year 2018: [ 0 18]\n",
      "Unique values for year 2019: [ 0 19]\n",
      "Unique values for year 2020: [ 0 20]\n",
      "Unique values for year 2021: [ 0 21]\n"
     ]
    }
   ],
   "source": [
    "def extract_pixels_by_year(raster_data, start_year, end_year):\n",
    "    year_data = {}\n",
    "    for year in range(start_year, end_year + 1):\n",
    "        year_pixels = (raster_data == year).astype(int) * year\n",
    "        year_data[year] = year_pixels\n",
    "\n",
    "        # Print unique values for each year\n",
    "        unique_values = np.unique(year_pixels)\n",
    "        print(f\"Unique values for year {year + 2000}: {unique_values}\") # Add 2000 to the year to get the correct year values\n",
    "             \n",
    "    return year_data\n",
    "\n",
    "pixels_by_year = extract_pixels_by_year(hansen_array, 11, 21)"
   ]
  },
  {
   "cell_type": "markdown",
   "metadata": {},
   "source": [
    "# Write raster files for each year "
   ]
  },
  {
   "cell_type": "code",
   "execution_count": 33,
   "metadata": {},
   "outputs": [],
   "source": [
    "# Write raster files for each year\n",
    "def write_year_rasters(year_data, out_transform, out_meta, output_dir):\n",
    "    for year, data in year_data.items():\n",
    "        out_filepath = os.path.join(output_dir, f'deforestation_{year}.tif')\n",
    "        with rasterio.open(out_filepath, 'w', **out_meta) as dst:\n",
    "            dst.write(data, 1)\n",
    "            dst.transform = out_transform\n",
    "\n",
    "output_dir = os.path.join(PROJECT_PATH, 'output', 'deforestation_by_year')\n",
    "os.makedirs(output_dir, exist_ok=True)\n",
    "\n",
    "write_year_rasters(pixels_by_year, out_transform, out_meta, output_dir)\n"
   ]
  },
  {
   "cell_type": "code",
   "execution_count": null,
   "metadata": {},
   "outputs": [],
   "source": [
    "# Read one of the TIF files and print its unique values\n",
    "with rasterio.open(\"/Users/romero61/github/PYFOREST-ML/output/deforestation_by_year/deforestation_11.tif\") as src:\n",
    "    data = src.read(1)\n",
    "print(\"Unique values in uncropped TIF:\", np.unique(data))"
   ]
  },
  {
   "cell_type": "markdown",
   "metadata": {},
   "source": [
    "# Crop Hansen Dataset within Property"
   ]
  },
  {
   "cell_type": "code",
   "execution_count": 48,
   "metadata": {},
   "outputs": [
    {
     "name": "stdout",
     "output_type": "stream",
     "text": [
      "CRS: PROJCS[\"WGS 84 / UTM zone 21S\",GEOGCS[\"WGS 84\",DATUM[\"World Geodetic System 1984\",SPHEROID[\"WGS 84\",6378137,298.257223563]],PRIMEM[\"Greenwich\",0],UNIT[\"degree\",0.0174532925199433,AUTHORITY[\"EPSG\",\"9122\"]],AUTHORITY[\"EPSG\",\"4326\"]],PROJECTION[\"Transverse_Mercator\"],PARAMETER[\"latitude_of_origin\",0],PARAMETER[\"central_meridian\",-57],PARAMETER[\"scale_factor\",0.9996],PARAMETER[\"false_easting\",500000],PARAMETER[\"false_northing\",10000000],UNIT[\"metre\",1],AXIS[\"Easting\",EAST],AXIS[\"Northing\",NORTH],AUTHORITY[\"EPSG\",\"32721\"]]\n"
     ]
    }
   ],
   "source": [
    "shapefile_2011_path = PROPERTIES_SHAPEFILE_PATHS[0]  # The first file in the list should be for 2011\n",
    "properties_2011 = gpd.read_file(shapefile_2011_path)\n",
    "# Check the CRS\n",
    "crs = properties_2011.crs\n",
    "print(\"CRS:\", crs)\n",
    "\n",
    "# Reproject the shapefile to EPSG:4326 if necessary\n",
    "if crs != \"epsg:4326\":\n",
    "    properties_2011 = properties_2011.to_crs(\"epsg:4326\")\n",
    "\n"
   ]
  },
  {
   "cell_type": "code",
   "execution_count": 42,
   "metadata": {},
   "outputs": [],
   "source": [
    " # Define the deforestation_11 and treecover2000 file paths\n",
    "deforestation_11_filepath = os.path.join('/Users/romero61/../../capstone/pyforest/ml_data/hansen/deforestation_by_year/deforestation_11.tif')\n",
    "treecover2000_filepath = '/Users/romero61/../../capstone/pyforest/ml_data/hansen/clipped_treecover2000.tif'"
   ]
  },
  {
   "cell_type": "code",
   "execution_count": 44,
   "metadata": {},
   "outputs": [],
   "source": [
    "# Crop and mask the deforestation_11 and treecover2000 files\n",
    "def crop_and_mask(input_raster_path, output_raster_path, shapefile):\n",
    "    with rasterio.open(input_raster_path) as src:\n",
    "        out_image, out_transform = rasterio.mask.mask(src, shapefile.geometry, crop=True)\n",
    "        out_meta = src.meta\n",
    "\n",
    "    out_meta.update({\"driver\": \"GTiff\",\n",
    "                     \"height\": out_image.shape[1],\n",
    "                     \"width\": out_image.shape[2],\n",
    "                     \"transform\": out_transform})\n",
    "\n",
    "    with rasterio.open(output_raster_path, \"w\", **out_meta) as dest:\n",
    "        dest.write(out_image)\n"
   ]
  },
  {
   "cell_type": "code",
   "execution_count": 49,
   "metadata": {},
   "outputs": [],
   "source": [
    "\n",
    "\n",
    "# Create output directory for cropped rasters\n",
    "cropped_output_dir = Path(output_dir) / 'cropped'\n",
    "os.makedirs(cropped_output_dir, exist_ok=True)\n",
    "\n",
    "# Crop and mask deforestation_11 file\n",
    "crop_and_mask(deforestation_11_filepath, cropped_output_dir / 'cropped_deforestation_11.tif', properties_2011)\n",
    "\n",
    "# Crop and mask treecover2000 file\n",
    "crop_and_mask(treecover2000_filepath, cropped_output_dir / 'cropped_treecover2000.tif', properties_2011)"
   ]
  },
  {
   "cell_type": "code",
   "execution_count": null,
   "metadata": {},
   "outputs": [],
   "source": [
    "plt.imshow(pixels_value_11, cmap='viridis')\n",
    "plt.colorbar()\n",
    "plt.show()"
   ]
  }
 ],
 "metadata": {
  "kernelspec": {
   "display_name": "Python 3.11.3 ('pyforest')",
   "language": "python",
   "name": "python3"
  },
  "language_info": {
   "codemirror_mode": {
    "name": "ipython",
    "version": 3
   },
   "file_extension": ".py",
   "mimetype": "text/x-python",
   "name": "python",
   "nbconvert_exporter": "python",
   "pygments_lexer": "ipython3",
   "version": "3.11.3"
  },
  "orig_nbformat": 4,
  "vscode": {
   "interpreter": {
    "hash": "aca51edb778be56207d5a76d5369999259e96b3950a8b6f86c3be07548c77925"
   }
  }
 },
 "nbformat": 4,
 "nbformat_minor": 2
}
