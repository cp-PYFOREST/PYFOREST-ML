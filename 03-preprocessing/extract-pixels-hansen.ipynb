{
 "cells": [
  {
   "cell_type": "markdown",
   "metadata": {},
   "source": [
    "# Create Individual Deforestation Files From Hansen Dataset"
   ]
  },
  {
   "cell_type": "markdown",
   "metadata": {},
   "source": [
    "The purpose of this notebook is two fold:\n",
    "1. Extract pixels:Takes the 'lossyear' image from the Hansen et al. (2013) dataset and creates a tiff file deforestation_year for each year desired. Take the 'treecover2000' and filter for pixels greater than 10%. \n",
    "2. 'lossyear' and 'treecover2000' also need to be cropped so that pixels are only within the boundary of the active property of that year. "
   ]
  },
  {
   "cell_type": "markdown",
   "metadata": {},
   "source": [
    "# Import  libraries "
   ]
  },
  {
   "cell_type": "code",
   "execution_count": 2,
   "metadata": {},
   "outputs": [],
   "source": [
    "import os\n",
    "import sys\n",
    "from pathlib import Path\n",
    "import rasterio\n",
    "from rasterio.merge import merge\n",
    "from rasterio.mask import mask\n",
    "from rasterio.transform import from_origin\n",
    "import geopandas as gpd\n",
    "import pandas as pd\n",
    "import numpy as np\n",
    "import numpy.ma as ma\n",
    "import matplotlib.pyplot as plt\n"
   ]
  },
  {
   "cell_type": "markdown",
   "metadata": {},
   "source": [
    "# Import Constants"
   ]
  },
  {
   "cell_type": "code",
   "execution_count": 3,
   "metadata": {},
   "outputs": [],
   "source": [
    "\n",
    "# Get the current working directory\n",
    "current_dir = os.path.abspath('')\n",
    "\n",
    "# Search for the 'constants.py' file starting from the current directory and moving up the hierarchy\n",
    "project_root = current_dir\n",
    "while not os.path.isfile(os.path.join(project_root, 'constants.py')):\n",
    "    project_root = os.path.dirname(project_root)\n",
    "\n",
    "# Add the project root to the Python path\n",
    "sys.path.append(project_root)\n"
   ]
  },
  {
   "cell_type": "code",
   "execution_count": 4,
   "metadata": {},
   "outputs": [],
   "source": [
    "from constants import HANSEN_LOSSYEAR_FILEPATHS, HANSEN_TREECOVER_FILEPATH, STUDY_BOUNDARY_PATH, LUP_YEAR_PATHS, OUTPUT_PATH"
   ]
  },
  {
   "cell_type": "code",
   "execution_count": 5,
   "metadata": {},
   "outputs": [],
   "source": [
    "study_boundary_gdf = gpd.read_file(STUDY_BOUNDARY_PATH)\n",
    "\n",
    "'''rasterio.open() expects a single file path as a string, \n",
    " pass the file path string directly. Since HANSEN_LOSSYEAR_FILEPATHS is a list, \n",
    " you can access the file path string by indexing the list with [0].\n",
    " '''\n",
    "# Reproject the study boundary to match the Hansen raster CRS\n",
    "with rasterio.open(HANSEN_LOSSYEAR_FILEPATHS[0]) as src:\n",
    "    hansen_crs = src.crs\n",
    "\n",
    "# Reproject the study boundary GeoDataFrame to match the Hansen raster CRS    \n",
    "study_boundary_gdf_reprojected = study_boundary_gdf.to_crs(hansen_crs)\n",
    "# Get the geometry column from the reprojected GeoDataFrame\n",
    "study_boundary_geom_reprojected = study_boundary_gdf_reprojected.geometry"
   ]
  },
  {
   "cell_type": "code",
   "execution_count": 6,
   "metadata": {},
   "outputs": [],
   "source": [
    "with rasterio.open(HANSEN_LOSSYEAR_FILEPATHS[0]) as hansen:\n",
    "    hansen_array = hansen.read(1)\n",
    "    hansen_crs = hansen.crs\n",
    "    out_transform = hansen.transform\n",
    "    out_meta = hansen.meta"
   ]
  },
  {
   "cell_type": "markdown",
   "metadata": {},
   "source": [
    "# Extract pixels corresponding to each year (2011-2021)."
   ]
  },
  {
   "cell_type": "markdown",
   "metadata": {},
   "source": [
    "One-hot encoding is typically used for categorical variables, where there is no inherent ordering or numerical relationship between the categories. In your case, the year of deforestation does have an inherent ordering (i.e., 2007 comes before 2008) and possibly a numerical relationship (i.e., deforestation in earlier years might influence deforestation in later years), so treating it as a categorical variable might not be the best approach.\n",
    "\n",
    "However, there is a nuance in your case. If a pixel gets deforested in a particular year, it remains deforested in all subsequent years. This means that a pixel deforested in 2007 will also be deforested in 2008, 2009, and so on. If you use the year of deforestation as a numeric value, you might be inadvertently suggesting that deforestation in 2008 is \"more\" or \"greater\" than deforestation in 2007, which is not necessarily the case. Instead, you're just tracking the first year of deforestation for each pixel.\n",
    "\n",
    "Given this, you might consider the following approach:\n",
    "\n",
    "Binary Encoding: For each year, create a binary raster indicating whether deforestation occurred in that year or not. This would give you a series of rasters with values of [0, 1] for each year.\n",
    "\n",
    "Stacking: Stack these rasters together to create a 3D array (height x width x time), where each layer in the third dimension corresponds to a year. This way, the model can learn about the temporal dynamics of deforestation.\n",
    "\n",
    "This approach allows the model to learn from the temporal sequence of deforestation events without misinterpreting the year of deforestation as a numerical value. However, it does not explicitly encode the information that once a pixel is deforested, it remains deforested in all subsequent years. You will need to ensure that your model architecture can capture this temporal dependency.\n",
    "\n",
    "In the end, the choice of encoding often depends on the specifics of your data and the model you're using, and it may be worth experimenting with different approaches to see what works best.\n"
   ]
  },
  {
   "cell_type": "markdown",
   "metadata": {},
   "source": [
    "Lagged features are created by shifting the original feature values along the time dimension. They represent the values of a feature at an earlier time step. In the context of your deforestation problem, a lagged feature would represent whether deforestation occurred in a pixel in the previous year(s). By including these lagged features in your model, you allow the model to learn how deforestation in earlier years affects deforestation in later years.\n",
    "\n",
    "Here's a step-by-step example of creating lagged features for your deforestation data:\n",
    "\n",
    "Assume you have binary rasters for each year from 2001 to 2011, indicating whether deforestation occurred in that year (1) or not (0). You should have 11 rasters, one for each year.\n",
    "\n",
    "To create a lagged feature with a lag of 1 year, you would shift the rasters by 1 year in the time dimension. For example, the 2002 raster would be shifted to 2001, the 2003 raster to 2002, and so on. The last raster (2011) would need to be filled with zeros or dropped, as there is no data available for 2012.\n",
    "\n",
    "You should now have 11 rasters, where each raster represents whether deforestation occurred in the previous year (1) or not (0). These are the lagged features with a lag of 1 year.\n",
    "\n",
    "Stack these new lagged rasters together with the original rasters. This would create a 3D array (height x width x 2 * time), where each layer in the third dimension corresponds to a year and its corresponding lagged year.\n",
    "\n",
    "Use this new 3D array as input to your Random Forest model. The model will now learn the relationship between deforestation in the previous year(s) and the current year, which may help it better capture temporal dependencies.\n",
    "\n",
    "In this example, I used a lag of 1 year, but you can experiment with different lag values depending on your data and problem. For instance, you could create lagged features for 2 or 3 years to capture longer-term dependencies.\n",
    "\n",
    "Note that this is just one way to introduce temporal information into a non-temporal model like Random Forest. There might be other ways to incorporate temporal information, and it's worth experimenting to find the best approach for your data and problem."
   ]
  },
  {
   "cell_type": "code",
   "execution_count": null,
   "metadata": {},
   "outputs": [],
   "source": [
    "'''This function accepts raster data, a start year, and an end year as arguments. \n",
    "The function iterates through the years within the given range and \n",
    "creates a binary mask for each year where the raster values match the year. \n",
    "It then stores these binary masks in a dictionary with the corresponding year \n",
    "as the key.'''\n",
    "\n",
    "\n",
    "\n",
    "# Extract pixels corresponding to each year (2001-2021)\n",
    "# This will return binary but if we want to keep the encoded value of the \n",
    "# pixelReturns pixels encoded with value of 1 and zeros as NaN.\n",
    "#if `year_pixels[year_pixels == 0] = np.nan` is removed then will return \n",
    "# Unique values for year 2011: [0 1]. \n",
    "\n",
    "'''def extract_pixels_by_year_binary(raster_data, start_year, end_year):\n",
    "    year_data = {}\n",
    "    for year in range(start_year, end_year + 1):\n",
    "        year_pixels = (raster_data == year).astype(int) \n",
    "        year_data[year] = year_pixels\n",
    "\n",
    "        # Print unique values for each year\n",
    "        unique_values = np.unique(year_pixels)\n",
    "        print(f\"Unique values for year {year + 2000}: {unique_values}\") # Add 2000 to the year to get the correct year values\n",
    "    return year_data\n",
    "\n",
    "pixels_by_year = extract_pixels_by_year_binary(hansen_array, 1, 21)'''\n",
    "\n",
    "'''While iterating through the years, the function also prints unique values for \n",
    "each year's binary mask. These unique values should be either 0 or 1, \n",
    "where 1 represents the pixels that have a deforestation event \n",
    "for that specific year, and 0 represents the pixels that do not.'''\n",
    "\n",
    "\n"
   ]
  },
  {
   "cell_type": "markdown",
   "metadata": {},
   "source": [
    "Returns pixels encoded with value of corresponding year(11,12,13...) and zeros as NaN.\n",
    "if `year_pixels[year_pixels == 0] = np.nan` is removed then will return [0 11]. "
   ]
  },
  {
   "cell_type": "code",
   "execution_count": null,
   "metadata": {},
   "outputs": [],
   "source": [
    "'''\n",
    "def extract_pixels_by_year(raster_data, start_year, end_year):\n",
    "    year_data = {}\n",
    "    for year in range(start_year, end_year + 1):\n",
    "        year_pixels = (raster_data == year).astype(int) * year\n",
    "        year_data[year] = year_pixels\n",
    "\n",
    "        # Print unique values for each year\n",
    "        unique_values = np.unique(year_pixels)\n",
    "        print(f\"Unique values for year {year + 2000}: {unique_values}\") # Add 2000 to the year to get the correct year values\n",
    "             \n",
    "    return year_data\n",
    "\n",
    "pixels_by_year = extract_pixels_by_year(hansen_array, 11, 21)\n",
    "'''\n"
   ]
  },
  {
   "cell_type": "code",
   "execution_count": 7,
   "metadata": {},
   "outputs": [
    {
     "name": "stdout",
     "output_type": "stream",
     "text": [
      "Unique values for year 2001: [0 1]\n",
      "Unique values for year 2002: [0 1]\n",
      "Unique values for year 2003: [0 1]\n",
      "Unique values for year 2004: [0 1]\n",
      "Unique values for year 2005: [0 1]\n",
      "Unique values for year 2006: [0 1]\n",
      "Unique values for year 2007: [0 1]\n",
      "Unique values for year 2008: [0 1]\n",
      "Unique values for year 2009: [0 1]\n",
      "Unique values for year 2010: [0 1]\n",
      "Unique values for year 2011: [0 1]\n",
      "Unique values for year 2012: [0 1]\n",
      "Unique values for year 2013: [0 1]\n",
      "Unique values for year 2014: [0 1]\n",
      "Unique values for year 2015: [0 1]\n",
      "Unique values for year 2016: [0 1]\n",
      "Unique values for year 2017: [0 1]\n",
      "Unique values for year 2018: [0 1]\n",
      "Unique values for year 2019: [0 1]\n",
      "Unique values for year 2020: [0 1]\n",
      "Unique values for year 2021: [0 1]\n"
     ]
    }
   ],
   "source": [
    "def extract_pixels_by_year_cumulative(raster_data, start_year, end_year):\n",
    "    year_data = {}\n",
    "    cumulative_pixels = np.zeros_like(raster_data, dtype=int)\n",
    "    \n",
    "    for year in range(start_year, end_year + 1):\n",
    "        year_pixels = (raster_data == year).astype(int)\n",
    "        cumulative_pixels += year_pixels\n",
    "        year_data[year] = cumulative_pixels.copy()\n",
    "\n",
    "        # Print unique values for each year\n",
    "        unique_values = np.unique(year_pixels)\n",
    "        print(f\"Unique values for year {year + 2000}: {unique_values}\") # Add 2000 to the year to get the correct year values\n",
    "    return year_data\n",
    "\n",
    "pixels_by_year = extract_pixels_by_year_cumulative(hansen_array, 1, 21)\n"
   ]
  },
  {
   "cell_type": "markdown",
   "metadata": {},
   "source": [
    "# Write raster files for each year \n",
    "write_year_rasters() takes four arguments: year_data, out_transform, out_meta, and output_dir. The year_data is a dictionary containing binary masks for each year, out_transform and out_meta are the transform and metadata extracted from the original Hansen loss year raster, and output_dir is the directory where the output raster files should be saved.\n",
    "\n",
    "Inside the function,  loop through the year_data dictionary, and for each year,  create an output file path with a filename based on the year (e.g., 'deforestation_2001.tif'). Then, use rasterio.open() in write mode ('w') to create a new raster file with the specified metadata. write the binary mask data to the raster and set its transform to match the original raster.\n",
    "\n",
    "After defining the function, create an output directory deforestation_by_year inside the OUTPUT_PATH directory using os.makedirs(). The exist_ok=True parameter ensures that the function does not raise an error if the directory already exists.\n",
    "\n",
    "Finally, call the write_year_rasters() function, passing the pixels_by_year dictionary, out_transform, out_meta, and output_dir. The function writes separate raster files for each year's binary mask in the specified output directory.\n"
   ]
  },
  {
   "cell_type": "code",
   "execution_count": 8,
   "metadata": {},
   "outputs": [],
   "source": [
    "# Write raster files for each year\n",
    "def write_year_rasters(year_data, out_transform, out_meta, output_dir):\n",
    "    for year, data in year_data.items():\n",
    "        out_filepath = os.path.join(output_dir, f'deforestation_{year}.tif')\n",
    "        with rasterio.open(out_filepath, 'w', **out_meta) as dst:\n",
    "            dst.write(data, 1)\n",
    "            dst.transform = out_transform\n",
    "\n",
    "output_dir = os.path.join(OUTPUT_PATH[0], 'deforestation_by_year_cumulative')\n",
    "os.makedirs(output_dir, exist_ok=True)\n",
    "\n",
    "write_year_rasters(pixels_by_year, out_transform, out_meta, output_dir)\n"
   ]
  },
  {
   "cell_type": "code",
   "execution_count": 9,
   "metadata": {},
   "outputs": [
    {
     "name": "stdout",
     "output_type": "stream",
     "text": [
      "Unique values in uncropped TIF: [0 1]\n"
     ]
    }
   ],
   "source": [
    "# Read one of the TIF files and print its unique values\n",
    "with rasterio.open(\"/Users/romero61/../../capstone/pyforest/ml_data/output/deforestation_by_year_cumulative/deforestation_1.tif\") as src:\n",
    "    data = src.read(1)\n",
    "print(\"Unique values in uncropped TIF:\", np.unique(data))"
   ]
  },
  {
   "cell_type": "markdown",
   "metadata": {},
   "source": [
    "# Extract Tree Cover >= 10%\n",
    "\n",
    "To extract pixels with 10% and above tree cover and write the resulting raster:\n",
    "\n",
    "1. Read the tree cover raster data.\n",
    "2. Create a binary mask for pixels with tree cover equal to or greater than 10%.\n",
    "3. Write the binary mask to a new raster file."
   ]
  },
  {
   "cell_type": "code",
   "execution_count": null,
   "metadata": {},
   "outputs": [],
   "source": [
    "# Step 1: Read the tree cover raster data\n",
    "with rasterio.open(HANSEN_TREECOVER_FILEPATH[0]) as src:\n",
    "    tree_cover_array = src.read(1)\n",
    "    tree_cover_transform = src.transform\n",
    "    tree_cover_meta = src.meta\n",
    "\n",
    "# Step 2: Create a mask for pixels with tree cover equal to or greater than 10%\n",
    "'''np.where() to create a new array, masked_array,\n",
    "that contains the original tree cover values \n",
    "where the condition (tree cover >= 10%) is met and 0 for the other pixels. '''\n",
    "tree_cover_threshold = 10\n",
    "masked_array = np.where(tree_cover_array >= tree_cover_threshold, tree_cover_array, 0)\n",
    "\n",
    "# Step 3: Write the masked array to a new raster file\n",
    "output_dir = os.path.join(OUTPUT_PATH[0], 'tree_cover_10_percent_and_above')\n",
    "os.makedirs(output_dir, exist_ok=True)\n",
    "\n",
    "output_filepath = os.path.join(output_dir, 'tree_cover_10_percent_and_above.tif')\n",
    "with rasterio.open(output_filepath, 'w', **tree_cover_meta) as dst:\n",
    "    dst.write(masked_array, 1)\n",
    "    dst.transform = tree_cover_transform"
   ]
  }
 ],
 "metadata": {
  "kernelspec": {
   "display_name": "Python 3.11.3 ('pyforest')",
   "language": "python",
   "name": "python3"
  },
  "language_info": {
   "codemirror_mode": {
    "name": "ipython",
    "version": 3
   },
   "file_extension": ".py",
   "mimetype": "text/x-python",
   "name": "python",
   "nbconvert_exporter": "python",
   "pygments_lexer": "ipython3",
   "version": "3.11.3"
  },
  "orig_nbformat": 4,
  "vscode": {
   "interpreter": {
    "hash": "aca51edb778be56207d5a76d5369999259e96b3950a8b6f86c3be07548c77925"
   }
  }
 },
 "nbformat": 4,
 "nbformat_minor": 2
}
