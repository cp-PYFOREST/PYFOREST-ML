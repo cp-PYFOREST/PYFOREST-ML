{
 "cells": [
  {
   "cell_type": "code",
   "execution_count": null,
   "metadata": {},
   "outputs": [],
   "source": [
    "import os\n",
    "from pathlib import Path\n",
    "import rasterio\n",
    "from rasterio.merge import merge\n",
    "from rasterio.mask import mask\n",
    "from rasterio.transform import from_origin\n",
    "import geopandas as gpd\n",
    "import pandas as pd\n",
    "import numpy as np\n",
    "import numpy.ma as ma\n",
    "import matplotlib.pyplot as plt\n",
    "from constants import HANSEN_FILEPATHS, PROPERTIES_SHAPEFILE_PATHS, PROJECT_PATH, SHAPEFILE_PATH"
   ]
  },
  {
   "cell_type": "markdown",
   "metadata": {},
   "source": [
    "# Mosaic the Hansen tiles."
   ]
  },
  {
   "cell_type": "code",
   "execution_count": null,
   "metadata": {},
   "outputs": [],
   "source": [
    "# Mosaic the Hansen tiles\n",
    "'''def mosaic_hansen_tiles(filepaths):\n",
    "    src_files_to_mosaic = [rasterio.open(fp) for fp in filepaths]\n",
    "    mosaic, out_transform = merge(src_files_to_mosaic)\n",
    "    out_meta = src_files_to_mosaic[0].meta.copy()\n",
    "    for src in src_files_to_mosaic:\n",
    "        src.close()\n",
    "    return mosaic, out_transform, out_meta\n",
    "\n",
    "mosaic, out_transform, out_meta = mosaic_hansen_tiles(HANSEN_FILEPATHS)'''"
   ]
  },
  {
   "cell_type": "markdown",
   "metadata": {},
   "source": [
    "# Load the Study boundary dataset and crop the mosaic to the property boundaries."
   ]
  },
  {
   "cell_type": "code",
   "execution_count": null,
   "metadata": {},
   "outputs": [],
   "source": [
    "study_boundary_gdf = gpd.read_file(SHAPEFILE_PATH)\n",
    "\n",
    "\n",
    "# Reproject the study boundary to match the Hansen raster CRS\n",
    "with rasterio.open(HANSEN_FILEPATHS[0]) as src:\n",
    "    hansen_crs = src.crs\n",
    "\n",
    "# Reproject the study boundary GeoDataFrame to match the Hansen raster CRS    \n",
    "study_boundary_gdf_reprojected = study_boundary_gdf.to_crs(hansen_crs)\n",
    "# Get the geometry column from the reprojected GeoDataFrame\n",
    "study_boundary_geom_reprojected = study_boundary_gdf_reprojected.geometry\n"
   ]
  },
  {
   "cell_type": "code",
   "execution_count": null,
   "metadata": {},
   "outputs": [],
   "source": [
    "hansen_filepath = \"/Users/romero61/../../capstone/pyforest/ml_data/hansen/clipped_hansen_lossyear.tiff\"\n"
   ]
  },
  {
   "cell_type": "code",
   "execution_count": null,
   "metadata": {},
   "outputs": [],
   "source": [
    "# Check the CRS of the Hansen raster\n",
    "with rasterio.open(hansen_filepath) as src:\n",
    "    hansen_crs = src.crs\n",
    "print(\"Hansen CRS:\", hansen_crs)\n",
    "\n",
    "'''# Check the CRS of the study boundary\n",
    "print(\"Properties CRS:\", study_boundary_gdf.crs)'''"
   ]
  },
  {
   "cell_type": "code",
   "execution_count": null,
   "metadata": {},
   "outputs": [],
   "source": [
    "#read the data from the Hansen raster file into a NumPy array,\n",
    "with rasterio.open(hansen_filepath) as hansen:\n",
    "    hansen_array = hansen.read(1)\n",
    "    hansen_crs = hansen.crs\n",
    "    out_transform = hansen.transform\n",
    "    out_meta = hansen.meta"
   ]
  },
  {
   "cell_type": "code",
   "execution_count": null,
   "metadata": {},
   "outputs": [],
   "source": [
    "# Crop the mosaic using the study boundary polygon\n",
    "with rasterio.open(HANSEN_FILEPATHS[0]) as src:\n",
    "    out_meta.update({\n",
    "        'height': mosaic.shape[1],\n",
    "        'width': mosaic.shape[2],\n",
    "        'transform': out_transform\n",
    "    })\n",
    "    with rasterio.open('mosaic.tif', 'w', **out_meta) as dst:\n",
    "        dst.write(mosaic)\n",
    "    study_boundary_masked, _ = mask(rasterio.open('mosaic.tif'), study_boundary_geom_reprojected, crop=True, indexes=1)\n"
   ]
  },
  {
   "cell_type": "code",
   "execution_count": null,
   "metadata": {},
   "outputs": [],
   "source": [
    "#print(\"Shape of study_boundary_masked:\", study_boundary_masked.shape)\n",
    "plt.imshow(hansen_array.astype(float), cmap='viridis')\n",
    "plt.colorbar()\n",
    "plt.title(\"Cropped Mosaic\")"
   ]
  },
  {
   "cell_type": "code",
   "execution_count": null,
   "metadata": {},
   "outputs": [],
   "source": [
    "# Extract pixels with a value of 11\n",
    "pixels_value_11 = (hansen_array == 11).astype(int)\n",
    "\n",
    "# Plot the pixels with a value of 11\n",
    "plt.imshow(pixels_value_11, cmap='viridis')\n",
    "plt.colorbar()\n",
    "plt.show()"
   ]
  }
 ],
 "metadata": {
  "kernelspec": {
   "display_name": "Python 3.10.6 64-bit",
   "language": "python",
   "name": "python3"
  },
  "language_info": {
   "name": "python",
   "version": "3.10.6"
  },
  "orig_nbformat": 4,
  "vscode": {
   "interpreter": {
    "hash": "916dbcbb3f70747c44a77c7bcd40155683ae19c65e1c03b4aa3499c5328201f1"
   }
  }
 },
 "nbformat": 4,
 "nbformat_minor": 2
}
