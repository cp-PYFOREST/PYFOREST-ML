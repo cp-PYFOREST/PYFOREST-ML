{
 "cells": [
  {
   "cell_type": "markdown",
   "metadata": {},
   "source": [
    "This script processes a set of raster files representing land-use categories and tree cover data. The main goal is to crop and mask the tree cover and deforestation raster files based on the given land-use category raster files. The script performs the following steps:\n",
    "\n",
    "1. Import necessary libraries and set up the required paths and constants.\n",
    "2. Define a crop_and_mask_raster function that takes the paths of the source raster, property raster, output raster, and the maximum height and width. This function reads the source and property rasters, pads them to the same dimensions, creates a mask using the property raster, and applies the mask to the source raster. Finally, the masked raster is saved with updated metadata.\n",
    "3. Define a get_mask_year helper function that extracts the year from the mask file name.\n",
    "4. Loop through the sorted raster mask files and create an output folder for each mask file. Copy the mask raster file to the output folder.\n",
    "5. Determine the maximum dimensions and deforestation files up to the matching year of the mask.\n",
    "6. Process the 'tree_cover_10_percent_and_above.tif' file by calling the crop_and_mask_raster function with the appropriate parameters.\n",
    "7. Loop through the deforestation files and process each one using the crop_and_mask_raster function, resulting in masked rasters for both tree cover and deforestation files.\n",
    "\n",
    "The output is a set of masked raster files for each land-use category, which are cropped and masked based on the input tree cover and deforestation raster files.\n",
    "\n"
   ]
  },
  {
   "cell_type": "markdown",
   "metadata": {},
   "source": [
    "# Import Libraries"
   ]
  },
  {
   "cell_type": "code",
   "execution_count": 1,
   "metadata": {},
   "outputs": [],
   "source": [
    "import os\n",
    "import sys\n",
    "import rasterio\n",
    "import numpy as np\n",
    "import pandas as pd\n",
    "import matplotlib.pyplot as plt\n",
    "import shutil\n",
    "from pathlib import Path\n",
    "from rasterio.mask import mask\n"
   ]
  },
  {
   "cell_type": "markdown",
   "metadata": {},
   "source": [
    "# Import Constants"
   ]
  },
  {
   "cell_type": "code",
   "execution_count": 2,
   "metadata": {},
   "outputs": [],
   "source": [
    "# Get the current working directory\n",
    "current_dir = os.path.abspath('')\n",
    "\n",
    "# Search for the 'constants.py' file starting from the current directory and moving up the hierarchy\n",
    "project_root = current_dir\n",
    "while not os.path.isfile(os.path.join(project_root, 'constants.py')):\n",
    "    project_root = os.path.dirname(project_root)\n",
    "\n",
    "# Add the project root to the Python path\n",
    "sys.path.append(project_root)\n"
   ]
  },
  {
   "cell_type": "code",
   "execution_count": 3,
   "metadata": {},
   "outputs": [],
   "source": [
    "from constants import SERVER_PATH, OUTPUT_PATH, LUP_LUT_RASTER, DEFORESTATION_1120_PATH, TREECOVER_2010\n"
   ]
  },
  {
   "cell_type": "code",
   "execution_count": 4,
   "metadata": {},
   "outputs": [],
   "source": [
    "# Constants\n",
    "# update the first rasters_to_use_as_mask with the folder with the raster you want to use as a mask\n",
    "raster_to_use_as_mask = LUP_LUT_RASTER\n",
    "\n",
    "# new output directory\n",
    "output_folder = os.path.join(SERVER_PATH, 'ml_data', 'output', 'masked_rasters')\n"
   ]
  },
  {
   "cell_type": "code",
   "execution_count": 5,
   "metadata": {},
   "outputs": [],
   "source": [
    "def crop_and_mask_raster(src_raster_path, property_raster_path, output_raster_path, max_height, max_width):\n",
    "    with rasterio.open(src_raster_path) as src:\n",
    "        # Read the source raster\n",
    "        src_data = src.read(1)\n",
    "        \n",
    "        with rasterio.open(property_raster_path) as property_raster:\n",
    "            # Read the property limits raster\n",
    "            property_data = property_raster.read(1)\n",
    "\n",
    "            # Pad both the source data and property data to the maximum dimensions\n",
    "            src_data = np.pad(src_data, ((0, max_height - src_data.shape[0]), (0, max_width - src_data.shape[1])), constant_values=0)\n",
    "            property_data = np.pad(property_data, ((0, max_height - property_data.shape[0]), (0, max_width - property_data.shape[1])), constant_values=0)\n",
    "\n",
    "            # Create a mask using the padded property limits raster, where zero values are considered as nodata\n",
    "            mask_data = (property_data != 0)\n",
    "\n",
    "            # Check if the nodata value is set for the source raster, otherwise use a default value\n",
    "            nodata_value = src.nodata if src.nodata is not None else -1\n",
    "\n",
    "            # Apply the mask to the source raster\n",
    "            src_data_masked = np.where(mask_data, src_data, nodata_value)\n",
    "            print(f\"Source data shape:{src_data.shape} Property data shape:{property_data.shape} Mask data shape:, {mask_data.shape} After masking: Source data masked shape:, {src_data_masked.shape}\")\n",
    "\n",
    "             # Save the masked raster\n",
    "            profile = src.profile\n",
    "            profile['height'] = max_height\n",
    "            profile['width'] = max_width\n",
    "            profile['nodata'] = nodata_value\n",
    "            profile['dtype'] = 'int16'\n",
    "            with rasterio.open(output_raster_path, 'w', **profile) as dst:\n",
    "                dst.write(src_data_masked.astype(profile['dtype']), 1)\n",
    "\n"
   ]
  },
  {
   "cell_type": "code",
   "execution_count": null,
   "metadata": {},
   "outputs": [],
   "source": [
    "# Helper function to extract the number from the deforestation file name\n",
    "'''def get_deforestation_number(file_path):\n",
    "    file_name = os.path.splitext(os.path.basename(file_path))[0]\n",
    "    number = int(file_name.split('_')[-1])\n",
    "    return number\n",
    "\n",
    "# Helper function to extract the year from the mask file name\n",
    "def get_mask_year(file_path):\n",
    "    file_name = os.path.splitext(os.path.basename(file_path))[0]\n",
    "    year = int(file_name.split('_')[1])\n",
    "    return year'''\n"
   ]
  },
  {
   "cell_type": "code",
   "execution_count": null,
   "metadata": {},
   "outputs": [],
   "source": [
    "'''# This creates individual deforestation files increasing for each year\n",
    "# Process\n",
    "raster_mask_files = sorted([path for path in Path(rasters_to_use_as_mask).rglob('*_raster.tif')])\n",
    "\n",
    "for file_path in raster_mask_files:\n",
    "    file_name = os.path.splitext(os.path.basename(file_path))[0]\n",
    "    print(f\"Processing {file_name}.tiff...\")\n",
    "    output_folder = os.path.join(output_base_folder, file_name)\n",
    "    os.makedirs(output_folder, exist_ok=True)\n",
    "\n",
    "    # Copy the mask raster file to the output folder\n",
    "    shutil.copy(file_path, os.path.join(output_folder, f'{file_name}_mask.tif'))\n",
    "\n",
    "    # Determine maximum dimensions and deforestation files up to the matching year of the mask\n",
    "    mask_year = get_mask_year(file_path)\n",
    "    deforestation_files = sorted([path for path in Path(deforestation_base_folder).rglob('deforestation_*.tif') if get_deforestation_number(path) <= mask_year], key=get_deforestation_number)\n",
    "\n",
    "    max_height, max_width = 0, 0\n",
    "    with rasterio.open(tree_cover_base_path) as tree_cover_src:\n",
    "        for deforestation_file_path in deforestation_files:\n",
    "            with rasterio.open(deforestation_file_path) as deforestation_src, rasterio.open(file_path) as mask_src:\n",
    "                # Determine the maximum dimensions of all rasters\n",
    "                max_height = max(max_height, mask_src.height, tree_cover_src.height, deforestation_src.height)\n",
    "                max_width = max(max_width, mask_src.width, tree_cover_src.width, deforestation_src.width)\n",
    "\n",
    "    # Process tree_cover_10_percent_and_above.tif\n",
    "    tree_cover_output_raster = os.path.join(output_folder, 'tree_cover_10_percent_and_above_masked.tif')\n",
    "    crop_and_mask_raster(tree_cover_base_path, file_path, tree_cover_output_raster, max_height, max_width)\n",
    "\n",
    "    # Process deforestation_XX.tif\n",
    "    for deforestation_file_path in deforestation_files:\n",
    "        deforestation_file_name = os.path.splitext(os.path.basename(deforestation_file_path))[0]\n",
    "        deforestation_output_raster = os.path.join(output_folder, f'{deforestation_file_name}_masked.tif')\n",
    "        crop_and_mask_raster(deforestation_file_path, file_path, deforestation_output_raster, max_height, max_width)\n",
    "\n",
    "    # Process lup_{year}_grupo_raster.tif (masking it on itself)\n",
    "    lup_masked_output_raster = os.path.join(output_folder, f'{file_name}_masked.tif')\n",
    "    crop_and_mask_raster(file_path, file_path, lup_masked_output_raster, max_height, max_width)'''  \n"
   ]
  },
  {
   "cell_type": "code",
   "execution_count": null,
   "metadata": {},
   "outputs": [],
   "source": [
    "# Process\n",
    "'''raster_mask_files = sorted([path for path in Path(rasters_to_use_as_mask).rglob('*_raster.tif')])\n",
    "\n",
    "for file_path in raster_mask_files:\n",
    "    file_name = os.path.splitext(os.path.basename(file_path))[0]\n",
    "    print(f\"Processing {file_name}.tiff...\")\n",
    "    output_folder = os.path.join(output_base_folder, file_name)\n",
    "    os.makedirs(output_folder, exist_ok=True)\n",
    "\n",
    "    # Determine maximum dimensions and deforestation files up to the matching year of the mask\n",
    "    mask_year = get_mask_year(file_path)\n",
    "    all_deforestation_files = list(Path(deforestation_base_folder).rglob('deforestation_*.tif'))\n",
    "\n",
    "    for path in all_deforestation_files:\n",
    "        deforestation_number = get_deforestation_number(path)\n",
    "        deforestation_files = sorted([path for path in Path(deforestation_base_folder).rglob('deforestation_*.tif') if get_deforestation_number(path) <= mask_year], key=get_deforestation_number)\n",
    "\n",
    "    max_height, max_width = 0, 0\n",
    "    with rasterio.open(tree_cover_base_path) as tree_cover_src:\n",
    "        for deforestation_file_path in deforestation_files:\n",
    "            with rasterio.open(deforestation_file_path) as deforestation_src, rasterio.open(file_path) as mask_src:\n",
    "                # Determine the maximum dimensions of all rasters\n",
    "                max_height = max(max_height, mask_src.height, tree_cover_src.height, deforestation_src.height)\n",
    "                max_width = max(max_width, mask_src.width, tree_cover_src.width, deforestation_src.width)\n",
    "                print(max_height)\n",
    "                print(max_width)\n",
    "\n",
    "    # Process tree_cover_10_percent_and_above.tif\n",
    "    tree_cover_output_raster = os.path.join(output_folder, 'tree_cover_10_percent_and_above_masked.tif')\n",
    "    crop_and_mask_raster(tree_cover_base_path, file_path, tree_cover_output_raster, max_height, max_width)\n",
    "\n",
    "    # Process deforestation_XX.tif\n",
    "    # Find the corresponding deforestation file for the current year\n",
    "    corresponding_deforestation_file = None\n",
    "    for deforestation_file_path in deforestation_files:\n",
    "        if get_deforestation_number(deforestation_file_path) == mask_year:\n",
    "            corresponding_deforestation_file = deforestation_file_path\n",
    "            break\n",
    "\n",
    "    if corresponding_deforestation_file:\n",
    "        deforestation_file_name = os.path.splitext(os.path.basename(corresponding_deforestation_file))[0]\n",
    "        deforestation_output_raster = os.path.join(output_folder, f'{deforestation_file_name}_masked.tif')\n",
    "        crop_and_mask_raster(corresponding_deforestation_file, file_path, deforestation_output_raster, max_height, max_width)\n",
    "\n",
    "    # Process lup_{year}_grupo_raster.tif (masking it on itself)\n",
    "    lup_masked_output_raster = os.path.join(output_folder, f'{file_name}_masked.tif')\n",
    "    crop_and_mask_raster(file_path, file_path, lup_masked_output_raster, max_height, max_width)'''\n"
   ]
  },
  {
   "cell_type": "code",
   "execution_count": 6,
   "metadata": {},
   "outputs": [
    {
     "name": "stdout",
     "output_type": "stream",
     "text": [
      "22512\n",
      "20381\n",
      "Source data shape:(22512, 20381) Property data shape:(22512, 20381) Mask data shape:, (22512, 20381) After masking: Source data masked shape:, (22512, 20381)\n",
      "Source data shape:(22512, 20381) Property data shape:(22512, 20381) Mask data shape:, (22512, 20381) After masking: Source data masked shape:, (22512, 20381)\n",
      "Source data shape:(22512, 20381) Property data shape:(22512, 20381) Mask data shape:, (22512, 20381) After masking: Source data masked shape:, (22512, 20381)\n"
     ]
    }
   ],
   "source": [
    "# Process\n",
    "max_height, max_width = 0, 0\n",
    "with rasterio.open(TREECOVER_2010) as tree_cover_src:\n",
    "     with rasterio.open(DEFORESTATION_1120_PATH) as deforestation_src, rasterio.open(LUP_LUT_RASTER) as mask_src:\n",
    "        # Determine the maximum dimensions of all rasters\n",
    "        max_height = max(max_height, mask_src.height, tree_cover_src.height, deforestation_src.height)\n",
    "        max_width = max(max_width, mask_src.width, tree_cover_src.width, deforestation_src.width)\n",
    "        print(max_height)\n",
    "        print(max_width)\n",
    "\n",
    "# Process TREECOVER_2010\n",
    "tree_cover_output_raster = os.path.join(output_folder, 'treecover_2010_masked.tif')\n",
    "crop_and_mask_raster(TREECOVER_2010, raster_to_use_as_mask, tree_cover_output_raster, max_height, max_width)\n",
    "\n",
    "    # Process DEFORESTATION_1120_PATH\n",
    "deforestation_1120_output_raster = os.path.join(output_folder, 'deforestation11_20_masked.tif')\n",
    "crop_and_mask_raster(DEFORESTATION_1120_PATH, raster_to_use_as_mask, deforestation_1120_output_raster, max_height, max_width)   \n",
    "\n",
    "# Process LUP_LUT_RASTER\n",
    "lup_masked_output_raster = os.path.join(output_folder,'lup_10_masked.tif')\n",
    "crop_and_mask_raster(LUP_LUT_RASTER, raster_to_use_as_mask, lup_masked_output_raster, max_height, max_width)\n"
   ]
  }
 ],
 "metadata": {
  "kernelspec": {
   "display_name": "Python 3.11.3 ('pyforest')",
   "language": "python",
   "name": "python3"
  },
  "language_info": {
   "codemirror_mode": {
    "name": "ipython",
    "version": 3
   },
   "file_extension": ".py",
   "mimetype": "text/x-python",
   "name": "python",
   "nbconvert_exporter": "python",
   "pygments_lexer": "ipython3",
   "version": "3.11.3"
  },
  "orig_nbformat": 4,
  "vscode": {
   "interpreter": {
    "hash": "aca51edb778be56207d5a76d5369999259e96b3950a8b6f86c3be07548c77925"
   }
  }
 },
 "nbformat": 4,
 "nbformat_minor": 2
}
