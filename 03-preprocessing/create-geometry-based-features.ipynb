{
 "cells": [
  {
   "cell_type": "code",
   "execution_count": null,
   "metadata": {},
   "outputs": [],
   "source": [
    "def extract_polygon_features(polygon):\n",
    "    # Check if the input geometry is a Polygon or a MultiPolygon\n",
    "    if isinstance(polygon, Polygon):\n",
    "        largest_polygon = polygon\n",
    "    elif isinstance(polygon, MultiPolygon):\n",
    "        # For MultiPolygon, select the largest polygon by area\n",
    "        largest_polygon = max(polygon.geoms, key=lambda x: x.area)\n",
    "    else:\n",
    "        raise ValueError(\"Unsupported geometry type\")\n",
    "\n",
    "    # Calculate the number of sides for the largest polygon\n",
    "    num_sides = len(largest_polygon.exterior.coords) - 1\n",
    "\n",
    "    # Calculate the bounding box and aspect ratio for the largest polygon\n",
    "    minx, miny, maxx, maxy = largest_polygon.bounds\n",
    "    width = maxx - minx\n",
    "    height = maxy - miny\n",
    "    aspect_ratio = width / height\n",
    "\n",
    "    # Calculate the area and perimeter for the largest polygon\n",
    "    area = largest_polygon.area\n",
    "    perimeter = largest_polygon.length\n",
    "\n",
    "    # Calculate the compactness for the largest polygon\n",
    "    compactness = (4 * math.pi * area) / (perimeter ** 2)\n",
    "\n",
    "    # Return the calculated features as a dictionary\n",
    "    return {\n",
    "        'num_sides': num_sides,\n",
    "        'aspect_ratio': aspect_ratio,\n",
    "        'area': area,\n",
    "        'perimeter': perimeter,\n",
    "        'compactness': compactness\n",
    "    }"
   ]
  },
  {
   "cell_type": "code",
   "execution_count": null,
   "metadata": {},
   "outputs": [],
   "source": [
    "# Apply the extract_polygon_features function to the 'geometry' column\n",
    "extracted_features = lup['geometry'].apply(extract_polygon_features)\n",
    "\n",
    "# Convert the resulting Series of dictionaries to a DataFrame\n",
    "features_df = pd.DataFrame(extracted_features.tolist())\n",
    "\n",
    "# Reset index of the lup DataFrame and drop the old index column\n",
    "lup.reset_index(drop=True, inplace=True)\n",
    "\n",
    "# Concatenate the DataFrames along axis 1 (columns)\n",
    "lup_with_features = pd.concat([lup, features_df], axis=1)"
   ]
  }
 ],
 "metadata": {
  "kernelspec": {
   "display_name": "Python 3.10.6 64-bit",
   "language": "python",
   "name": "python3"
  },
  "language_info": {
   "name": "python",
   "version": "3.10.6"
  },
  "orig_nbformat": 4,
  "vscode": {
   "interpreter": {
    "hash": "916dbcbb3f70747c44a77c7bcd40155683ae19c65e1c03b4aa3499c5328201f1"
   }
  }
 },
 "nbformat": 4,
 "nbformat_minor": 2
}
