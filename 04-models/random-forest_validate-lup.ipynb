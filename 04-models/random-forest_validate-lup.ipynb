{
 "cells": [
  {
   "cell_type": "markdown",
   "metadata": {},
   "source": [
    "# Summary\n",
    "This code trains and evaluates a Random Forest Classifier to predict deforestation events based on land use and tree cover data. The input data consists of a stack of raster files, including land use plans, tree cover, and historical deforestation data. The model uses these raster files to predict deforestation events for the year 2012.\n",
    "\n",
    "The input raster data is flattened and stacked into a single 2D array, X_flat. `NoData` values are removed from the input data (X_cleaned) and the target variable (y_cleaned) before splitting them into training and testing datasets.\n",
    "\n",
    "The Random Forest Classifier is trained using the X_train and y_train datasets, and its performance is evaluated using cross-validation. The trained model is then used to predict deforestation events for the testing dataset (X_test). The model's performance is assessed using confusion matrices and classification reports for both the training and testing datasets.\n",
    "\n",
    "Finally, the feature importances of the input variables (e.g., land use plans, tree cover) are calculated and visualized in a bar chart to understand the relative importance of each input variable in predicting deforestation events."
   ]
  },
  {
   "cell_type": "markdown",
   "metadata": {},
   "source": [
    "# Import Libraries and Constants"
   ]
  },
  {
   "cell_type": "code",
   "execution_count": 25,
   "metadata": {},
   "outputs": [],
   "source": [
    "import os\n",
    "import re\n",
    "import sys\n",
    "import numpy as np\n",
    "import pandas as pd\n",
    "import tempfile\n",
    "import shutil\n",
    "import matplotlib.pyplot as plt\n",
    "import rasterio\n",
    "from sklearn.ensemble import RandomForestClassifier\n",
    "from sklearn.metrics import confusion_matrix, classification_report\n",
    "from sklearn.model_selection import train_test_split, cross_val_score\n",
    "from sklearn.model_selection import GridSearchCV\n",
    "from sklearn.model_selection import RandomizedSearchCV\n",
    "from scipy.stats import randint as sp_randint\n",
    "\n"
   ]
  },
  {
   "cell_type": "code",
   "execution_count": 26,
   "metadata": {},
   "outputs": [],
   "source": [
    "# Get the current working directory\n",
    "current_dir = os.path.abspath('')\n",
    "\n",
    "# Search for the 'constants.py' file starting from the current directory and moving up the hierarchy\n",
    "project_root = current_dir\n",
    "while not os.path.isfile(os.path.join(project_root, 'constants.py')):\n",
    "    project_root = os.path.dirname(project_root)\n",
    "\n",
    "# Add the project root to the Python path\n",
    "sys.path.append(project_root)\n",
    "\n"
   ]
  },
  {
   "cell_type": "code",
   "execution_count": 27,
   "metadata": {},
   "outputs": [],
   "source": [
    "from constants import SERVER_PATH, OUTPUT_PATH, MASKED_RASTERS_DIR, FEATURES_DIR\n"
   ]
  },
  {
   "cell_type": "code",
   "execution_count": 28,
   "metadata": {},
   "outputs": [],
   "source": [
    "#output- update this for subsequent runs\n",
    "output_folder = os.path.join(OUTPUT_PATH[0], 'basic_rf_model')\n",
    "\n",
    "\n"
   ]
  },
  {
   "cell_type": "code",
   "execution_count": 29,
   "metadata": {},
   "outputs": [],
   "source": [
    "# Where files for machine learning model should be located\n",
    "# Directory containing the raster files\n",
    "rasters_dir = MASKED_RASTERS_DIR[0]\n",
    "\n",
    "\n"
   ]
  },
  {
   "cell_type": "markdown",
   "metadata": {},
   "source": [
    "# Create Stack"
   ]
  },
  {
   "cell_type": "code",
   "execution_count": 30,
   "metadata": {},
   "outputs": [],
   "source": [
    "# helper function to read tiff files\n",
    "def read_tiff_image(file_path):\n",
    "    with rasterio.open(file_path) as src:\n",
    "        return src.read(1)\n"
   ]
  },
  {
   "cell_type": "code",
   "execution_count": 31,
   "metadata": {},
   "outputs": [],
   "source": [
    "# List of paths to the raster files to be used as features\n",
    "feature_files = [os.path.join(FEATURES_DIR[0], file_name) for file_name in os.listdir(FEATURES_DIR[0])]\n",
    "\n",
    "\n",
    "# Then you can use this list of feature_files to create feature_data_arrays and feature_data_flat:\n",
    "feature_data_arrays = [read_tiff_image(file_path) for file_path in feature_files]\n",
    "feature_data_flat = [data_array.flatten() for data_array in feature_data_arrays]\n",
    "\n",
    "# Path to the y_file\n",
    "y_file = os.path.join(MASKED_RASTERS_DIR[0], 'deforestation11_20_masked.tif')\n"
   ]
  },
  {
   "cell_type": "code",
   "execution_count": 32,
   "metadata": {},
   "outputs": [
    {
     "data": {
      "text/plain": [
       "['/Users/romero61/../../capstone/pyforest/ml_data/output/tree_masked_rasters/lup_10_treemask.tif']"
      ]
     },
     "execution_count": 32,
     "metadata": {},
     "output_type": "execute_result"
    }
   ],
   "source": [
    "feature_files\n"
   ]
  },
  {
   "cell_type": "code",
   "execution_count": 33,
   "metadata": {},
   "outputs": [
    {
     "data": {
      "text/plain": [
       "'/Users/romero61/../../capstone/pyforest/ml_data/output/masked_rasters/deforestation11_20_masked.tif'"
      ]
     },
     "execution_count": 33,
     "metadata": {},
     "output_type": "execute_result"
    }
   ],
   "source": [
    "y_file"
   ]
  },
  {
   "cell_type": "code",
   "execution_count": 34,
   "metadata": {},
   "outputs": [
    {
     "name": "stdout",
     "output_type": "stream",
     "text": [
      "All raster data arrays have the same dimensions.\n",
      "Raster 0: (22512, 20381)\n"
     ]
    }
   ],
   "source": [
    "# Find the dimensions of all the raster data arrays\n",
    "raster_shapes = [raster_data.shape for raster_data in feature_data_arrays]\n",
    "\n",
    "# Check if all raster data arrays have the same dimensions\n",
    "if len(set(raster_shapes)) > 1:\n",
    "    print(\"There are mismatching dimensions:\")\n",
    "    for file_path, raster_shape in zip(raster_files, raster_shapes):\n",
    "        print(f\"File: {file_path}, Shape: {raster_shape}\")\n",
    "else:\n",
    "    print(\"All raster data arrays have the same dimensions.\")\n",
    "    # Check the dimensions of all the raster data arrays\n",
    "    for i, data_array in enumerate(feature_data_arrays):\n",
    "        print(f\"Raster {i}: {data_array.shape}\")\n"
   ]
  },
  {
   "cell_type": "markdown",
   "metadata": {},
   "source": [
    "# Stack and Flatten Data"
   ]
  },
  {
   "cell_type": "code",
   "execution_count": 35,
   "metadata": {},
   "outputs": [
    {
     "ename": "KeyboardInterrupt",
     "evalue": "",
     "output_type": "error",
     "traceback": [
      "\u001b[0;31m---------------------------------------------------------------------------\u001b[0m",
      "\u001b[0;31mKeyboardInterrupt\u001b[0m                         Traceback (most recent call last)",
      "\u001b[0;31mKeyboardInterrupt\u001b[0m: "
     ]
    }
   ],
   "source": [
    "# NoData Value\n",
    "no_data_value = -1\n",
    "\n",
    "# Stack the flattened raster data\n",
    "X_flat = np.column_stack(feature_data_flat)\n",
    "\n",
    "# Use the y_file obtained from the find_deforestation_file function\n",
    "y = read_tiff_image(y_file).flatten()\n",
    "\n",
    "# Remove rows with NoData values\n",
    "'''checks each row in X_flat and creates a boolean array (valid_rows_X) that has the same number of elements \n",
    "as the number of rows in X_flat. Each element in valid_rows_X is True if there is no NoData value in \n",
    "the corresponding row of X_flat and False otherwise.'''\n",
    "valid_rows_X = ~(X_flat == no_data_value).any(axis=1)\n",
    "\n",
    "'''checks each element in the y array and creates a boolean array (valid_rows_y) that has the same number of \n",
    "elements as y. Each element in valid_rows_y is True if the corresponding element in y is not \n",
    "equal to the NoData value and False otherwise.'''\n",
    "valid_rows_y = y != no_data_value\n",
    "\n",
    "'''checks each element in the y array and creates a boolean array (valid_rows_y) \n",
    "that has the same number of elements as y. Each element in valid_rows_y is True if the corresponding element \n",
    "in y is not equal to the NoData value and False otherwise.'''\n",
    "valid_rows = valid_rows_X & valid_rows_y\n",
    "\n",
    "'''creates a new array X_cleaned by selecting only the rows in X_flat that \n",
    "correspond to the True elements in valid_rows.'''\n",
    "X_cleaned = X_flat[valid_rows]\n",
    "\n",
    "'''creates a new array y_cleaned by selecting only the elements in y that correspond \n",
    "to the True elements in valid_rows.'''\n",
    "y_cleaned = y[valid_rows]\n",
    " "
   ]
  },
  {
   "cell_type": "markdown",
   "metadata": {},
   "source": [
    "To ensure your data cleaning steps have been applied correctly, you can check the following:\n",
    "\n",
    "**NoData values have been removed:** You should confirm that there are no NoData values in your cleaned data. This can be done by asserting that there are no occurrences of no_data_value in X_cleaned and y_cleaned."
   ]
  },
  {
   "cell_type": "code",
   "execution_count": null,
   "metadata": {},
   "outputs": [],
   "source": [
    "assert not (X_cleaned == no_data_value).any()\n",
    "assert not (y_cleaned == no_data_value).any()\n"
   ]
  },
  {
   "cell_type": "markdown",
   "metadata": {},
   "source": [
    "These assertions will throw an error if there is a NoData value in X_cleaned or y_cleaned\n",
    "\n",
    "**Dimensions are correct:** The shapes of X_cleaned and y_cleaned should match along the row dimension (the first dimension for 2D array X_cleaned and the only dimension for 1D array y_cleaned)."
   ]
  },
  {
   "cell_type": "code",
   "execution_count": null,
   "metadata": {},
   "outputs": [
    {
     "name": "stdout",
     "output_type": "stream",
     "text": [
      "Shape of X_cleaned: (29112890, 1)\n",
      "Shape of y_cleaned: (29112890,)\n"
     ]
    }
   ],
   "source": [
    "print(\"Shape of X_cleaned:\", X_cleaned.shape)\n",
    "print(\"Shape of y_cleaned:\", y_cleaned.shape)\n"
   ]
  },
  {
   "cell_type": "markdown",
   "metadata": {},
   "source": [
    "Make sure the number of rows in X_cleaned equals the number of elements in y_cleaned.\n",
    "\n",
    "**Confirm that the valid rows have been correctly identified:** You can do this by checking that the number of True values in valid_rows equals the number of rows in X_cleaned (or the number of elements in y_cleaned)."
   ]
  },
  {
   "cell_type": "code",
   "execution_count": null,
   "metadata": {},
   "outputs": [],
   "source": [
    "assert valid_rows.sum() == X_cleaned.shape[0]\n"
   ]
  },
  {
   "cell_type": "markdown",
   "metadata": {},
   "source": [
    "# Split the data into training and testing sets\n"
   ]
  },
  {
   "cell_type": "code",
   "execution_count": null,
   "metadata": {},
   "outputs": [],
   "source": [
    "X_train, X_test, y_train, y_test = train_test_split(X_cleaned, y_cleaned, test_size=0.2, random_state=42)\n"
   ]
  },
  {
   "cell_type": "markdown",
   "metadata": {},
   "source": [
    "# Class Balance Check"
   ]
  },
  {
   "cell_type": "code",
   "execution_count": null,
   "metadata": {},
   "outputs": [
    {
     "name": "stdout",
     "output_type": "stream",
     "text": [
      "Training data balance:\n",
      " 0    0.747874\n",
      "1    0.252126\n",
      "dtype: float64\n",
      "Testing data balance:\n",
      " 0    0.747863\n",
      "1    0.252137\n",
      "dtype: float64\n",
      "Whole dataset balance:\n",
      " 0    0.747872\n",
      "1    0.252128\n",
      "dtype: float64\n"
     ]
    }
   ],
   "source": [
    "# Create pandas Series from your labels\n",
    "y_train_series = pd.Series(y_train)\n",
    "y_test_series = pd.Series(y_test)\n",
    "y_cleaned_series = pd.Series(y_cleaned)\n",
    "\n",
    "# Print balance of classes in training, testing, and whole dataset\n",
    "print(\"Training data balance:\\n\", y_train_series.value_counts(normalize=True))\n",
    "print(\"Testing data balance:\\n\", y_test_series.value_counts(normalize=True))\n",
    "print(\"Whole dataset balance:\\n\", y_cleaned_series.value_counts(normalize=True))\n"
   ]
  },
  {
   "cell_type": "markdown",
   "metadata": {},
   "source": [
    "The balance of your dataset seems to be roughly the same in both the training and testing sets, with about 83.8% of the instances belonging to class 0 (no deforestation) and 16.2% to class 1 (deforestation). This shows that the classes are quite imbalanced. Machine learning algorithms, including Random Forest, may have a bias towards the majority class in such situations, which could be one of the reasons why your model is not performing well on the minority class."
   ]
  },
  {
   "cell_type": "code",
   "execution_count": null,
   "metadata": {},
   "outputs": [
    {
     "name": "stdout",
     "output_type": "stream",
     "text": [
      "LUP_10 Value: 1.0, Count: 4156080\n",
      "LUP_10 Value: 2.0, Count: 12844684\n",
      "LUP_10 Value: 3.0, Count: 11556539\n",
      "LUP_10 Value: 4.0, Count: 555587\n",
      "-----------------\n"
     ]
    },
    {
     "data": {
      "image/png": "[encoded data removed]",
      "text/plain": [
       "<Figure size 1000x600 with 1 Axes>"
      ]
     },
     "metadata": {},
     "output_type": "display_data"
    }
   ],
   "source": [
    "# Create a list to hold your feature file paths\n",
    "\n",
    "\n",
    "# Define the labels for your features\n",
    "feature_labels = ['LUP_10']\n",
    "\n",
    "\n",
    "for i, feature in enumerate(feature_labels):\n",
    "    unique_values, counts = np.unique(X_cleaned[:, i], return_counts=True)\n",
    "    \n",
    "    # Print the counts for each unique value\n",
    "    for value, count in zip(unique_values, counts):\n",
    "        print(f'{feature} Value: {value}, Count: {count}')\n",
    "\n",
    "    print('-----------------')\n",
    "    \n",
    "    # Plot histogram\n",
    "    plt.figure(figsize=(10, 6))\n",
    "    plt.hist(X_cleaned[:, i], bins=20)\n",
    "    plt.title(f'{feature} Distribution')\n",
    "    plt.xlabel('Values')\n",
    "    plt.ylabel('Counts')\n",
    "    plt.show()\n"
   ]
  },
  {
   "cell_type": "markdown",
   "metadata": {},
   "source": [
    "# Simple Grid Search for a Random Forest model:"
   ]
  },
  {
   "cell_type": "code",
   "execution_count": null,
   "metadata": {},
   "outputs": [],
   "source": [
    "# Create a RandomForestClassifier instance\n",
    "rfc = RandomForestClassifier(random_state=42, class_weight= 'balanced')\n",
    "\n",
    "# Define a basic parameter grid\n",
    "param_grid = {\n",
    "    'n_estimators': [50, 100, 200],   # number of trees in the forest\n",
    "    'max_depth': [None, 5, 10, 20]    # maximum depth of the tree\n",
    "}\n",
    "\n",
    "'''# Complex Grid\n",
    "# Set the range of values for each hyperparameter\n",
    "param_grid = {\n",
    "    'n_estimators': [1000],\n",
    "    'max_depth': [50],\n",
    "    'min_samples_split': [ 2, 5, 10],\n",
    "    'min_samples_leaf': [1, 2, 5],\n",
    "    'max_features': ['sqrt'],\n",
    "    'bootstrap': [True],\n",
    "    'class_weight': ['balanced']\n",
    "}\n",
    "'''\n",
    "\n",
    "# Instantiate GridSearchCV\n",
    "grid_search = GridSearchCV(rfc, param_grid, cv=5, n_jobs=30)\n",
    "\n"
   ]
  },
  {
   "cell_type": "markdown",
   "metadata": {},
   "source": [
    "# Info on CV, fit, predict, predict_proba\n",
    "\n",
    "Cross-validation is a technique used to evaluate the performance of a machine learning model by training and testing it on different subsets of the dataset. It helps assess how well the model generalizes to new, unseen data and helps mitigate the risk of overfitting.\n",
    "\n",
    "Here's how the 5-fold cross-validation works:\n",
    "\n",
    "1. The entire dataset (X_cleaned and y_cleaned) is divided into 5 equally sized (or nearly equal) folds.\n",
    "2. The model is trained and tested 5 times. In each iteration, one of the folds is used as the test set, and the remaining 4 folds are used to train the model.\n",
    "3. For each iteration, the model's performance is evaluated using a chosen evaluation metric (in this case, accuracy, which is the default scoring method for cross_val_score).\n",
    "4. Once all 5 iterations are completed, the performance scores are averaged to give a single cross-validation score.\n",
    "\n",
    "By using cross-validation, you get a more reliable estimate of the model's performance because it's tested on different portions of the dataset. This helps to reduce the risk of overfitting and gives you a better understanding of how well your model generalizes to unseen data.\n",
    "\n",
    "Cross-validation is performed before  `clf.fit` to assess the performance of the model on the data without using the same data for both training and validation. It helps to understand how well the model is likely to generalize to new, unseen data before committing to training the final model.\n",
    "\n",
    " If the cross-validation scores are satisfactory, you can proceed to train the final model using the entire dataset with clf.fit.\n",
    "\n",
    " `clf.fit` is the method used to train the machine learning model on the provided dataset. In this case, it's training the Random Forest Classifier (denoted as `clf`) on the training dataset (`X_train` and `y_train`). The purpose of `clf.fit` is to learn the relationship between the input features (`X_train`) and the target variable (`y_train`) so that the model can make predictions on new, unseen data.\n",
    "\n",
    "`clf.predict` is the method used to make predictions using the trained model. Once the model is trained with `clf.fit`, it can then be used to predict the target variable for new input features.\n",
    "\n",
    "The model is predicting probabilities. The RandomForestClassifier, by default, outputs probabilities of class membership. It provides the probability of each pixel belonging to the deforested or non-deforested class. However, when you use `clf.predict()`, it returns the class with the highest probability, which is a **binary result (deforested or non-deforested).**\n",
    "\n",
    " The **`clf.predict_proba()`** function obtains probabilities instead of the binary result returning probabilities of each class. ` y_proba = clf.predict_proba(X_cleaned)[:, 1] `extracts the probabilities of deforestation events (class 1) for all pixels."
   ]
  },
  {
   "cell_type": "code",
   "execution_count": null,
   "metadata": {},
   "outputs": [
    {
     "data": {
      "text/html": [
       "<style>#sk-container-id-1 {color: black;background-color: white;}#sk-container-id-1 pre{padding: 0;}#sk-container-id-1 div.sk-toggleable {background-color: white;}#sk-container-id-1 label.sk-toggleable__label {cursor: pointer;display: block;width: 100%;margin-bottom: 0;padding: 0.3em;box-sizing: border-box;text-align: center;}#sk-container-id-1 label.sk-toggleable__label-arrow:before {content: \"▸\";float: left;margin-right: 0.25em;color: #696969;}#sk-container-id-1 label.sk-toggleable__label-arrow:hover:before {color: black;}#sk-container-id-1 div.sk-estimator:hover label.sk-toggleable__label-arrow:before {color: black;}#sk-container-id-1 div.sk-toggleable__content {max-height: 0;max-width: 0;overflow: hidden;text-align: left;background-color: #f0f8ff;}#sk-container-id-1 div.sk-toggleable__content pre {margin: 0.2em;color: black;border-radius: 0.25em;background-color: #f0f8ff;}#sk-container-id-1 input.sk-toggleable__control:checked~div.sk-toggleable__content {max-height: 200px;max-width: 100%;overflow: auto;}#sk-container-id-1 input.sk-toggleable__control:checked~label.sk-toggleable__label-arrow:before {content: \"▾\";}#sk-container-id-1 div.sk-estimator input.sk-toggleable__control:checked~label.sk-toggleable__label {background-color: #d4ebff;}#sk-container-id-1 div.sk-label input.sk-toggleable__control:checked~label.sk-toggleable__label {background-color: #d4ebff;}#sk-container-id-1 input.sk-hidden--visually {border: 0;clip: rect(1px 1px 1px 1px);clip: rect(1px, 1px, 1px, 1px);height: 1px;margin: -1px;overflow: hidden;padding: 0;position: absolute;width: 1px;}#sk-container-id-1 div.sk-estimator {font-family: monospace;background-color: #f0f8ff;border: 1px dotted black;border-radius: 0.25em;box-sizing: border-box;margin-bottom: 0.5em;}#sk-container-id-1 div.sk-estimator:hover {background-color: #d4ebff;}#sk-container-id-1 div.sk-parallel-item::after {content: \"\";width: 100%;border-bottom: 1px solid gray;flex-grow: 1;}#sk-container-id-1 div.sk-label:hover label.sk-toggleable__label {background-color: #d4ebff;}#sk-container-id-1 div.sk-serial::before {content: \"\";position: absolute;border-left: 1px solid gray;box-sizing: border-box;top: 0;bottom: 0;left: 50%;z-index: 0;}#sk-container-id-1 div.sk-serial {display: flex;flex-direction: column;align-items: center;background-color: white;padding-right: 0.2em;padding-left: 0.2em;position: relative;}#sk-container-id-1 div.sk-item {position: relative;z-index: 1;}#sk-container-id-1 div.sk-parallel {display: flex;align-items: stretch;justify-content: center;background-color: white;position: relative;}#sk-container-id-1 div.sk-item::before, #sk-container-id-1 div.sk-parallel-item::before {content: \"\";position: absolute;border-left: 1px solid gray;box-sizing: border-box;top: 0;bottom: 0;left: 50%;z-index: -1;}#sk-container-id-1 div.sk-parallel-item {display: flex;flex-direction: column;z-index: 1;position: relative;background-color: white;}#sk-container-id-1 div.sk-parallel-item:first-child::after {align-self: flex-end;width: 50%;}#sk-container-id-1 div.sk-parallel-item:last-child::after {align-self: flex-start;width: 50%;}#sk-container-id-1 div.sk-parallel-item:only-child::after {width: 0;}#sk-container-id-1 div.sk-dashed-wrapped {border: 1px dashed gray;margin: 0 0.4em 0.5em 0.4em;box-sizing: border-box;padding-bottom: 0.4em;background-color: white;}#sk-container-id-1 div.sk-label label {font-family: monospace;font-weight: bold;display: inline-block;line-height: 1.2em;}#sk-container-id-1 div.sk-label-container {text-align: center;}#sk-container-id-1 div.sk-container {/* jupyter's `normalize.less` sets `[hidden] { display: none; }` but bootstrap.min.css set `[hidden] { display: none !important; }` so we also need the `!important` here to be able to override the default hidden behavior on the sphinx rendered scikit-learn.org. See: https://github.com/scikit-learn/scikit-learn/issues/21755 */display: inline-block !important;position: relative;}#sk-container-id-1 div.sk-text-repr-fallback {display: none;}</style><div id=\"sk-container-id-1\" class=\"sk-top-container\"><div class=\"sk-text-repr-fallback\"><pre>GridSearchCV(cv=5,\n",
       "             estimator=RandomForestClassifier(class_weight=&#x27;balanced&#x27;,\n",
       "                                              random_state=42),\n",
       "             n_jobs=30,\n",
       "             param_grid={&#x27;max_depth&#x27;: [None, 5, 10, 20],\n",
       "                         &#x27;n_estimators&#x27;: [50, 100, 200]})</pre><b>In a Jupyter environment, please rerun this cell to show the HTML representation or trust the notebook. <br />On GitHub, the HTML representation is unable to render, please try loading this page with nbviewer.org.</b></div><div class=\"sk-container\" hidden><div class=\"sk-item sk-dashed-wrapped\"><div class=\"sk-label-container\"><div class=\"sk-label sk-toggleable\"><input class=\"sk-toggleable__control sk-hidden--visually\" id=\"sk-estimator-id-1\" type=\"checkbox\" ><label for=\"sk-estimator-id-1\" class=\"sk-toggleable__label sk-toggleable__label-arrow\">GridSearchCV</label><div class=\"sk-toggleable__content\"><pre>GridSearchCV(cv=5,\n",
       "             estimator=RandomForestClassifier(class_weight=&#x27;balanced&#x27;,\n",
       "                                              random_state=42),\n",
       "             n_jobs=30,\n",
       "             param_grid={&#x27;max_depth&#x27;: [None, 5, 10, 20],\n",
       "                         &#x27;n_estimators&#x27;: [50, 100, 200]})</pre></div></div></div><div class=\"sk-parallel\"><div class=\"sk-parallel-item\"><div class=\"sk-item\"><div class=\"sk-label-container\"><div class=\"sk-label sk-toggleable\"><input class=\"sk-toggleable__control sk-hidden--visually\" id=\"sk-estimator-id-2\" type=\"checkbox\" ><label for=\"sk-estimator-id-2\" class=\"sk-toggleable__label sk-toggleable__label-arrow\">estimator: RandomForestClassifier</label><div class=\"sk-toggleable__content\"><pre>RandomForestClassifier(class_weight=&#x27;balanced&#x27;, random_state=42)</pre></div></div></div><div class=\"sk-serial\"><div class=\"sk-item\"><div class=\"sk-estimator sk-toggleable\"><input class=\"sk-toggleable__control sk-hidden--visually\" id=\"sk-estimator-id-3\" type=\"checkbox\" ><label for=\"sk-estimator-id-3\" class=\"sk-toggleable__label sk-toggleable__label-arrow\">RandomForestClassifier</label><div class=\"sk-toggleable__content\"><pre>RandomForestClassifier(class_weight=&#x27;balanced&#x27;, random_state=42)</pre></div></div></div></div></div></div></div></div></div></div>"
      ],
      "text/plain": [
       "GridSearchCV(cv=5,\n",
       "             estimator=RandomForestClassifier(class_weight='balanced',\n",
       "                                              random_state=42),\n",
       "             n_jobs=30,\n",
       "             param_grid={'max_depth': [None, 5, 10, 20],\n",
       "                         'n_estimators': [50, 100, 200]})"
      ]
     },
     "execution_count": 24,
     "metadata": {},
     "output_type": "execute_result"
    }
   ],
   "source": [
    "# Fit to the training data\n",
    "grid_search.fit(X_train, y_train)"
   ]
  },
  {
   "cell_type": "markdown",
   "metadata": {},
   "source": [
    "# Examine Fit Results\n",
    "\n",
    "grid_search.best_params_ contains the hyperparameter combination that resulted in the highest average cross-validation score across the different folds during the grid search. This is useful information as it tells you which hyperparameters worked best for your model and data.\n",
    "\n",
    "grid_search.best_score_ is the highest mean cross-validation score achieved by the best hyperparameter combination found in the grid search. It gives you an idea of the model's performance with the optimal hyperparameters during the cross-validation process.\n",
    "\n",
    "Best estimator: This provides the best estimator found by grid search. This is already fitted to the data and can be used for making predictions or further analysis.\n",
    "\n",
    "CV Results: This provides a dictionary with various details about the grid search, like scores for each combination of parameters, time taken for fitting and scoring, etc. Note: cv_results_ is a dictionary and can be quite verbose, you may want to convert it into a DataFrame for easier viewing.\n",
    "\n",
    "Scorer: This provides the scoring function used by grid search.\n",
    "\n",
    "Refit Time: This gives the time taken to refit the best estimator with the entire dataset."
   ]
  },
  {
   "cell_type": "code",
   "execution_count": 36,
   "metadata": {},
   "outputs": [
    {
     "name": "stdout",
     "output_type": "stream",
     "text": [
      "Attributes and methods specific to GridSearchCV:\n",
      "best_estimator_\n",
      "best_index_\n",
      "best_params_\n",
      "best_score_\n",
      "cv\n",
      "cv_results_\n",
      "error_score\n",
      "estimator\n",
      "multimetric_\n",
      "n_jobs\n",
      "n_splits_\n",
      "param_grid\n",
      "pre_dispatch\n",
      "refit\n",
      "refit_time_\n",
      "return_train_score\n",
      "scorer_\n",
      "scoring\n",
      "verbose\n"
     ]
    }
   ],
   "source": [
    "# Print all available attributes and methods for the random_search object\n",
    "all_attributes_methods = dir(grid_search)\n",
    "\n",
    "# Filter out attributes and methods inherited from BaseSearchCV\n",
    "specific_attributes_methods = [\n",
    "    attribute for attribute in all_attributes_methods\n",
    "    if attribute not in dir(GridSearchCV)\n",
    "]\n",
    "\n",
    "print(\"Attributes and methods specific to GridSearchCV:\")\n",
    "for attr in specific_attributes_methods:\n",
    "    print(attr)\n"
   ]
  },
  {
   "cell_type": "code",
   "execution_count": 37,
   "metadata": {},
   "outputs": [
    {
     "data": {
      "text/plain": [
       "<bound method BaseSearchCV.score of GridSearchCV(cv=5,\n",
       "             estimator=RandomForestClassifier(class_weight='balanced',\n",
       "                                              random_state=42),\n",
       "             n_jobs=30,\n",
       "             param_grid={'max_depth': [None, 5, 10, 20],\n",
       "                         'n_estimators': [50, 100, 200]})>"
      ]
     },
     "execution_count": 37,
     "metadata": {},
     "output_type": "execute_result"
    }
   ],
   "source": [
    "grid_search.score\n"
   ]
  },
  {
   "cell_type": "code",
   "execution_count": 38,
   "metadata": {},
   "outputs": [
    {
     "name": "stdout",
     "output_type": "stream",
     "text": [
      "Best parameters: {'max_depth': None, 'n_estimators': 50}\n",
      "Best cross-validation score: 0.6629679756950051\n"
     ]
    }
   ],
   "source": [
    "\n",
    "\n",
    "# Get the best parameters and the corresponding score\n",
    "best_params = grid_search.best_params_\n",
    "best_score = grid_search.best_score_\n",
    "\n",
    "print(\"Best parameters:\", best_params)\n",
    "print(\"Best cross-validation score:\", best_score)"
   ]
  },
  {
   "cell_type": "markdown",
   "metadata": {},
   "source": [
    "After fitting the GridSearchCV, you can evaluate the performance of the best model on the test data (X_test and y_test) using the best_estimator_ attribute of the grid_search object:"
   ]
  },
  {
   "cell_type": "code",
   "execution_count": 39,
   "metadata": {},
   "outputs": [
    {
     "name": "stdout",
     "output_type": "stream",
     "text": [
      "Best estimator: RandomForestClassifier(class_weight='balanced', n_estimators=50,\n",
      "                       random_state=42)\n",
      "CV Results:     mean_fit_time  std_fit_time  mean_score_time  std_score_time  \\\n",
      "0      274.742216     40.449567        13.284591        2.368104   \n",
      "1      540.627215     84.162752        25.696786        4.426461   \n",
      "2      971.461031     63.136741        42.940330        1.264654   \n",
      "3      273.410403     41.321225        13.305222        2.384086   \n",
      "4      579.573385     71.996329        28.447379        5.187632   \n",
      "5     1039.306862    117.978545        42.286044        1.712761   \n",
      "6      238.778957      0.964374        11.337600        0.085331   \n",
      "7      606.569776     69.360001        22.280059        1.380264   \n",
      "8      895.937743      2.153011        40.275833        0.238696   \n",
      "9      239.197251      1.223254        11.412856        0.091687   \n",
      "10     523.715583     22.766512        20.739387        0.147219   \n",
      "11     856.657813      7.239915        39.799050        0.281099   \n",
      "\n",
      "   param_max_depth param_n_estimators  \\\n",
      "0             None                 50   \n",
      "1             None                100   \n",
      "2             None                200   \n",
      "3                5                 50   \n",
      "4                5                100   \n",
      "5                5                200   \n",
      "6               10                 50   \n",
      "7               10                100   \n",
      "8               10                200   \n",
      "9               20                 50   \n",
      "10              20                100   \n",
      "11              20                200   \n",
      "\n",
      "                                      params  split0_test_score  \\\n",
      "0    {'max_depth': None, 'n_estimators': 50}           0.663072   \n",
      "1   {'max_depth': None, 'n_estimators': 100}           0.663072   \n",
      "2   {'max_depth': None, 'n_estimators': 200}           0.663072   \n",
      "3       {'max_depth': 5, 'n_estimators': 50}           0.663072   \n",
      "4      {'max_depth': 5, 'n_estimators': 100}           0.663072   \n",
      "5      {'max_depth': 5, 'n_estimators': 200}           0.663072   \n",
      "6      {'max_depth': 10, 'n_estimators': 50}           0.663072   \n",
      "7     {'max_depth': 10, 'n_estimators': 100}           0.663072   \n",
      "8     {'max_depth': 10, 'n_estimators': 200}           0.663072   \n",
      "9      {'max_depth': 20, 'n_estimators': 50}           0.663072   \n",
      "10    {'max_depth': 20, 'n_estimators': 100}           0.663072   \n",
      "11    {'max_depth': 20, 'n_estimators': 200}           0.663072   \n",
      "\n",
      "    split1_test_score  split2_test_score  split3_test_score  \\\n",
      "0            0.662919           0.663215           0.662653   \n",
      "1            0.662919           0.663215           0.662653   \n",
      "2            0.662919           0.663215           0.662653   \n",
      "3            0.662919           0.663215           0.662653   \n",
      "4            0.662919           0.663215           0.662653   \n",
      "5            0.662919           0.663215           0.662653   \n",
      "6            0.662919           0.663215           0.662653   \n",
      "7            0.662919           0.663215           0.662653   \n",
      "8            0.662919           0.663215           0.662653   \n",
      "9            0.662919           0.663215           0.662653   \n",
      "10           0.662919           0.663215           0.662653   \n",
      "11           0.662919           0.663215           0.662653   \n",
      "\n",
      "    split4_test_score  mean_test_score  std_test_score  rank_test_score  \n",
      "0            0.662981         0.662968        0.000186                1  \n",
      "1            0.662981         0.662968        0.000186                1  \n",
      "2            0.662981         0.662968        0.000186                1  \n",
      "3            0.662981         0.662968        0.000186                1  \n",
      "4            0.662981         0.662968        0.000186                1  \n",
      "5            0.662981         0.662968        0.000186                1  \n",
      "6            0.662981         0.662968        0.000186                1  \n",
      "7            0.662981         0.662968        0.000186                1  \n",
      "8            0.662981         0.662968        0.000186                1  \n",
      "9            0.662981         0.662968        0.000186                1  \n",
      "10           0.662981         0.662968        0.000186                1  \n",
      "11           0.662981         0.662968        0.000186                1  \n",
      "Scorer function: <function _passthrough_scorer at 0x7fe289aa1760>\n",
      "Refit time (seconds): 246.6594808101654\n"
     ]
    }
   ],
   "source": [
    "\n",
    "best_estimator = grid_search.best_estimator_\n",
    "\n",
    "cv_results = grid_search.cv_results_\n",
    "\n",
    "cv_results_df = pd.DataFrame(grid_search.cv_results_)\n",
    "\n",
    "scorer = grid_search.scorer_\n",
    "\n",
    "refit_time = grid_search.refit_time_\n",
    "\n",
    "print(\"Best estimator:\", best_estimator)\n",
    "print(\"CV Results:\",cv_results_df)\n",
    "print(\"Scorer function:\", scorer)\n",
    "print(\"Refit time (seconds):\", refit_time)\n",
    "\n"
   ]
  },
  {
   "cell_type": "markdown",
   "metadata": {},
   "source": [
    "# Evaluate the model performance using your preferred metrics \n",
    "e.g., confusion matrix, classification report, accuracy, F1-score, etc."
   ]
  },
  {
   "cell_type": "code",
   "execution_count": 40,
   "metadata": {},
   "outputs": [],
   "source": [
    "best_model = grid_search.best_estimator_\n"
   ]
  },
  {
   "cell_type": "code",
   "execution_count": 41,
   "metadata": {},
   "outputs": [],
   "source": [
    "# Predictions for test data\n",
    "y_pred = best_model.predict(X_test)\n"
   ]
  },
  {
   "cell_type": "markdown",
   "metadata": {},
   "source": [
    "Evaluate the performance of your model by comparing the predicted labels (y_pred) with the true labels (y_test). You can use various metrics such as confusion matrix, classification report, accuracy, F1-score, etc.:"
   ]
  },
  {
   "cell_type": "code",
   "execution_count": 42,
   "metadata": {},
   "outputs": [
    {
     "name": "stdout",
     "output_type": "stream",
     "text": [
      "Accuracy: 0.662964583729063\n",
      "F1-score: 0.6825186525258168\n",
      "Classification report:\n",
      "               precision    recall  f1-score   support\n",
      "\n",
      "           0       0.84      0.68      0.75   4354490\n",
      "           1       0.39      0.62      0.48   1468088\n",
      "\n",
      "    accuracy                           0.66   5822578\n",
      "   macro avg       0.62      0.65      0.62   5822578\n",
      "weighted avg       0.73      0.66      0.68   5822578\n",
      "\n"
     ]
    }
   ],
   "source": [
    "from sklearn.metrics import accuracy_score, f1_score, classification_report\n",
    "\n",
    "# Calculate accuracy\n",
    "accuracy = accuracy_score(y_test, y_pred)\n",
    "print(\"Accuracy:\", accuracy)\n",
    "\n",
    "# Calculate F1-score (use 'weighted' or 'macro' depending on your problem)\n",
    "f1 = f1_score(y_test, y_pred, average='weighted')\n",
    "print(\"F1-score:\", f1)\n",
    "\n",
    "# Print classification report\n",
    "report = classification_report(y_test, y_pred)\n",
    "print(\"Classification report:\\n\", report)\n"
   ]
  },
  {
   "cell_type": "markdown",
   "metadata": {},
   "source": [
    "# Training classification report:\n"
   ]
  },
  {
   "cell_type": "code",
   "execution_count": 43,
   "metadata": {},
   "outputs": [],
   "source": [
    "# Predictions for train data\n",
    "y_pred_train = best_model.predict(X_train)"
   ]
  },
  {
   "cell_type": "code",
   "execution_count": 44,
   "metadata": {},
   "outputs": [
    {
     "name": "stdout",
     "output_type": "stream",
     "text": [
      "Training confusion matrix:\n",
      "[[11807849  5610380]\n",
      " [ 2239201  3632882]]\n",
      "Training classification report:\n",
      "              precision    recall  f1-score   support\n",
      "\n",
      "           0       0.84      0.68      0.75  17418229\n",
      "           1       0.39      0.62      0.48   5872083\n",
      "\n",
      "    accuracy                           0.66  23290312\n",
      "   macro avg       0.62      0.65      0.62  23290312\n",
      "weighted avg       0.73      0.66      0.68  23290312\n",
      "\n"
     ]
    }
   ],
   "source": [
    "# Confusion matrix and classification report for train data\n",
    "train_cm = confusion_matrix(y_train, y_pred_train)\n",
    "train_cr = classification_report(y_train, y_pred_train)\n",
    "print(\"Training confusion matrix:\")\n",
    "print(train_cm)\n",
    "print(\"Training classification report:\")\n",
    "print(train_cr)"
   ]
  },
  {
   "cell_type": "markdown",
   "metadata": {},
   "source": [
    "# Probabilities for deforestation"
   ]
  },
  {
   "cell_type": "code",
   "execution_count": null,
   "metadata": {},
   "outputs": [],
   "source": [
    "# Predict probabilities for deforestation events\n",
    "y_proba = best_model.predict_proba(X_cleaned)[:, 1]"
   ]
  },
  {
   "cell_type": "code",
   "execution_count": null,
   "metadata": {},
   "outputs": [],
   "source": [
    "# Predicts the \n",
    "# Create a probability raster by filling in the valid pixel values\n",
    "prob_raster = np.full(y.shape, no_data_value, dtype=np.float32)\n",
    "prob_raster[valid_rows] = y_proba\n",
    "prob_raster = prob_raster.reshape(feature_data_arrays[0].shape)\n"
   ]
  },
  {
   "cell_type": "markdown",
   "metadata": {},
   "source": []
  },
  {
   "cell_type": "code",
   "execution_count": 32,
   "metadata": {},
   "outputs": [],
   "source": [
    "# Save the probability raster as a GeoTIFF file\n",
    "if not os.path.exists(output_folder):\n",
    "    os.makedirs(output_folder)\n",
    "\n",
    "output_file = os.path.join(output_folder, \"deforestation_prob_simple.tiff\")\n",
    "\n",
    "with rasterio.open(y_file) as src:\n",
    "    profile = src.profile\n",
    "    profile.update(dtype=rasterio.float32, count=1)\n",
    "\n",
    "prob_raster_reshaped = prob_raster.reshape((1, prob_raster.shape[0], prob_raster.shape[1]))\n",
    "\n",
    "with rasterio.open(output_file, 'w', **profile) as dst:\n",
    "    dst.write_band(1, prob_raster_reshaped[0])\n",
    "\n",
    "\n"
   ]
  },
  {
   "cell_type": "markdown",
   "metadata": {},
   "source": [
    "# Tuning Strategies"
   ]
  },
  {
   "cell_type": "code",
   "execution_count": 33,
   "metadata": {},
   "outputs": [
    {
     "data": {
      "text/plain": [
       "'param_dist = {\\n    \"n_estimators\": sp_randint(100, 300),\\n    \\'criterion\\': [\\'gini\\',],\\n    \\'max_features\\': [\\'sqrt\\', None],\\n    \"max_depth\": sp_randint(1, 20),\\n    \"min_samples_split\": sp_randint(2, 11),\\n    \"min_samples_leaf\": sp_randint(1, 11),\\n    \"bootstrap\": [True],\\n    \\'class_weight\\': [\\'balanced\\']\\n}\\n\\n# Instantiate the RandomForestClassifier\\nclf = RandomForestClassifier(random_state=0)\\n\\n# Set up the RandomizedSearchCV\\nrandom_search = RandomizedSearchCV(\\n    clf, param_distributions=param_dist, n_iter=20, cv=5, random_state=0, n_jobs=19\\n)'"
      ]
     },
     "execution_count": 33,
     "metadata": {},
     "output_type": "execute_result"
    }
   ],
   "source": [
    "# Randomized Search\n",
    "# Set the range of values for each hyperparameter\n",
    "'''param_dist = {\n",
    "    \"n_estimators\": sp_randint(100, 300),\n",
    "    'criterion': ['gini',],\n",
    "    'max_features': ['sqrt', None],\n",
    "    \"max_depth\": sp_randint(1, 20),\n",
    "    \"min_samples_split\": sp_randint(2, 11),\n",
    "    \"min_samples_leaf\": sp_randint(1, 11),\n",
    "    \"bootstrap\": [True],\n",
    "    'class_weight': ['balanced']\n",
    "}\n",
    "\n",
    "# Instantiate the RandomForestClassifier\n",
    "clf = RandomForestClassifier(random_state=0)\n",
    "\n",
    "# Set up the RandomizedSearchCV\n",
    "random_search = RandomizedSearchCV(\n",
    "    clf, param_distributions=param_dist, n_iter=20, cv=5, random_state=0, n_jobs=19\n",
    ")'''\n"
   ]
  }
 ],
 "metadata": {
  "kernelspec": {
   "display_name": "Python 3.11.3 ('pyforest')",
   "language": "python",
   "name": "python3"
  },
  "language_info": {
   "codemirror_mode": {
    "name": "ipython",
    "version": 3
   },
   "file_extension": ".py",
   "mimetype": "text/x-python",
   "name": "python",
   "nbconvert_exporter": "python",
   "pygments_lexer": "ipython3",
   "version": "3.11.3"
  },
  "orig_nbformat": 4,
  "vscode": {
   "interpreter": {
    "hash": "aca51edb778be56207d5a76d5369999259e96b3950a8b6f86c3be07548c77925"
   }
  }
 },
 "nbformat": 4,
 "nbformat_minor": 2
}
