{
 "cells": [
  {
   "cell_type": "markdown",
   "metadata": {},
   "source": [
    "# Summary\n",
    "This code trains and evaluates a Random Forest Classifier to predict deforestation events based on land use and tree cover data. The input data consists of a stack of raster files, including land use plans, tree cover, and historical deforestation data. The model uses these raster files to predict deforestation events for the year 2012.\n",
    "\n",
    "The input raster data is flattened and stacked into a single 2D array, X_flat. `NoData` values are removed from the input data (X_cleaned) and the target variable (y_cleaned) before splitting them into training and testing datasets.\n",
    "\n",
    "The Random Forest Classifier is trained using the X_train and y_train datasets, and its performance is evaluated using cross-validation. The trained model is then used to predict deforestation events for the testing dataset (X_test). The model's performance is assessed using confusion matrices and classification reports for both the training and testing datasets.\n",
    "\n",
    "Finally, the feature importances of the input variables (e.g., land use plans, tree cover) are calculated and visualized in a bar chart to understand the relative importance of each input variable in predicting deforestation events."
   ]
  },
  {
   "cell_type": "markdown",
   "metadata": {},
   "source": [
    "# Import Libraries and Constants"
   ]
  },
  {
   "cell_type": "code",
   "execution_count": 13,
   "metadata": {},
   "outputs": [],
   "source": [
    "import os\n",
    "import re\n",
    "import sys\n",
    "import numpy as np\n",
    "import tempfile\n",
    "import shutil\n",
    "import matplotlib.pyplot as plt\n",
    "import rasterio\n",
    "from sklearn.ensemble import RandomForestClassifier\n",
    "from sklearn.metrics import confusion_matrix, classification_report\n",
    "from sklearn.model_selection import train_test_split, cross_val_score\n"
   ]
  },
  {
   "cell_type": "code",
   "execution_count": 14,
   "metadata": {},
   "outputs": [],
   "source": [
    "# Get the current working directory\n",
    "current_dir = os.path.abspath('')\n",
    "\n",
    "# Search for the 'constants.py' file starting from the current directory and moving up the hierarchy\n",
    "project_root = current_dir\n",
    "while not os.path.isfile(os.path.join(project_root, 'constants.py')):\n",
    "    project_root = os.path.dirname(project_root)\n",
    "\n",
    "# Add the project root to the Python path\n",
    "sys.path.append(project_root)\n",
    "\n"
   ]
  },
  {
   "cell_type": "code",
   "execution_count": 15,
   "metadata": {},
   "outputs": [],
   "source": [
    "from constants import SERVER_PATH, OUTPUT_PATH, MASKED_RASTERS_DIR\n"
   ]
  },
  {
   "cell_type": "code",
   "execution_count": 16,
   "metadata": {},
   "outputs": [],
   "source": [
    "# Constants\n",
    "\n",
    "# Current working folder\n",
    "input_folder =  os.path.join(MASKED_RASTERS_DIR[0], 'lup_year_grupo_raster','lup_11_grupo_raster')\n",
    "\n",
    "#output\n",
    "output_folder = os.path.join(OUTPUT_PATH[0], 'using_grupo_rf_model')\n",
    "#for mask\n",
    "no_data_value = -1\n",
    "# for mask and stack\n",
    "lup_raster_pattern = re.compile(r'^lup_\\d+_grupo_raster\\.tif$')\n",
    "\n"
   ]
  },
  {
   "cell_type": "markdown",
   "metadata": {},
   "source": [
    "# Create Stack"
   ]
  },
  {
   "cell_type": "code",
   "execution_count": 17,
   "metadata": {},
   "outputs": [],
   "source": [
    "# helper function to read tiff files\n",
    "def read_tiff_image(file_path):\n",
    "    with rasterio.open(file_path) as src:\n",
    "        return src.read(1)\n"
   ]
  },
  {
   "cell_type": "code",
   "execution_count": 18,
   "metadata": {},
   "outputs": [
    {
     "data": {
      "text/plain": [
       "'11'"
      ]
     },
     "execution_count": 18,
     "metadata": {},
     "output_type": "execute_result"
    }
   ],
   "source": [
    "#get the year of the folder\n",
    "folder_name = os.path.basename(input_folder)\n",
    "year = folder_name.split('_')[1]\n",
    "year"
   ]
  },
  {
   "cell_type": "code",
   "execution_count": 19,
   "metadata": {},
   "outputs": [],
   "source": [
    "# Read all the raster files in the folder\n",
    "all_files = [\n",
    "    file for file in os.listdir(input_folder)\n",
    "    if file.endswith(\".tif\") and not lup_raster_pattern.match(file)\n",
    "]\n",
    "\n",
    "# Get deforestation file names and sort by year\n",
    "deforestation_pattern = re.compile(r'^deforestation_(\\d+)_masked\\.tif$')\n",
    "deforestation_files = sorted(\n",
    "    [file for file in all_files if deforestation_pattern.match(file)],\n",
    "    key=lambda x: int(deforestation_pattern.match(x).group(1))\n",
    ")\n",
    "\n",
    "raster_files = []\n",
    "treecover_file = \"tree_cover_10_percent_and_above_masked.tif\"\n",
    "\n",
    "\n",
    "\n"
   ]
  },
  {
   "cell_type": "markdown",
   "metadata": {},
   "source": [
    "### lup_file requires UPDATE"
   ]
  },
  {
   "cell_type": "code",
   "execution_count": 21,
   "metadata": {},
   "outputs": [],
   "source": [
    "lup_file = f\"lup_{year}_grupo_raster_masked.tif\"\n",
    "\n"
   ]
  },
  {
   "cell_type": "code",
   "execution_count": 23,
   "metadata": {},
   "outputs": [],
   "source": [
    "raster_files += [\n",
    "        os.path.join(input_folder, treecover_file),\n",
    "        os.path.join(input_folder, lup_file)\n",
    "    ]\n",
    "\n",
    "\n",
    "\n",
    "for deforestation_file in deforestation_files: \n",
    "    # Get corresponding raster files\n",
    "    raster_files += [\n",
    "        os.path.join(input_folder, deforestation_file)  \n",
    "    ]\n",
    "\n",
    "\n",
    "\n",
    "raster_data_arrays = [read_tiff_image(file_path) for file_path in raster_files]\n",
    "raster_data_flat = [data_array.flatten() for data_array in raster_data_arrays]\n"
   ]
  },
  {
   "cell_type": "code",
   "execution_count": 29,
   "metadata": {},
   "outputs": [
    {
     "name": "stdout",
     "output_type": "stream",
     "text": [
      "All raster data arrays have the same dimensions.\n",
      "Raster 0: (22512, 20381)\n",
      "Raster 1: (22512, 20381)\n",
      "Raster 2: (22512, 20381)\n",
      "Raster 3: (22512, 20381)\n",
      "Raster 4: (22512, 20381)\n",
      "Raster 5: (22512, 20381)\n",
      "Raster 6: (22512, 20381)\n",
      "Raster 7: (22512, 20381)\n",
      "Raster 8: (22512, 20381)\n",
      "Raster 9: (22512, 20381)\n",
      "Raster 10: (22512, 20381)\n",
      "Raster 11: (22512, 20381)\n",
      "Raster 12: (22512, 20381)\n"
     ]
    }
   ],
   "source": [
    "# Find the dimensions of all the raster data arrays\n",
    "raster_shapes = [raster_data.shape for raster_data in raster_data_arrays]\n",
    "\n",
    "# Check if all raster data arrays have the same dimensions\n",
    "if len(set(raster_shapes)) > 1:\n",
    "    print(\"There are mismatching dimensions:\")\n",
    "    for file_path, raster_shape in zip(raster_files, raster_shapes):\n",
    "        print(f\"File: {file_path}, Shape: {raster_shape}\")\n",
    "else:\n",
    "    print(\"All raster data arrays have the same dimensions.\")\n",
    "    # Check the dimensions of all the raster data arrays\n",
    "    for i, data_array in enumerate(raster_data_arrays):\n",
    "        print(f\"Raster {i}: {data_array.shape}\")\n"
   ]
  },
  {
   "cell_type": "markdown",
   "metadata": {},
   "source": [
    "# Target Variable\n",
    "Here we want to find the next years deforestation file from the next folder"
   ]
  },
  {
   "cell_type": "code",
   "execution_count": 26,
   "metadata": {},
   "outputs": [
    {
     "name": "stdout",
     "output_type": "stream",
     "text": [
      "Next folder: /Users/romero61/../../capstone/pyforest/ml_data/output/masked_rasters/lup_year_grupo_raster/lup_12_grupo_raster\n",
      "Deforestation file: /Users/romero61/../../capstone/pyforest/ml_data/output/masked_rasters/lup_year_grupo_raster/lup_12_grupo_raster/deforestation_12_masked.tif\n"
     ]
    }
   ],
   "source": [
    "def find_deforestation_file(folder_path, current_year):\n",
    "    next_year = int(current_year) + 1\n",
    "    for file in os.listdir(folder_path):\n",
    "        if file.endswith(\".tif\") and file.startswith(f\"deforestation_{next_year}_\"):\n",
    "            return os.path.join(folder_path, file)\n",
    "    return None\n",
    "\n",
    "\n",
    "\n",
    "current_folder = input_folder\n",
    "\n",
    "# Get the list of all folders in the lup_year_grupo_raster folder\n",
    "lup_year_grupo_raster_folder = os.path.dirname(current_folder)\n",
    "all_folders = [os.path.join(lup_year_grupo_raster_folder, f) for f in os.listdir(lup_year_grupo_raster_folder) if os.path.isdir(os.path.join(lup_year_grupo_raster_folder, f))]\n",
    "\n",
    "# Sort the folders\n",
    "all_folders.sort()\n",
    "\n",
    "# Find the index of the current folder in the list of all folders\n",
    "current_folder_index = all_folders.index(current_folder)\n",
    "\n",
    "# Check if the current folder is the last folder\n",
    "if current_folder_index == len(all_folders) - 1:\n",
    "    print(\"The current folder is the last folder. No more folders to process.\")\n",
    "else:\n",
    "    # Get the path to the next folder\n",
    "    next_folder = all_folders[current_folder_index + 1]\n",
    "\n",
    "    # Find the deforestation file in the next folder\n",
    "    y_file = find_deforestation_file(next_folder, year)\n",
    "    print(\"Next folder:\", next_folder)\n",
    "    print(\"Deforestation file:\", y_file)\n",
    "\n"
   ]
  },
  {
   "cell_type": "code",
   "execution_count": 31,
   "metadata": {},
   "outputs": [],
   "source": [
    "#Add the 2012 deforestation file to the raster_files list:\n",
    "raster_files += [\n",
    "    y_file\n",
    "]\n",
    "# Read the raster data for the additional file\n",
    "raster_data_arrays.append(read_tiff_image(y_file))\n",
    "\n",
    "# Flatten the raster data for the additional file\n",
    "raster_data_flat.append(raster_data_arrays[-1].flatten())"
   ]
  },
  {
   "cell_type": "code",
   "execution_count": 32,
   "metadata": {},
   "outputs": [],
   "source": [
    "# Stack the flattened raster data\n",
    "X_flat = np.column_stack(raster_data_flat)\n",
    "\n",
    "# Use the y_file obtained from the find_deforestation_file function\n",
    "y = read_tiff_image(y_file).flatten()\n",
    "\n",
    "# Remove rows with NoData values\n",
    "'''checks each row in X_flat and creates a boolean array (valid_rows_X) that has the same number of elements \n",
    "as the number of rows in X_flat. Each element in valid_rows_X is True if there is no NoData value in \n",
    "the corresponding row of X_flat and False otherwise.'''\n",
    "valid_rows_X = ~(X_flat == no_data_value).any(axis=1)\n",
    "\n",
    "'''checks each element in the y array and creates a boolean array (valid_rows_y) that has the same number of \n",
    "elements as y. Each element in valid_rows_y is True if the corresponding element in y is not \n",
    "equal to the NoData value and False otherwise.'''\n",
    "valid_rows_y = y != no_data_value\n",
    "\n",
    "'''checks each element in the y array and creates a boolean array (valid_rows_y) \n",
    "that has the same number of elements as y. Each element in valid_rows_y is True if the corresponding element \n",
    "in y is not equal to the NoData value and False otherwise.'''\n",
    "valid_rows = valid_rows_X & valid_rows_y\n",
    "\n",
    "'''creates a new array X_cleaned by selecting only the rows in X_flat that \n",
    "correspond to the True elements in valid_rows.'''\n",
    "X_cleaned = X_flat[valid_rows]\n",
    "\n",
    "'''creates a new array y_cleaned by selecting only the elements in y that correspond \n",
    "to the True elements in valid_rows.'''\n",
    "y_cleaned = y[valid_rows]\n"
   ]
  },
  {
   "cell_type": "code",
   "execution_count": 33,
   "metadata": {},
   "outputs": [],
   "source": [
    "# Split the data into training and testing sets\n",
    "X_train, X_test, y_train, y_test = train_test_split(X_cleaned, y_cleaned, test_size=0.3, random_state=42)\n",
    "\n",
    "\n"
   ]
  },
  {
   "cell_type": "code",
   "execution_count": 6,
   "metadata": {},
   "outputs": [],
   "source": [
    "# Train the Random Forest Classifier\n",
    "params = {\n",
    "    \"n_estimators\": 200,\n",
    "    \"min_samples_split\": 5,\n",
    "    \"min_samples_leaf\": 2,\n",
    "    \"max_features\": \"sqrt\",\n",
    "    \"max_depth\": None,\n",
    "    \"bootstrap\": False,\n",
    "}\n",
    "clf = RandomForestClassifier(random_state=0, verbose=1, n_jobs=19, **params)\n"
   ]
  },
  {
   "cell_type": "code",
   "execution_count": 7,
   "metadata": {},
   "outputs": [],
   "source": [
    "\n",
    "# Perform cross-validation\n",
    "cv_scores = cross_val_score(clf, X_cleaned, y_cleaned, cv=5)\n",
    "print(\"Cross-validation scores:\", cv_scores)\n",
    "print(\"Mean cross-validation score:\", np.mean(cv_scores))\n",
    "\n"
   ]
  },
  {
   "cell_type": "markdown",
   "metadata": {},
   "source": [
    "The model is predicting probabilities. The RandomForestClassifier, by default, outputs probabilities of class membership. It provides the probability of each pixel belonging to the deforested or non-deforested class. However, when you use clf.predict(), it returns the class with the highest probability, which is a binary result (deforested or non-deforested).\n",
    "\n",
    " The clf.predict_proba() function obtains probabilities instead of the binary result returning probabilities of each class. ` y_proba = clf.predict_proba(X_cleaned)[:, 1] `extracts the probabilities of deforestation events (class 1) for all pixels.\n",
    ". "
   ]
  },
  {
   "cell_type": "code",
   "execution_count": null,
   "metadata": {},
   "outputs": [],
   "source": [
    "'''Trains RandomForestClassifier using clf.fit(X_train, y_train), \n",
    "then evaluating the classifier on the training set and \n",
    "the test set by calculating the confusion matrix and classification report.''' \n",
    "\n",
    "clf.fit(X_train, y_train)\n",
    "\n",
    "# Evaluate the classifier\n",
    "y_pred_train = clf.predict(X_train)\n",
    "train_cm = confusion_matrix(y_train, y_pred_train)\n",
    "train_cr = classification_report(y_train, y_pred_train)\n",
    "print(\"Training confusion matrix:\")\n",
    "print(train_cm)\n",
    "print(\"Training classification report:\")\n",
    "print(train_cr)\n",
    "\n",
    "y_pred_test = clf.predict(X_test)\n",
    "test_cm = confusion_matrix(y_test, y_pred_test)\n",
    "test_cr = classification_report(y_test, y_pred_test)\n",
    "print(\"Testing confusion matrix:\")\n",
    "print(test_cm)\n",
    "print(\"Testing classification report:\")\n",
    "print(test_cr)\n",
    "\n",
    "# Calculate feature importances and the standard deviation for those importances\n",
    "importances = clf.feature_importances_\n",
    "std = np.std([tree.feature_importances_ for tree in clf.estimators_], axis=0)\n",
    "\n",
    "# Predict probabilities for deforestation events\n",
    "y_proba = clf.predict_proba(X_cleaned)[:, 1]\n",
    "\n",
    "\n",
    "# Predicts the probabilities for deforestation\n",
    "# Create a probability raster by filling in the valid pixel values\n",
    "prob_raster = np.full(y.shape, no_data_value, dtype=np.float32)\n",
    "prob_raster[valid_rows] = y_proba\n",
    "prob_raster = prob_raster.reshape(deforestation_11_data_array.shape)\n",
    "\n"
   ]
  },
  {
   "cell_type": "markdown",
   "metadata": {},
   "source": []
  },
  {
   "cell_type": "markdown",
   "metadata": {},
   "source": [
    "# This raster represents the predicted deforestation probabilities for each pixel in the 2012 raster."
   ]
  },
  {
   "cell_type": "code",
   "execution_count": 9,
   "metadata": {},
   "outputs": [],
   "source": [
    "# Save the probability raster as a GeoTIFF file\n",
    "output_dir = \"/Users/romero61/github/PYFOREST-ML/src/data_loading/outputs/using_grupo_raster\"\n",
    "if not os.path.exists(output_dir):\n",
    "    os.makedirs(output_dir)\n",
    "\n",
    "output_file = os.path.join(output_dir, \"deforestation_prob.tiff\")\n",
    "\n",
    "with rasterio.open(grupo_data) as src:\n",
    "    profile = src.profile\n",
    "    profile.update(dtype=rasterio.float32, count=1)\n",
    "\n",
    "prob_raster_reshaped = prob_raster.reshape((1, prob_raster.shape[0], prob_raster.shape[1]))\n",
    "\n",
    "with rasterio.open(output_file, 'w', **profile) as dst:\n",
    "    dst.write_band(1, prob_raster_reshaped[0])\n",
    "\n",
    "\n"
   ]
  },
  {
   "cell_type": "code",
   "execution_count": 10,
   "metadata": {},
   "outputs": [
    {
     "name": "stderr",
     "output_type": "stream",
     "text": [
      "/tmp/ipykernel_2867438/3696878984.py:10: UserWarning: FixedFormatter should only be used together with FixedLocator\n",
      "  ax.set_xticklabels([item[0] for item in sorted_features], rotation=45, ha='right')\n"
     ]
    },
    {
     "data": {
      "image/png": "[encoded data removed]",
      "text/plain": [
       "<Figure size 640x480 with 1 Axes>"
      ]
     },
     "metadata": {},
     "output_type": "display_data"
    }
   ],
   "source": [
    "\n",
    " # list of feature names corresponding to the input bands of your raster stack\n",
    "feature_names = ['Grupo', 'TreeCover2000']\n",
    "# Create a sorted list of tuples containing feature names and their importances:\n",
    "sorted_features = sorted(zip(feature_names, importances, std), key=lambda x: x[1], reverse=True)\n",
    "\n",
    "# Create a bar chart\n",
    "fig, ax = plt.subplots()\n",
    "\n",
    "# Set the feature names as x-axis labels\n",
    "ax.set_xticklabels([item[0] for item in sorted_features], rotation=45, ha='right')\n",
    "ax.set_xticks(range(len(sorted_features)))\n",
    "\n",
    "# Set the y-axis labels as importances\n",
    "ax.bar(range(len(sorted_features)), [item[1] for item in sorted_features], yerr=[item[2] for item in sorted_features])\n",
    "\n",
    "# Set the title and labels for the chart\n",
    "ax.set_title('Feature Importances')\n",
    "ax.set_xlabel('Features')\n",
    "ax.set_ylabel('Importance')\n",
    "\n",
    "# Display the chart\n",
    "plt.tight_layout()\n",
    "plt.show()\n"
   ]
  }
 ],
 "metadata": {
  "kernelspec": {
   "display_name": "Python 3.11.3 ('pyforest')",
   "language": "python",
   "name": "python3"
  },
  "language_info": {
   "codemirror_mode": {
    "name": "ipython",
    "version": 3
   },
   "file_extension": ".py",
   "mimetype": "text/x-python",
   "name": "python",
   "nbconvert_exporter": "python",
   "pygments_lexer": "ipython3",
   "version": "3.11.3"
  },
  "orig_nbformat": 4,
  "vscode": {
   "interpreter": {
    "hash": "aca51edb778be56207d5a76d5369999259e96b3950a8b6f86c3be07548c77925"
   }
  }
 },
 "nbformat": 4,
 "nbformat_minor": 2
}
