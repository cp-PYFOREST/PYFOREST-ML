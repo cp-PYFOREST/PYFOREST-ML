{
 "cells": [
  {
   "attachments": {},
   "cell_type": "markdown",
   "metadata": {},
   "source": [
    "# Summary\n",
    "This code trains and evaluates a Random Forest Classifier to predict deforestation events based on land use and tree cover data. The input data consists of a stack of raster files, including land use plans, tree cover, and historical deforestation data. The model uses these raster files to predict deforestation events for the year 2012.\n",
    "\n",
    "The input raster data is flattened and stacked into a single 2D array, X_flat. `NoData` values are removed from the input data (X_cleaned) and the target variable (y_cleaned) before splitting them into training and testing datasets.\n",
    "\n",
    "The Random Forest Classifier is trained using the X_train and y_train datasets, and its performance is evaluated using cross-validation. The trained model is then used to predict deforestation events for the testing dataset (X_test). The model's performance is assessed using confusion matrices and classification reports for both the training and testing datasets.\n",
    "\n",
    "Finally, the feature importances of the input variables (e.g., land use plans, tree cover) are calculated and visualized in a bar chart to understand the relative importance of each input variable in predicting deforestation events."
   ]
  },
  {
   "attachments": {},
   "cell_type": "markdown",
   "metadata": {},
   "source": [
    "# Import Libraries and Constants"
   ]
  },
  {
   "cell_type": "code",
   "execution_count": 2,
   "metadata": {},
   "outputs": [],
   "source": [
    "import os\n",
    "import re\n",
    "import sys\n",
    "import numpy as np\n",
    "import pandas as pd\n",
    "import tempfile\n",
    "import shutil\n",
    "import matplotlib.pyplot as plt\n",
    "import rasterio\n",
    "\n",
    "from sklearn.ensemble import RandomForestClassifier\n",
    "from sklearn.metrics import (confusion_matrix, classification_report, accuracy_score, \n",
    "                             precision_score, recall_score, f1_score, roc_auc_score, \n",
    "                             precision_recall_curve, roc_curve, auc)\n",
    "from sklearn.model_selection import (train_test_split, cross_val_score,\n",
    "                                     GridSearchCV, RandomizedSearchCV)\n",
    "from scipy.stats import randint as sp_randint\n",
    "\n",
    "from imblearn.ensemble import BalancedRandomForestClassifier\n",
    "import joblib\n",
    "from joblib import dump\n",
    "from sklearn.metrics import ConfusionMatrixDisplay\n"
   ]
  },
  {
   "cell_type": "code",
   "execution_count": 3,
   "metadata": {},
   "outputs": [],
   "source": [
    "# import warnings filter\n",
    "from warnings import simplefilter\n",
    "# ignore all future warnings\n",
    "simplefilter(action='ignore', category=UserWarning)\n",
    "simplefilter(action='ignore', category=FutureWarning)"
   ]
  },
  {
   "cell_type": "code",
   "execution_count": 4,
   "metadata": {},
   "outputs": [],
   "source": [
    "# Get the current working directory\n",
    "current_dir = os.path.abspath('')\n",
    "\n",
    "# Search for the 'constants.py' file starting from the current directory and moving up the hierarchy\n",
    "project_root = current_dir\n",
    "while not os.path.isfile(os.path.join(project_root, 'constants.py')):\n",
    "    project_root = os.path.dirname(project_root)\n",
    "\n",
    "# Add the project root to the Python path\n",
    "sys.path.append(project_root)\n",
    "\n"
   ]
  },
  {
   "cell_type": "code",
   "execution_count": 5,
   "metadata": {},
   "outputs": [],
   "source": [
    "from constants import SERVER_PATH, OUTPUT_PATH, MASKED_RASTERS_DIR, FEATURES_DIR\n"
   ]
  },
  {
   "cell_type": "code",
   "execution_count": 6,
   "metadata": {},
   "outputs": [
    {
     "data": {
      "text/plain": [
       "['C:/Users/bsf31/Desktop/ML-RESULTS']"
      ]
     },
     "execution_count": 6,
     "metadata": {},
     "output_type": "execute_result"
    }
   ],
   "source": [
    "OUTPUT_PATH"
   ]
  },
  {
   "cell_type": "code",
   "execution_count": 7,
   "metadata": {},
   "outputs": [],
   "source": [
    "#output- update this for subsequent runs\n",
    "output_folder = os.path.join(OUTPUT_PATH[0], 'brfc-features-model')\n",
    "\n",
    "\n"
   ]
  },
  {
   "attachments": {},
   "cell_type": "markdown",
   "metadata": {},
   "source": [
    "# Create Stack"
   ]
  },
  {
   "cell_type": "code",
   "execution_count": 8,
   "metadata": {},
   "outputs": [],
   "source": [
    "# helper function to read tiff files\n",
    "def read_tiff_image(file_path):\n",
    "    with rasterio.open(file_path) as src:\n",
    "        return src.read(1)\n"
   ]
  },
  {
   "cell_type": "code",
   "execution_count": 9,
   "metadata": {},
   "outputs": [],
   "source": [
    "# List of paths to the raster files excluding 'deforestation11_20_masked.tif'\n",
    "feature_files = [os.path.join(FEATURES_DIR[0], file_name) for file_name in os.listdir(FEATURES_DIR[0])]\n",
    "\n",
    "# Then you can use this list of raster_files to create feature_data_arrays and raster_data_flat:\n",
    "feature_data_arrays = [read_tiff_image(file_path) for file_path in feature_files]\n",
    "feature_data_flat = [data_array.flatten() for data_array in feature_data_arrays]\n",
    "\n",
    "# Path to the y_file\n",
    "y_file = os.path.join(MASKED_RASTERS_DIR[0], 'deforestation11_20_masked.tif')\n"
   ]
  },
  {
   "cell_type": "code",
   "execution_count": 10,
   "metadata": {},
   "outputs": [
    {
     "data": {
      "text/plain": [
       "['C:/Users/bsf31/Desktop/model_data/tree_masked_rasters/tree_masked_rasters\\\\cities_treemask.tif',\n",
       " 'C:/Users/bsf31/Desktop/model_data/tree_masked_rasters/tree_masked_rasters\\\\lup_10_treemask.tif',\n",
       " 'C:/Users/bsf31/Desktop/model_data/tree_masked_rasters/tree_masked_rasters\\\\ports_treemask.tif',\n",
       " 'C:/Users/bsf31/Desktop/model_data/tree_masked_rasters/tree_masked_rasters\\\\precipitation_treemask.tif',\n",
       " 'C:/Users/bsf31/Desktop/model_data/tree_masked_rasters/tree_masked_rasters\\\\river_treemask.tif',\n",
       " 'C:/Users/bsf31/Desktop/model_data/tree_masked_rasters/tree_masked_rasters\\\\road_treemask.tif',\n",
       " 'C:/Users/bsf31/Desktop/model_data/tree_masked_rasters/tree_masked_rasters\\\\soil_treemask.tif']"
      ]
     },
     "execution_count": 10,
     "metadata": {},
     "output_type": "execute_result"
    }
   ],
   "source": [
    "feature_files"
   ]
  },
  {
   "cell_type": "code",
   "execution_count": 11,
   "metadata": {},
   "outputs": [
    {
     "data": {
      "text/plain": [
       "'C:/Users/bsf31/Desktop\\\\deforestation11_20_masked.tif'"
      ]
     },
     "execution_count": 11,
     "metadata": {},
     "output_type": "execute_result"
    }
   ],
   "source": [
    "y_file"
   ]
  },
  {
   "cell_type": "code",
   "execution_count": 12,
   "metadata": {},
   "outputs": [
    {
     "name": "stdout",
     "output_type": "stream",
     "text": [
      "All raster data arrays have the same dimensions.\n",
      "Raster 0: (22512, 20381)\n",
      "Raster 1: (22512, 20381)\n",
      "Raster 2: (22512, 20381)\n",
      "Raster 3: (22512, 20381)\n",
      "Raster 4: (22512, 20381)\n",
      "Raster 5: (22512, 20381)\n",
      "Raster 6: (22512, 20381)\n"
     ]
    }
   ],
   "source": [
    "# Find the dimensions of all the raster data arrays\n",
    "raster_shapes = [raster_data.shape for raster_data in feature_data_arrays]\n",
    "\n",
    "# Check if all raster data arrays have the same dimensions\n",
    "if len(set(raster_shapes)) > 1:\n",
    "    print(\"There are mismatching dimensions:\")\n",
    "    for file_path, raster_shape in zip(raster_files, raster_shapes):\n",
    "        print(f\"File: {file_path}, Shape: {raster_shape}\")\n",
    "else:\n",
    "    print(\"All raster data arrays have the same dimensions.\")\n",
    "    # Check the dimensions of all the raster data arrays\n",
    "    for i, data_array in enumerate(feature_data_arrays):\n",
    "        print(f\"Raster {i}: {data_array.shape}\")\n"
   ]
  },
  {
   "attachments": {},
   "cell_type": "markdown",
   "metadata": {},
   "source": [
    "# Stack and Flatten Data"
   ]
  },
  {
   "cell_type": "code",
   "execution_count": 13,
   "metadata": {},
   "outputs": [],
   "source": [
    "# NoData Value\n",
    "no_data_value = -1\n",
    "\n",
    "# Stack the flattened raster data\n",
    "X_flat = np.column_stack(feature_data_flat)\n",
    "\n",
    "# Use the y_file obtained from the find_deforestation_file function\n",
    "y = read_tiff_image(y_file).flatten()\n",
    "\n",
    "# Remove rows with NoData values\n",
    "'''checks each row in X_flat and creates a boolean array (valid_rows_X) that has the same number of elements \n",
    "as the number of rows in X_flat. Each element in valid_rows_X is True if there is no NoData value in \n",
    "the corresponding row of X_flat and False otherwise.'''\n",
    "valid_rows_X = ~(X_flat == no_data_value).any(axis=1)\n",
    "\n",
    "'''checks each element in the y array and creates a boolean array (valid_rows_y) that has the same number of \n",
    "elements as y. Each element in valid_rows_y is True if the corresponding element in y is not \n",
    "equal to the NoData value and False otherwise.'''\n",
    "valid_rows_y = y != no_data_value\n",
    "\n",
    "'''checks each element in the y array and creates a boolean array (valid_rows_y) \n",
    "that has the same number of elements as y. Each element in valid_rows_y is True if the corresponding element \n",
    "in y is not equal to the NoData value and False otherwise.'''\n",
    "valid_rows = valid_rows_X & valid_rows_y\n",
    "\n",
    "'''creates a new array X_cleaned by selecting only the rows in X_flat that \n",
    "correspond to the True elements in valid_rows.'''\n",
    "X_cleaned = X_flat[valid_rows]\n",
    "\n",
    "'''creates a new array y_cleaned by selecting only the elements in y that correspond \n",
    "to the True elements in valid_rows.'''\n",
    "y_cleaned = y[valid_rows]\n",
    " "
   ]
  },
  {
   "attachments": {},
   "cell_type": "markdown",
   "metadata": {},
   "source": [
    "To ensure your data cleaning steps have been applied correctly, you can check the following:\n",
    "\n",
    "**NoData values have been removed:** You should confirm that there are no NoData values in your cleaned data. This can be done by asserting that there are no occurrences of no_data_value in X_cleaned and y_cleaned."
   ]
  },
  {
   "cell_type": "code",
   "execution_count": 14,
   "metadata": {},
   "outputs": [],
   "source": [
    "assert not (X_cleaned == no_data_value).any()\n",
    "assert not (y_cleaned == no_data_value).any()\n"
   ]
  },
  {
   "attachments": {},
   "cell_type": "markdown",
   "metadata": {},
   "source": [
    "These assertions will throw an error if there is a NoData value in X_cleaned or y_cleaned\n",
    "\n",
    "**Dimensions are correct:** The shapes of X_cleaned and y_cleaned should match along the row dimension (the first dimension for 2D array X_cleaned and the only dimension for 1D array y_cleaned)."
   ]
  },
  {
   "cell_type": "code",
   "execution_count": 15,
   "metadata": {},
   "outputs": [
    {
     "name": "stdout",
     "output_type": "stream",
     "text": [
      "Shape of X_cleaned: (29112890, 7)\n",
      "Shape of y_cleaned: (29112890,)\n"
     ]
    }
   ],
   "source": [
    "print(\"Shape of X_cleaned:\", X_cleaned.shape)\n",
    "print(\"Shape of y_cleaned:\", y_cleaned.shape)\n"
   ]
  },
  {
   "attachments": {},
   "cell_type": "markdown",
   "metadata": {},
   "source": [
    "Make sure the number of rows in X_cleaned equals the number of elements in y_cleaned.\n",
    "\n",
    "**Confirm that the valid rows have been correctly identified:** You can do this by checking that the number of True values in valid_rows equals the number of rows in X_cleaned (or the number of elements in y_cleaned)."
   ]
  },
  {
   "cell_type": "code",
   "execution_count": 16,
   "metadata": {},
   "outputs": [],
   "source": [
    "assert valid_rows.sum() == X_cleaned.shape[0]\n"
   ]
  },
  {
   "attachments": {},
   "cell_type": "markdown",
   "metadata": {},
   "source": [
    "# Split the data into training and testing sets\n"
   ]
  },
  {
   "cell_type": "code",
   "execution_count": 17,
   "metadata": {},
   "outputs": [],
   "source": [
    "X_train, X_test, y_train, y_test = train_test_split(X_cleaned, y_cleaned, test_size=0.9, random_state=42, stratify=y_cleaned)\n"
   ]
  },
  {
   "cell_type": "code",
   "execution_count": 18,
   "metadata": {},
   "outputs": [
    {
     "name": "stdout",
     "output_type": "stream",
     "text": [
      "Shape of y_test: (26201601,)\n"
     ]
    }
   ],
   "source": [
    "print(\"Shape of y_test:\", y_test.shape)\n"
   ]
  },
  {
   "attachments": {},
   "cell_type": "markdown",
   "metadata": {},
   "source": [
    "# Class Balance Check"
   ]
  },
  {
   "cell_type": "code",
   "execution_count": 19,
   "metadata": {},
   "outputs": [
    {
     "name": "stdout",
     "output_type": "stream",
     "text": [
      "Training data balance:\n",
      " 0    0.747872\n",
      "1    0.252128\n",
      "dtype: float64\n",
      "Testing data balance:\n",
      " 0    0.747872\n",
      "1    0.252128\n",
      "dtype: float64\n",
      "Whole dataset balance:\n",
      " 0    0.747872\n",
      "1    0.252128\n",
      "dtype: float64\n"
     ]
    }
   ],
   "source": [
    "# Create pandas Series from your labels\n",
    "y_train_series = pd.Series(y_train)\n",
    "y_test_series = pd.Series(y_test)\n",
    "y_cleaned_series = pd.Series(y_cleaned)\n",
    "\n",
    "# Print balance of classes in training, testing, and whole dataset\n",
    "print(\"Training data balance:\\n\", y_train_series.value_counts(normalize=True))\n",
    "print(\"Testing data balance:\\n\", y_test_series.value_counts(normalize=True))\n",
    "print(\"Whole dataset balance:\\n\", y_cleaned_series.value_counts(normalize=True))\n"
   ]
  },
  {
   "cell_type": "code",
   "execution_count": 22,
   "metadata": {},
   "outputs": [
    {
     "name": "stdout",
     "output_type": "stream",
     "text": [
      "-----------------\n"
     ]
    },
    {
     "data": {
      "image/png": "[encoded data removed]",
      "text/plain": [
       "<Figure size 720x432 with 1 Axes>"
      ]
     },
     "metadata": {
      "needs_background": "light"
     },
     "output_type": "display_data"
    },
    {
     "name": "stdout",
     "output_type": "stream",
     "text": [
      "-----------------\n"
     ]
    },
    {
     "data": {
      "image/png": "[encoded data removed]",
      "text/plain": [
       "<Figure size 720x432 with 1 Axes>"
      ]
     },
     "metadata": {
      "needs_background": "light"
     },
     "output_type": "display_data"
    },
    {
     "name": "stdout",
     "output_type": "stream",
     "text": [
      "-----------------\n"
     ]
    },
    {
     "data": {
      "image/png": "[encoded data removed]",
      "text/plain": [
       "<Figure size 720x432 with 1 Axes>"
      ]
     },
     "metadata": {
      "needs_background": "light"
     },
     "output_type": "display_data"
    },
    {
     "name": "stdout",
     "output_type": "stream",
     "text": [
      "-----------------\n"
     ]
    },
    {
     "data": {
      "image/png": "[encoded data removed]",
      "text/plain": [
       "<Figure size 720x432 with 1 Axes>"
      ]
     },
     "metadata": {
      "needs_background": "light"
     },
     "output_type": "display_data"
    },
    {
     "name": "stdout",
     "output_type": "stream",
     "text": [
      "-----------------\n"
     ]
    },
    {
     "data": {
      "image/png": "[encoded data removed]",
      "text/plain": [
       "<Figure size 720x432 with 1 Axes>"
      ]
     },
     "metadata": {
      "needs_background": "light"
     },
     "output_type": "display_data"
    },
    {
     "name": "stdout",
     "output_type": "stream",
     "text": [
      "-----------------\n"
     ]
    },
    {
     "data": {
      "image/png": "[encoded data removed]",
      "text/plain": [
       "<Figure size 720x432 with 1 Axes>"
      ]
     },
     "metadata": {
      "needs_background": "light"
     },
     "output_type": "display_data"
    },
    {
     "name": "stdout",
     "output_type": "stream",
     "text": [
      "-----------------\n"
     ]
    },
    {
     "data": {
      "image/png": "[encoded data removed]",
      "text/plain": [
       "<Figure size 720x432 with 1 Axes>"
      ]
     },
     "metadata": {
      "needs_background": "light"
     },
     "output_type": "display_data"
    }
   ],
   "source": [
    "# Create a list to hold your feature file paths\n",
    "\n",
    "\n",
    "# Define the labels for your features\n",
    "feature_labels = [ 'SOIL', 'ROAD', 'LUP_10', 'PRECIPITATION', 'RIVER', 'CITIES', 'PORTS' ]\n",
    "\n",
    "\n",
    "\n",
    "for i, feature in enumerate(feature_labels):\n",
    "    unique_values, counts = np.unique(X_cleaned[:, i], return_counts=True)\n",
    "    \n",
    "\n",
    "    print('-----------------')\n",
    "    \n",
    "    # Plot histogram\n",
    "    plt.figure(figsize=(10, 6))\n",
    "    plt.hist(X_cleaned[:, i], bins=20)\n",
    "    plt.title(f'{feature} Distribution')\n",
    "    plt.xlabel('Values')\n",
    "    plt.ylabel('Counts')\n",
    "    plt.show()\n"
   ]
  },
  {
   "attachments": {},
   "cell_type": "markdown",
   "metadata": {},
   "source": [
    "# Random Forest model using BalancedRandomForestClassifier:"
   ]
  },
  {
   "cell_type": "code",
   "execution_count": 13,
   "metadata": {},
   "outputs": [
    {
     "data": {
      "text/plain": [
       "\"# Create the GridSearchCV object\\ngrid_search = GridSearchCV(\\n    estimator = brfc,\\n    param_grid=param_grid,\\n    scoring=scoring,\\n    refit='f1',  # because we are interested in maximizing f1_score\\n    cv=5,\\n    n_jobs=19,\\n    verbose=0\\n)\\n\""
      ]
     },
     "execution_count": 13,
     "metadata": {},
     "output_type": "execute_result"
    }
   ],
   "source": [
    "brfc = BalancedRandomForestClassifier(random_state=42, class_weight= 'balanced', sampling_strategy='not majority')\n",
    "\n",
    "# Define a basic parameter grid\n",
    "param_grid = {\n",
    "    'n_estimators': [50, 100, 200],   # number of trees in the forest\n",
    "    'max_depth': [None, 5, 10, 20]    # maximum depth of the tree\n",
    "}\n",
    "\n",
    "# Set scoring metrics\n",
    "scoring = {\n",
    "    'precision': 'precision',\n",
    "    'recall': 'recall',\n",
    "    'f1': 'f1',\n",
    "    'roc_auc': 'roc_auc'\n",
    "}\n",
    "\n",
    "\n",
    "random_search = RandomizedSearchCV(\n",
    "    estimator = brfc,\n",
    "    param_distributions=param_grid,\n",
    "    scoring=scoring,\n",
    "    refit='f1',  # because we are interested in maximizing f1_score\n",
    "    cv=5,\n",
    "    n_jobs=-1,\n",
    "    verbose=0,\n",
    "    n_iter=10,  # number of parameter settings that are sampled\n",
    "    random_state=42  # for reproducibility\n",
    ")\n",
    "\n",
    "'''# Create the GridSearchCV object\n",
    "grid_search = GridSearchCV(\n",
    "    estimator = brfc,\n",
    "    param_grid=param_grid,\n",
    "    scoring=scoring,\n",
    "    refit='f1',  # because we are interested in maximizing f1_score\n",
    "    cv=5,\n",
    "    n_jobs=19,\n",
    "    verbose=0\n",
    ")\n",
    "'''\n"
   ]
  },
  {
   "attachments": {},
   "cell_type": "markdown",
   "metadata": {},
   "source": [
    "# Info on CV, fit, predict, predict_proba\n",
    "\n",
    "Cross-validation is a technique used to evaluate the performance of a machine learning model by training and testing it on different subsets of the dataset. It helps assess how well the model generalizes to new, unseen data and helps mitigate the risk of overfitting.\n",
    "\n",
    "Here's how the 5-fold cross-validation works:\n",
    "\n",
    "1. The entire dataset (X_cleaned and y_cleaned) is divided into 5 equally sized (or nearly equal) folds.\n",
    "2. The model is trained and tested 5 times. In each iteration, one of the folds is used as the test set, and the remaining 4 folds are used to train the model.\n",
    "3. For each iteration, the model's performance is evaluated using a chosen evaluation metric (in this case, accuracy, which is the default scoring method for cross_val_score).\n",
    "4. Once all 5 iterations are completed, the performance scores are averaged to give a single cross-validation score.\n",
    "\n",
    "By using cross-validation, you get a more reliable estimate of the model's performance because it's tested on different portions of the dataset. This helps to reduce the risk of overfitting and gives you a better understanding of how well your model generalizes to unseen data.\n",
    "\n",
    "Cross-validation is performed before  `clf.fit` to assess the performance of the model on the data without using the same data for both training and validation. It helps to understand how well the model is likely to generalize to new, unseen data before committing to training the final model.\n",
    "\n",
    " If the cross-validation scores are satisfactory, you can proceed to train the final model using the entire dataset with clf.fit.\n",
    "\n",
    " `clf.fit` is the method used to train the machine learning model on the provided dataset. In this case, it's training the Random Forest Classifier (denoted as `clf`) on the training dataset (`X_train` and `y_train`). The purpose of `clf.fit` is to learn the relationship between the input features (`X_train`) and the target variable (`y_train`) so that the model can make predictions on new, unseen data.\n",
    "\n",
    "`clf.predict` is the method used to make predictions using the trained model. Once the model is trained with `clf.fit`, it can then be used to predict the target variable for new input features.\n",
    "\n",
    "The model is predicting probabilities. The RandomForestClassifier, by default, outputs probabilities of class membership. It provides the probability of each pixel belonging to the deforested or non-deforested class. However, when you use `clf.predict()`, it returns the class with the highest probability, which is a **binary result (deforested or non-deforested).**\n",
    "\n",
    " The **`clf.predict_proba()`** function obtains probabilities instead of the binary result returning probabilities of each class. ` y_proba = clf.predict_proba(X_cleaned)[:, 1] `extracts the probabilities of deforestation events (class 1) for all pixels."
   ]
  },
  {
   "cell_type": "code",
   "execution_count": null,
   "metadata": {},
   "outputs": [],
   "source": [
    "# Fit GridSearch to the BalancedRandomForestClassifier data\n",
    "#grid_search.fit(X_train, y_train)\n",
    "random_search.fit(X_train, y_train)"
   ]
  },
  {
   "cell_type": "code",
   "execution_count": 15,
   "metadata": {},
   "outputs": [
    {
     "data": {
      "text/plain": [
       "['random_search_results.pkl']"
      ]
     },
     "execution_count": 15,
     "metadata": {},
     "output_type": "execute_result"
    }
   ],
   "source": [
    "joblib.dump(random_search, 'random_search_results.pkl')"
   ]
  },
  {
   "attachments": {},
   "cell_type": "markdown",
   "metadata": {},
   "source": [
    "# Examine Fit Results\n",
    "\n",
    "grid_search.best_params_ contains the hyperparameter combination that resulted in the highest average cross-validation score across the different folds during the grid search. This is useful information as it tells you which hyperparameters worked best for your model and data.\n",
    "\n",
    "grid_search.best_score_ is the highest mean cross-validation score achieved by the best hyperparameter combination found in the grid search. It gives you an idea of the model's performance with the optimal hyperparameters during the cross-validation process.\n",
    "\n",
    "Best estimator: This provides the best estimator found by grid search. This is already fitted to the data and can be used for making predictions or further analysis.\n",
    "\n",
    "CV Results: This provides a dictionary with various details about the grid search, like scores for each combination of parameters, time taken for fitting and scoring, etc. Note: cv_results_ is a dictionary and can be quite verbose, you may want to convert it into a DataFrame for easier viewing.\n",
    "\n",
    "Scorer: This provides the scoring function used by grid search.\n",
    "\n",
    "Refit Time: This gives the time taken to refit the best estimator with the entire dataset."
   ]
  },
  {
   "cell_type": "code",
   "execution_count": 16,
   "metadata": {},
   "outputs": [
    {
     "name": "stdout",
     "output_type": "stream",
     "text": [
      "Attributes and methods specific to GridSearchCV:\n",
      "__slotnames__\n",
      "best_estimator_\n",
      "best_index_\n",
      "best_params_\n",
      "best_score_\n",
      "cv\n",
      "cv_results_\n",
      "error_score\n",
      "estimator\n",
      "multimetric_\n",
      "n_iter\n",
      "n_jobs\n",
      "n_splits_\n",
      "param_distributions\n",
      "pre_dispatch\n",
      "random_state\n",
      "refit\n",
      "refit_time_\n",
      "return_train_score\n",
      "scorer_\n",
      "scoring\n",
      "verbose\n"
     ]
    }
   ],
   "source": [
    "# Print all available attributes and methods for the random_search object\n",
    "all_attributes_methods = dir(random_search)\n",
    "\n",
    "# Filter out attributes and methods inherited from BaseSearchCV\n",
    "specific_attributes_methods = [\n",
    "    attribute for attribute in all_attributes_methods\n",
    "    if attribute not in dir(RandomizedSearchCV)\n",
    "]\n",
    "\n",
    "print(\"Attributes and methods specific to GridSearchCV:\")\n",
    "for attr in specific_attributes_methods:\n",
    "    print(attr)\n"
   ]
  },
  {
   "cell_type": "code",
   "execution_count": 17,
   "metadata": {},
   "outputs": [
    {
     "name": "stdout",
     "output_type": "stream",
     "text": [
      "False\n"
     ]
    }
   ],
   "source": [
    "def is_fitted(estimator):\n",
    "    try:\n",
    "        getattr(estimator, \"estimators_\")\n",
    "        return True\n",
    "    except AttributeError:\n",
    "        return False\n",
    "\n",
    "print(is_fitted(brfc))\n"
   ]
  },
  {
   "cell_type": "code",
   "execution_count": 18,
   "metadata": {},
   "outputs": [
    {
     "data": {
      "text/plain": [
       "<bound method BaseSearchCV.score of RandomizedSearchCV(cv=5,\n",
       "                   estimator=BalancedRandomForestClassifier(class_weight='balanced',\n",
       "                                                            random_state=42,\n",
       "                                                            sampling_strategy='not '\n",
       "                                                                              'majority'),\n",
       "                   n_jobs=-1,\n",
       "                   param_distributions={'max_depth': [None, 5, 10, 20],\n",
       "                                        'n_estimators': [50, 100, 200]},\n",
       "                   random_state=42, refit='f1',\n",
       "                   scoring={'f1': 'f1', 'precision': 'precision',\n",
       "                            'recall': 'recall', 'roc_auc': 'roc_auc'})>"
      ]
     },
     "execution_count": 18,
     "metadata": {},
     "output_type": "execute_result"
    }
   ],
   "source": [
    "random_search.score\n"
   ]
  },
  {
   "cell_type": "code",
   "execution_count": null,
   "metadata": {},
   "outputs": [],
   "source": []
  },
  {
   "cell_type": "code",
   "execution_count": 19,
   "metadata": {},
   "outputs": [],
   "source": [
    "\n",
    "\n",
    "# Get the best parameters and the corresponding score\n",
    "best_params = random_search.best_params_\n",
    "best_score = random_search.best_score_\n",
    "\n",
    "best_estimator = random_search.best_estimator_\n",
    "\n",
    "cv_results = random_search.cv_results_\n",
    "\n",
    "cv_results_df = pd.DataFrame(random_search.cv_results_)\n",
    "\n",
    "scorer = random_search.scorer_\n",
    "\n",
    "refit_time = random_search.refit_time_\n"
   ]
  },
  {
   "attachments": {},
   "cell_type": "markdown",
   "metadata": {},
   "source": [
    "After fitting the GridSearchCV, you can evaluate the performance of the best model on the test data (X_test and y_test) using the best_estimator_ attribute of the grid_search object:"
   ]
  },
  {
   "cell_type": "code",
   "execution_count": 20,
   "metadata": {},
   "outputs": [
    {
     "name": "stdout",
     "output_type": "stream",
     "text": [
      "Best parameters: {'n_estimators': 50, 'max_depth': None}\n",
      "Best cross-validation score: 0.8805888260748811\n",
      "Best estimator: BalancedRandomForestClassifier(class_weight='balanced', n_estimators=50,\n",
      "                               random_state=42,\n",
      "                               sampling_strategy='not majority')\n",
      "CV Results:    mean_fit_time  std_fit_time  mean_score_time  std_score_time  \\\n",
      "0    1531.370871     37.869092        72.132009        4.488346   \n",
      "1     976.373627    121.075829        53.577014        9.490456   \n",
      "2     988.434049    171.230966       104.205794       20.544709   \n",
      "3    2768.398778    413.179189        37.413728       30.720385   \n",
      "4    2222.861225     38.868204        41.687448        2.869501   \n",
      "5    3625.388225    357.275359       163.895234      147.053798   \n",
      "6    1825.003701    109.652829       106.565838      100.345349   \n",
      "7    2169.276666    544.281390        32.935516       26.892366   \n",
      "8     630.900981    116.240335         9.042147        7.852144   \n",
      "9     669.245528    195.576768        11.216128        5.630825   \n",
      "\n",
      "  param_n_estimators param_max_depth  \\\n",
      "0                100              20   \n",
      "1                 50              20   \n",
      "2                 50            None   \n",
      "3                200              10   \n",
      "4                200               5   \n",
      "5                200            None   \n",
      "6                100            None   \n",
      "7                200              20   \n",
      "8                100               5   \n",
      "9                100              10   \n",
      "\n",
      "                                     params  split0_test_precision  \\\n",
      "0    {'n_estimators': 100, 'max_depth': 20}               0.756865   \n",
      "1     {'n_estimators': 50, 'max_depth': 20}               0.754937   \n",
      "2   {'n_estimators': 50, 'max_depth': None}               0.878946   \n",
      "3    {'n_estimators': 200, 'max_depth': 10}                    NaN   \n",
      "4     {'n_estimators': 200, 'max_depth': 5}               0.440298   \n",
      "5  {'n_estimators': 200, 'max_depth': None}               0.878663   \n",
      "6  {'n_estimators': 100, 'max_depth': None}               0.878562   \n",
      "7    {'n_estimators': 200, 'max_depth': 20}               0.757115   \n",
      "8     {'n_estimators': 100, 'max_depth': 5}               0.440115   \n",
      "9    {'n_estimators': 100, 'max_depth': 10}               0.511701   \n",
      "\n",
      "   split1_test_precision  split2_test_precision  ...  std_test_f1  \\\n",
      "0               0.757157               0.756630  ...     0.000482   \n",
      "1               0.754745               0.756958  ...     0.000302   \n",
      "2               0.879368               0.879634  ...     0.000310   \n",
      "3               0.510690               0.512900  ...          NaN   \n",
      "4               0.443368               0.441609  ...     0.001293   \n",
      "5               0.879347               0.879116  ...          NaN   \n",
      "6                    NaN               0.879388  ...          NaN   \n",
      "7                    NaN                    NaN  ...          NaN   \n",
      "8                    NaN               0.443437  ...          NaN   \n",
      "9               0.511023               0.512156  ...          NaN   \n",
      "\n",
      "   rank_test_f1  split0_test_roc_auc  split1_test_roc_auc  \\\n",
      "0             2             0.966008             0.965693   \n",
      "1             3             0.965431             0.965107   \n",
      "2             1             0.975034             0.975098   \n",
      "3             5                  NaN             0.845431   \n",
      "4             4             0.761143             0.762656   \n",
      "5             5             0.977277             0.977390   \n",
      "6             5             0.976424                  NaN   \n",
      "7             5             0.966171                  NaN   \n",
      "8             5             0.761286                  NaN   \n",
      "9             5             0.843230             0.845473   \n",
      "\n",
      "   split2_test_roc_auc  split3_test_roc_auc  split4_test_roc_auc  \\\n",
      "0             0.965498             0.965666             0.965679   \n",
      "1             0.965263             0.965298             0.965510   \n",
      "2             0.974698             0.975207             0.974972   \n",
      "3             0.846034                  NaN             0.845027   \n",
      "4             0.762222             0.762814             0.762629   \n",
      "5             0.976976                  NaN                  NaN   \n",
      "6             0.976066             0.976415                  NaN   \n",
      "7                  NaN             0.965899             0.965798   \n",
      "8             0.762534                  NaN             0.763254   \n",
      "9             0.845598                  NaN             0.844422   \n",
      "\n",
      "   mean_test_roc_auc  std_test_roc_auc  rank_test_roc_auc  \n",
      "0           0.965709          0.000165                  2  \n",
      "1           0.965322          0.000140                  3  \n",
      "2           0.975002          0.000171                  1  \n",
      "3                NaN               NaN                  5  \n",
      "4           0.762293          0.000607                  4  \n",
      "5                NaN               NaN                  5  \n",
      "6                NaN               NaN                  5  \n",
      "7                NaN               NaN                  5  \n",
      "8                NaN               NaN                  5  \n",
      "9                NaN               NaN                  5  \n",
      "\n",
      "[10 rows x 39 columns]\n",
      "Scorer function: {'precision': make_scorer(precision_score, average=binary), 'recall': make_scorer(recall_score, average=binary), 'f1': make_scorer(f1_score, average=binary), 'roc_auc': make_scorer(roc_auc_score, needs_threshold=True)}\n",
      "Refit time (seconds): 356.84904623031616\n"
     ]
    }
   ],
   "source": [
    "print(\"Best parameters:\", best_params)\n",
    "print(\"Best cross-validation score:\", best_score)\n",
    "print(\"Best estimator:\", best_estimator)\n",
    "print(\"CV Results:\",cv_results_df)\n",
    "print(\"Scorer function:\", scorer)\n",
    "print(\"Refit time (seconds):\", refit_time)\n",
    "\n"
   ]
  },
  {
   "attachments": {},
   "cell_type": "markdown",
   "metadata": {},
   "source": [
    "# Evaluate the model performance using your preferred metrics \n",
    "e.g., confusion matrix, classification report, accuracy, F1-score, etc."
   ]
  },
  {
   "cell_type": "code",
   "execution_count": 21,
   "metadata": {},
   "outputs": [],
   "source": [
    "best_model = random_search.best_estimator_\n"
   ]
  },
  {
   "cell_type": "code",
   "execution_count": 22,
   "metadata": {},
   "outputs": [],
   "source": [
    "# Predictions for test data\n",
    "y_pred = best_model.predict(X_test)\n"
   ]
  },
  {
   "attachments": {},
   "cell_type": "markdown",
   "metadata": {},
   "source": [
    "Evaluate the performance of your model by comparing the predicted labels (y_pred) with the true labels (y_test). You can use various metrics such as confusion matrix, classification report, accuracy, F1-score, etc.:"
   ]
  },
  {
   "cell_type": "code",
   "execution_count": 23,
   "metadata": {},
   "outputs": [
    {
     "name": "stdout",
     "output_type": "stream",
     "text": [
      "Accuracy: 0.9420814018196827\n",
      "F1-score: 0.9421358513964577\n",
      "Classification report:\n",
      "               precision    recall  f1-score   support\n",
      "\n",
      "           0       0.96      0.96      0.96  19595447\n",
      "           1       0.88      0.89      0.89   6606154\n",
      "\n",
      "    accuracy                           0.94  26201601\n",
      "   macro avg       0.92      0.92      0.92  26201601\n",
      "weighted avg       0.94      0.94      0.94  26201601\n",
      "\n"
     ]
    }
   ],
   "source": [
    "\n",
    "# Calculate accuracy\n",
    "accuracy = accuracy_score(y_test, y_pred)\n",
    "print(\"Accuracy:\", accuracy)\n",
    "\n",
    "# Calculate F1-score (use 'weighted' or 'macro' depending on your problem)\n",
    "f1 = f1_score(y_test, y_pred, average='weighted')\n",
    "print(\"F1-score:\", f1)\n",
    "\n",
    "# Print classification report\n",
    "report = classification_report(y_test, y_pred)\n",
    "print(\"Classification report:\\n\", report)\n"
   ]
  },
  {
   "cell_type": "code",
   "execution_count": null,
   "metadata": {},
   "outputs": [],
   "source": [
    "ConfusionMatrixDisplay.from_predictions(y_test, y_pred)\n",
    "plt.show()"
   ]
  },
  {
   "attachments": {},
   "cell_type": "markdown",
   "metadata": {},
   "source": [
    "# Confusion Matrix"
   ]
  },
  {
   "cell_type": "code",
   "execution_count": 25,
   "metadata": {},
   "outputs": [],
   "source": [
    "# Predictions for train data\n",
    "y_pred_train = best_model.predict(X_train)"
   ]
  },
  {
   "cell_type": "code",
   "execution_count": 26,
   "metadata": {},
   "outputs": [
    {
     "name": "stdout",
     "output_type": "stream",
     "text": [
      "Training confusion matrix:\n",
      "[[2167159   10113]\n",
      " [   2289  731728]]\n",
      "Training classification report:\n",
      "              precision    recall  f1-score   support\n",
      "\n",
      "           0       1.00      1.00      1.00   2177272\n",
      "           1       0.99      1.00      0.99    734017\n",
      "\n",
      "    accuracy                           1.00   2911289\n",
      "   macro avg       0.99      1.00      0.99   2911289\n",
      "weighted avg       1.00      1.00      1.00   2911289\n",
      "\n"
     ]
    }
   ],
   "source": [
    "# Confusion matrix and classification report for train data\n",
    "train_cm = confusion_matrix(y_train, y_pred_train)\n",
    "train_cr = classification_report(y_train, y_pred_train)\n",
    "print(\"Training confusion matrix:\")\n",
    "print(train_cm)\n",
    "print(\"Training classification report:\")\n",
    "print(train_cr)"
   ]
  },
  {
   "cell_type": "code",
   "execution_count": null,
   "metadata": {},
   "outputs": [],
   "source": [
    "disp = ConfusionMatrixDisplay.from_estimator(\n",
    "        brfc,\n",
    "        X_test,\n",
    "        y_test,\n",
    "        cmap=plt.cm.Blues)\n",
    "\n",
    "title = disp.ax_.set_title(\"Confusion matrix\")\n",
    "\n",
    "print(title)\n",
    "print(disp.confusion_matrix)\n",
    "\n",
    "plt.show()"
   ]
  },
  {
   "cell_type": "code",
   "execution_count": 29,
   "metadata": {},
   "outputs": [
    {
     "data": {
      "image/png": "[encoded data removed]",
      "text/plain": [
       "<Figure size 432x288 with 1 Axes>"
      ]
     },
     "metadata": {
      "needs_background": "light"
     },
     "output_type": "display_data"
    }
   ],
   "source": [
    "# Calculate feature importances and the standard deviation for those importances\n",
    "importances = best_model.feature_importances_\n",
    "std = np.std([tree.feature_importances_ for tree in best_model.estimators_], axis=0)\n",
    "\n",
    "\n",
    " # list of feature names corresponding to the input bands of your raster stack\n",
    "feature_names =  [ 'SOIL', 'ROAD', 'LUP_10', 'PRECIPITATION', 'RIVER', 'CITIES', 'PORTS' ]\n",
    "# Create a sorted list of tuples containing feature names and their importances:\n",
    "sorted_features = sorted(zip(feature_names, importances, std), key=lambda x: x[1], reverse=True)\n",
    "\n",
    "# Create a bar chart\n",
    "fig, ax = plt.subplots()\n",
    "\n",
    "# Set the feature names as x-axis labels\n",
    "ax.set_xticklabels([item[0] for item in sorted_features], rotation=45, ha='right')\n",
    "ax.set_xticks(range(len(sorted_features)))\n",
    "\n",
    "# Set the y-axis labels as importances\n",
    "ax.bar(range(len(sorted_features)), [item[1] for item in sorted_features], yerr=[item[2] for item in sorted_features])\n",
    "\n",
    "# Set the title and labels for the chart\n",
    "ax.set_title('Feature Importances')\n",
    "ax.set_xlabel('Features')\n",
    "ax.set_ylabel('Importance')\n",
    "\n",
    "# Display the chart\n",
    "plt.tight_layout()\n",
    "plt.show()\n"
   ]
  },
  {
   "attachments": {},
   "cell_type": "markdown",
   "metadata": {},
   "source": [
    "# Probabilities for deforestation"
   ]
  },
  {
   "cell_type": "code",
   "execution_count": 30,
   "metadata": {},
   "outputs": [],
   "source": [
    "y_proba_curve = best_model.predict_proba(X_test)[:, 1]\n"
   ]
  },
  {
   "cell_type": "code",
   "execution_count": 31,
   "metadata": {},
   "outputs": [
    {
     "name": "stdout",
     "output_type": "stream",
     "text": [
      "Shape of y_proba_curve: (26201601,)\n"
     ]
    }
   ],
   "source": [
    "print(\"Shape of y_proba_curve:\", y_proba_curve.shape)"
   ]
  },
  {
   "cell_type": "code",
   "execution_count": 32,
   "metadata": {},
   "outputs": [
    {
     "data": {
      "image/png": "[encoded data removed]",
      "text/plain": [
       "<Figure size 432x288 with 1 Axes>"
      ]
     },
     "metadata": {
      "needs_background": "light"
     },
     "output_type": "display_data"
    },
    {
     "name": "stdout",
     "output_type": "stream",
     "text": [
      "Area under Precision-Recall curve: 0.9406911549783487\n"
     ]
    },
    {
     "data": {
      "image/png": "[encoded data removed]",
      "text/plain": [
       "<Figure size 432x288 with 1 Axes>"
      ]
     },
     "metadata": {
      "needs_background": "light"
     },
     "output_type": "display_data"
    },
    {
     "name": "stdout",
     "output_type": "stream",
     "text": [
      "Area under ROC curve: 0.9766717360141716\n"
     ]
    }
   ],
   "source": [
    "# Precision-Recall curve\n",
    "precision, recall, _ = precision_recall_curve(y_test, y_proba_curve)\n",
    "plt.plot(recall, precision, marker='.', label='Random Forest')\n",
    "plt.xlabel('Recall')\n",
    "plt.ylabel('Precision')\n",
    "plt.legend()\n",
    "plt.show()\n",
    "\n",
    "print(f\"Area under Precision-Recall curve: {auc(recall, precision)}\")\n",
    "\n",
    "# ROC curve\n",
    "fpr, tpr, _ = roc_curve(y_test, y_proba_curve)\n",
    "plt.plot(fpr, tpr, marker='.', label='Random Forest')\n",
    "plt.xlabel('False Positive Rate')\n",
    "plt.ylabel('True Positive Rate')\n",
    "plt.legend()\n",
    "plt.show()\n",
    "\n",
    "print(f\"Area under ROC curve: {auc(fpr, tpr)}\")"
   ]
  },
  {
   "cell_type": "code",
   "execution_count": 33,
   "metadata": {},
   "outputs": [],
   "source": [
    "# Predict probabilities for deforestation events\n",
    "y_proba = best_model.predict_proba(X_cleaned)[:, 1]\n"
   ]
  },
  {
   "cell_type": "code",
   "execution_count": 34,
   "metadata": {},
   "outputs": [],
   "source": [
    "# Predicts the \n",
    "# Create a probability raster by filling in the valid pixel values\n",
    "prob_raster = np.full(y.shape, no_data_value, dtype=np.float32)\n",
    "prob_raster[valid_rows] = y_proba\n",
    "prob_raster = prob_raster.reshape(feature_data_arrays[0].shape)\n"
   ]
  },
  {
   "cell_type": "code",
   "execution_count": 35,
   "metadata": {},
   "outputs": [
    {
     "name": "stdout",
     "output_type": "stream",
     "text": [
      "(29112890,)\n"
     ]
    }
   ],
   "source": [
    "print(y_proba.shape)"
   ]
  },
  {
   "cell_type": "code",
   "execution_count": 46,
   "metadata": {},
   "outputs": [],
   "source": [
    "try:\n",
    "    joblib.dump(best_params, 'best_params.pkl')\n",
    "    joblib.dump(best_score, 'best_score.pkl')\n",
    "    joblib.dump(best_model, 'best_model.pkl')\n",
    "    joblib.dump(cv_results, 'cv_results.pkl')\n",
    "    joblib.dump(cv_results_df, 'cv_results_df.pkl')\n",
    "    joblib.dump(scorer, 'scorer.pkl')\n",
    "    joblib.dump(refit_time, 'refit_time.pkl')\n",
    "    joblib.dump(report, 'report.pkl')\n",
    "except Exception as e:\n",
    "    print(f\"An error occurred: {e}\")"
   ]
  },
  {
   "cell_type": "code",
   "execution_count": 44,
   "metadata": {},
   "outputs": [],
   "source": [
    "# Save the probability raster as a GeoTIFF file\n",
    "if not os.path.exists(output_folder):\n",
    "    os.makedirs(output_folder)\n",
    "\n",
    "output_file = os.path.join(output_folder, \"brfc-df-prediction-feature.tiff\")\n",
    "\n",
    "with rasterio.open(y_file) as src:\n",
    "    profile = src.profile\n",
    "    profile.update(dtype=rasterio.float32, count=1)\n",
    "\n",
    "prob_raster_reshaped = prob_raster.reshape((1, prob_raster.shape[0], prob_raster.shape[1]))\n",
    "\n",
    "with rasterio.open(output_file, 'w', **profile) as dst:\n",
    "    dst.write_band(1, prob_raster_reshaped[0])\n",
    "\n",
    "\n"
   ]
  },
  {
   "cell_type": "code",
   "execution_count": 45,
   "metadata": {},
   "outputs": [],
   "source": [
    "# Report\n",
    "model_report = f'''\n",
    "\n",
    "Balanced Random Forest Classifier Model Report\n",
    "\n",
    "# Summary \n",
    "\n",
    "The Balanced Random Forest Classifier performed reasonably well on this task, \n",
    "with an accuracy of  {accuracy} and an F1-score of {f1}. \n",
    "However, there is room for improvement, particularly in the precision and recall for class 1. \n",
    "Future work could explore different models, additional feature engineering, or further hyperparameter tuning to improve performance.\n",
    "\n",
    "# Model Selection\n",
    "\n",
    "We chose to use a Balanced Random Forest Classifier for this task. \n",
    "This model is an ensemble method that combines the predictions of several base estimators \n",
    "built with a given learning algorithm in order to improve generalizability and robustness over a single estimator. \n",
    "It also handles imbalanced classes, which is a common problem in many machine learning tasks.\n",
    "\n",
    "Hyperparameter Tuning\n",
    "We used RandomizedSearchCV for hyperparameter tuning. \n",
    "This method performs a random search on hyperparameters, which is more efficient than an exhaustive search like GridSearchCV.\n",
    "\n",
    "The hyperparameters we tuned were:\n",
    "\n",
    "'n_estimators': The number of trees in the forest.\n",
    "'max_depth': The maximum depth of the tree.\n",
    "'min_samples_split': The minimum number of samples required to split a node.\n",
    "'min_samples_leaf': The minimum number of samples required at a leaf node.\n",
    "'bootstrap': Whether bootstrap samples are used when building trees.\n",
    "\n",
    "{param_grid}\n",
    "\n",
    "# Model Performance\n",
    "The best parameters found by RandomizedSearchCV were:\n",
    "\n",
    "Best parameters:, {best_params}\n",
    "\n",
    "\n",
    "\n",
    "With these parameters, the model achieved the following performance metrics:\n",
    "Best cross-validation score: {best_score}\n",
    "Best model:, {best_estimator}\n",
    "Scorer function:, {scorer}\n",
    "Refit time (seconds): {refit_time}\n",
    "Accuracy:, {accuracy}\n",
    "F1-score: {f1}\n",
    "\n",
    "# Testing Data\n",
    "\n",
    "Classification report:\n",
    "\n",
    "{report}\n",
    "\n",
    "#  TRAINING DATA Classificatin Report-Confusion Matrix\n",
    "\n",
    "Training confusion matrix:\n",
    "\n",
    "{train_cm}\n",
    "\n",
    "Training classification report:\n",
    "\n",
    "{train_cr}\n",
    "\n",
    "\n",
    "This indicates that the model correctly classified [1,1] instances of class 0 \n",
    "and [2,2] instances of class 1, \n",
    "\n",
    "while misclassifying [1,2] instances of class 0 and [2,1] instances of class 1.\n",
    "\n",
    "CV Results:\n",
    "{cv_results_df}\n",
    "\n",
    "'''\n",
    "# Write the report to a Quarto markdown file\n",
    "with open('model_report.qmd', 'w') as f:\n",
    "    f.write(model_report)"
   ]
  },
  {
   "attachments": {},
   "cell_type": "markdown",
   "metadata": {},
   "source": [
    "# Tuning Strategies"
   ]
  },
  {
   "cell_type": "code",
   "execution_count": null,
   "metadata": {},
   "outputs": [
    {
     "data": {
      "text/plain": [
       "'param_dist = {\\n    \"n_estimators\": sp_randint(100, 300),\\n    \\'criterion\\': [\\'gini\\',],\\n    \\'max_features\\': [\\'sqrt\\', None],\\n    \"max_depth\": sp_randint(1, 20),\\n    \"min_samples_split\": sp_randint(2, 11),\\n    \"min_samples_leaf\": sp_randint(1, 11),\\n    \"bootstrap\": [True],\\n    \\'class_weight\\': [\\'balanced\\']\\n}\\n\\n# Instantiate the RandomForestClassifier\\nclf = RandomForestClassifier(random_state=0)\\n\\n# Set up the RandomizedSearchCV\\nrandom_search = RandomizedSearchCV(\\n    clf, param_distributions=param_dist, n_iter=20, cv=5, random_state=0, n_jobs=19\\n)'"
      ]
     },
     "execution_count": 69,
     "metadata": {},
     "output_type": "execute_result"
    }
   ],
   "source": [
    "# Randomized Search\n",
    "# Set the range of values for each hyperparameter\n",
    "'''param_dist = {\n",
    "    \"n_estimators\": sp_randint(100, 300),\n",
    "    'criterion': ['gini',],\n",
    "    'max_features': ['sqrt', None],\n",
    "    \"max_depth\": sp_randint(1, 20),\n",
    "    \"min_samples_split\": sp_randint(2, 11),\n",
    "    \"min_samples_leaf\": sp_randint(1, 11),\n",
    "    \"bootstrap\": [True],\n",
    "    'class_weight': ['balanced']\n",
    "}\n",
    "\n",
    "# Instantiate the RandomForestClassifier\n",
    "clf = RandomForestClassifier(random_state=0)\n",
    "\n",
    "# Set up the RandomizedSearchCV\n",
    "random_search = RandomizedSearchCV(\n",
    "    clf, param_distributions=param_dist, n_iter=20, cv=5, random_state=0, n_jobs=19\n",
    ")'''\n"
   ]
  }
 ],
 "metadata": {
  "kernelspec": {
   "display_name": "pyforest",
   "language": "python",
   "name": "pyforest"
  },
  "language_info": {
   "codemirror_mode": {
    "name": "ipython",
    "version": 3
   },
   "file_extension": ".py",
   "mimetype": "text/x-python",
   "name": "python",
   "nbconvert_exporter": "python",
   "pygments_lexer": "ipython3",
   "version": "3.11.0"
  },
  "orig_nbformat": 4,
  "vscode": {
   "interpreter": {
    "hash": "aca51edb778be56207d5a76d5369999259e96b3950a8b6f86c3be07548c77925"
   }
  }
 },
 "nbformat": 4,
 "nbformat_minor": 2
}
