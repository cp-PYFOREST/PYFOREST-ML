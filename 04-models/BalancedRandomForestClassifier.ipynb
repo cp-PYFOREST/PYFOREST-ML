{
 "cells": [
  {
   "cell_type": "markdown",
   "metadata": {},
   "source": [
    "# Import Libraries and Constants"
   ]
  },
  {
   "cell_type": "code",
   "execution_count": 31,
   "metadata": {},
   "outputs": [],
   "source": [
    "import os\n",
    "import re\n",
    "import sys\n",
    "import numpy as np\n",
    "import pandas as pd\n",
    "import tempfile\n",
    "import shutil\n",
    "import matplotlib.pyplot as plt\n",
    "import rasterio\n",
    "\n",
    "from sklearn.ensemble import RandomForestClassifier\n",
    "from sklearn.metrics import (confusion_matrix, classification_report, accuracy_score, \n",
    "                             precision_score, recall_score, f1_score, roc_auc_score, \n",
    "                             precision_recall_curve, roc_curve, auc)\n",
    "from sklearn.model_selection import (train_test_split, cross_val_score,\n",
    "                                     GridSearchCV, RandomizedSearchCV)\n",
    "from scipy.stats import randint as sp_randint\n",
    "\n",
    "from imblearn.ensemble import BalancedRandomForestClassifier\n",
    "\n"
   ]
  },
  {
   "cell_type": "code",
   "execution_count": 32,
   "metadata": {},
   "outputs": [],
   "source": [
    "# Get the current working directory\n",
    "current_dir = os.path.abspath('')\n",
    "\n",
    "# Search for the 'constants.py' file starting from the current directory and moving up the hierarchy\n",
    "project_root = current_dir\n",
    "while not os.path.isfile(os.path.join(project_root, 'constants.py')):\n",
    "    project_root = os.path.dirname(project_root)\n",
    "\n",
    "# Add the project root to the Python path\n",
    "sys.path.append(project_root)\n",
    "\n"
   ]
  },
  {
   "cell_type": "code",
   "execution_count": 33,
   "metadata": {},
   "outputs": [],
   "source": [
    "from constants import SERVER_PATH, OUTPUT_PATH, MASKED_RASTERS_DIR, FEATURES_DIR\n"
   ]
  },
  {
   "cell_type": "code",
   "execution_count": 34,
   "metadata": {},
   "outputs": [],
   "source": [
    "#output- update this for subsequent runs\n",
    "output_folder = os.path.join(OUTPUT_PATH[0], 'basic_rf_model')\n",
    "\n",
    "\n"
   ]
  },
  {
   "cell_type": "markdown",
   "metadata": {},
   "source": [
    "# Create Stack"
   ]
  },
  {
   "cell_type": "code",
   "execution_count": 35,
   "metadata": {},
   "outputs": [],
   "source": [
    "# helper function to read tiff files\n",
    "def read_tiff_image(file_path):\n",
    "    with rasterio.open(file_path) as src:\n",
    "        return src.read(1)\n"
   ]
  },
  {
   "cell_type": "code",
   "execution_count": 36,
   "metadata": {},
   "outputs": [],
   "source": [
    "# List of paths to the raster files to be used as features\n",
    "feature_files = [os.path.join(FEATURES_DIR[0], 'lup_10_treemask.tif')]\n",
    "\n",
    "# Then you can use this list of feature_files to create feature_data_arrays and feature_data_flat:\n",
    "feature_data_arrays = [read_tiff_image(file_path) for file_path in feature_files]\n",
    "feature_data_flat = [data_array.flatten() for data_array in feature_data_arrays]\n",
    "\n",
    "# Path to the y_file\n",
    "y_file = os.path.join(MASKED_RASTERS_DIR[0], 'deforestation11_20_masked.tif')\n"
   ]
  },
  {
   "cell_type": "code",
   "execution_count": 37,
   "metadata": {},
   "outputs": [
    {
     "data": {
      "text/plain": [
       "['/Users/romero61/../../capstone/pyforest/ml_data/output/tree_masked_rasters/lup_10_treemask.tif']"
      ]
     },
     "execution_count": 37,
     "metadata": {},
     "output_type": "execute_result"
    }
   ],
   "source": [
    "feature_files"
   ]
  },
  {
   "cell_type": "code",
   "execution_count": 38,
   "metadata": {},
   "outputs": [
    {
     "data": {
      "text/plain": [
       "'/Users/romero61/../../capstone/pyforest/ml_data/output/masked_rasters/deforestation11_20_masked.tif'"
      ]
     },
     "execution_count": 38,
     "metadata": {},
     "output_type": "execute_result"
    }
   ],
   "source": [
    "y_file"
   ]
  },
  {
   "cell_type": "code",
   "execution_count": 39,
   "metadata": {},
   "outputs": [
    {
     "name": "stdout",
     "output_type": "stream",
     "text": [
      "All raster data arrays have the same dimensions.\n",
      "Raster 0: (22512, 20381)\n"
     ]
    }
   ],
   "source": [
    "# Find the dimensions of all the raster data arrays\n",
    "raster_shapes = [raster_data.shape for raster_data in feature_data_arrays]\n",
    "\n",
    "# Check if all raster data arrays have the same dimensions\n",
    "if len(set(raster_shapes)) > 1:\n",
    "    print(\"There are mismatching dimensions:\")\n",
    "    for file_path, raster_shape in zip(raster_files, raster_shapes):\n",
    "        print(f\"File: {file_path}, Shape: {raster_shape}\")\n",
    "else:\n",
    "    print(\"All raster data arrays have the same dimensions.\")\n",
    "    # Check the dimensions of all the raster data arrays\n",
    "    for i, data_array in enumerate(feature_data_arrays):\n",
    "        print(f\"Raster {i}: {data_array.shape}\")\n"
   ]
  },
  {
   "cell_type": "markdown",
   "metadata": {},
   "source": [
    "# Stack and Flatten Data"
   ]
  },
  {
   "cell_type": "code",
   "execution_count": 40,
   "metadata": {},
   "outputs": [],
   "source": [
    "# NoData Value\n",
    "no_data_value = -1\n",
    "\n",
    "# Stack the flattened raster data\n",
    "X_flat = np.column_stack(feature_data_flat)\n",
    "\n",
    "# Use the y_file obtained from the find_deforestation_file function\n",
    "y = read_tiff_image(y_file).flatten()\n",
    "\n",
    "# Remove rows with NoData values\n",
    "'''checks each row in X_flat and creates a boolean array (valid_rows_X) that has the same number of elements \n",
    "as the number of rows in X_flat. Each element in valid_rows_X is True if there is no NoData value in \n",
    "the corresponding row of X_flat and False otherwise.'''\n",
    "valid_rows_X = ~(X_flat == no_data_value).any(axis=1)\n",
    "\n",
    "'''checks each element in the y array and creates a boolean array (valid_rows_y) that has the same number of \n",
    "elements as y. Each element in valid_rows_y is True if the corresponding element in y is not \n",
    "equal to the NoData value and False otherwise.'''\n",
    "valid_rows_y = y != no_data_value\n",
    "\n",
    "'''checks each element in the y array and creates a boolean array (valid_rows_y) \n",
    "that has the same number of elements as y. Each element in valid_rows_y is True if the corresponding element \n",
    "in y is not equal to the NoData value and False otherwise.'''\n",
    "valid_rows = valid_rows_X & valid_rows_y\n",
    "\n",
    "'''creates a new array X_cleaned by selecting only the rows in X_flat that \n",
    "correspond to the True elements in valid_rows.'''\n",
    "X_cleaned = X_flat[valid_rows]\n",
    "\n",
    "'''creates a new array y_cleaned by selecting only the elements in y that correspond \n",
    "to the True elements in valid_rows.'''\n",
    "y_cleaned = y[valid_rows]\n",
    " "
   ]
  },
  {
   "cell_type": "markdown",
   "metadata": {},
   "source": [
    "To ensure your data cleaning steps have been applied correctly, you can check the following:\n",
    "\n",
    "**NoData values have been removed:** You should confirm that there are no NoData values in your cleaned data. This can be done by asserting that there are no occurrences of no_data_value in X_cleaned and y_cleaned."
   ]
  },
  {
   "cell_type": "code",
   "execution_count": 41,
   "metadata": {},
   "outputs": [],
   "source": [
    "assert not (X_cleaned == no_data_value).any()\n",
    "assert not (y_cleaned == no_data_value).any()\n"
   ]
  },
  {
   "cell_type": "markdown",
   "metadata": {},
   "source": [
    "These assertions will throw an error if there is a NoData value in X_cleaned or y_cleaned\n",
    "\n",
    "**Dimensions are correct:** The shapes of X_cleaned and y_cleaned should match along the row dimension (the first dimension for 2D array X_cleaned and the only dimension for 1D array y_cleaned)."
   ]
  },
  {
   "cell_type": "code",
   "execution_count": 42,
   "metadata": {},
   "outputs": [
    {
     "name": "stdout",
     "output_type": "stream",
     "text": [
      "Shape of X_cleaned: (29112890, 1)\n",
      "Shape of y_cleaned: (29112890,)\n"
     ]
    }
   ],
   "source": [
    "print(\"Shape of X_cleaned:\", X_cleaned.shape)\n",
    "print(\"Shape of y_cleaned:\", y_cleaned.shape)\n"
   ]
  },
  {
   "cell_type": "markdown",
   "metadata": {},
   "source": [
    "Make sure the number of rows in X_cleaned equals the number of elements in y_cleaned.\n",
    "\n",
    "**Confirm that the valid rows have been correctly identified:** You can do this by checking that the number of True values in valid_rows equals the number of rows in X_cleaned (or the number of elements in y_cleaned)."
   ]
  },
  {
   "cell_type": "code",
   "execution_count": 43,
   "metadata": {},
   "outputs": [],
   "source": [
    "assert valid_rows.sum() == X_cleaned.shape[0]\n"
   ]
  },
  {
   "cell_type": "markdown",
   "metadata": {},
   "source": [
    "# Split the data into training and testing sets\n"
   ]
  },
  {
   "cell_type": "code",
   "execution_count": 44,
   "metadata": {},
   "outputs": [],
   "source": [
    "X_train, X_test, y_train, y_test = train_test_split(X_cleaned, y_cleaned, test_size=0.3, random_state=42, stratify=y_cleaned)\n"
   ]
  },
  {
   "cell_type": "code",
   "execution_count": 45,
   "metadata": {},
   "outputs": [
    {
     "name": "stdout",
     "output_type": "stream",
     "text": [
      "Shape of y_test: (8733867,)\n"
     ]
    }
   ],
   "source": [
    "print(\"Shape of y_test:\", y_test.shape)\n"
   ]
  },
  {
   "cell_type": "markdown",
   "metadata": {},
   "source": [
    "# Class Balance Check"
   ]
  },
  {
   "cell_type": "code",
   "execution_count": 46,
   "metadata": {},
   "outputs": [
    {
     "name": "stdout",
     "output_type": "stream",
     "text": [
      "Training data balance:\n",
      " 0    0.747872\n",
      "1    0.252128\n",
      "dtype: float64\n",
      "Testing data balance:\n",
      " 0    0.747872\n",
      "1    0.252128\n",
      "dtype: float64\n",
      "Whole dataset balance:\n",
      " 0    0.747872\n",
      "1    0.252128\n",
      "dtype: float64\n"
     ]
    }
   ],
   "source": [
    "# Create pandas Series from your labels\n",
    "y_train_series = pd.Series(y_train)\n",
    "y_test_series = pd.Series(y_test)\n",
    "y_cleaned_series = pd.Series(y_cleaned)\n",
    "\n",
    "# Print balance of classes in training, testing, and whole dataset\n",
    "print(\"Training data balance:\\n\", y_train_series.value_counts(normalize=True))\n",
    "print(\"Testing data balance:\\n\", y_test_series.value_counts(normalize=True))\n",
    "print(\"Whole dataset balance:\\n\", y_cleaned_series.value_counts(normalize=True))\n"
   ]
  },
  {
   "cell_type": "markdown",
   "metadata": {},
   "source": [
    "The balance of your dataset seems to be roughly the same in both the training and testing sets, with about 80.6% of the instances belonging to class 0 (no deforestation) and 19.3% to class 1 (deforestation). This shows that the classes are quite imbalanced. Machine learning algorithms, including Random Forest, may have a bias towards the majority class in such situations, which could be one of the reasons why your model is not performing well on the minority class."
   ]
  },
  {
   "cell_type": "code",
   "execution_count": 47,
   "metadata": {},
   "outputs": [
    {
     "name": "stdout",
     "output_type": "stream",
     "text": [
      "LUP_10 Value: 1.0, Count: 4156080\n",
      "LUP_10 Value: 2.0, Count: 12844684\n",
      "LUP_10 Value: 3.0, Count: 11556539\n",
      "LUP_10 Value: 4.0, Count: 555587\n",
      "-----------------\n"
     ]
    },
    {
     "data": {
      "image/png": "[encoded data removed]",
      "text/plain": [
       "<Figure size 1000x600 with 1 Axes>"
      ]
     },
     "metadata": {},
     "output_type": "display_data"
    }
   ],
   "source": [
    "# Create a list to hold your feature file paths\n",
    "\n",
    "\n",
    "# Define the labels for your features\n",
    "#feature_labels = ['LUP_10', 'Precipitation', 'River','Road', 'Soil']\n",
    "feature_labels = ['LUP_10']\n",
    "\n",
    "\n",
    "\n",
    "    \n",
    "for i, feature in enumerate(feature_labels):\n",
    "    unique_values, counts = np.unique(X_cleaned[:, i], return_counts=True)\n",
    "    \n",
    "    # Print the counts for each unique value\n",
    "    for value, count in zip(unique_values, counts):\n",
    "        print(f'{feature} Value: {value}, Count: {count}')\n",
    "\n",
    "    print('-----------------')\n",
    "    \n",
    "    # Plot histogram\n",
    "    plt.figure(figsize=(10, 6))\n",
    "    plt.hist(X_cleaned[:, i], bins=20)\n",
    "    plt.title(f'{feature} Distribution')\n",
    "    plt.xlabel('Values')\n",
    "    plt.ylabel('Counts')\n",
    "    plt.show()\n"
   ]
  },
  {
   "cell_type": "markdown",
   "metadata": {},
   "source": [
    "# Random Forest model using BalancedRandomForestClassifier:"
   ]
  },
  {
   "cell_type": "code",
   "execution_count": 24,
   "metadata": {},
   "outputs": [],
   "source": [
    "brfc = BalancedRandomForestClassifier(random_state=42, class_weight= 'balanced', sampling_strategy='not majority')\n",
    "'''# Define new hyperparameter options\n",
    "param_grid = {\n",
    "    'n_estimators': [50, 100, 200, 300],\n",
    "    'max_depth': [None, 5, 10, 20, 30],\n",
    "    'class_weight': [None, 'balanced', 'balanced_subsample']\n",
    "}'''\n",
    "\n",
    "# Define a basic parameter grid\n",
    "param_grid = {\n",
    "    'n_estimators': [50, 100, 200],  # number of trees in the forest\n",
    "    'max_features': ['auto', 'sqrt'],\n",
    "    'max_depth': [None, 50, 100, 150, 200], # maximum depth of the tree\n",
    "    'min_samples_split': [2, 5, 10],\n",
    "    'min_samples_leaf': [1, 2, 4],\n",
    "    'bootstrap': [True, False]\n",
    "}\n",
    "\n",
    "# Set scoring metrics\n",
    "scoring = {\n",
    "    'precision': 'precision',\n",
    "    'recall': 'recall',\n",
    "    'f1': 'f1',\n",
    "    'roc_auc': 'roc_auc'\n",
    "}\n",
    "\n",
    "# Create the RandomizedSearchCV object\n",
    "random_search = RandomizedSearchCV(\n",
    "    estimator = brfc,\n",
    "    param_distributions=param_grid,\n",
    "    scoring=scoring,\n",
    "    refit='f1',  # because we are interested in maximizing f1_score\n",
    "    cv=5,\n",
    "    n_jobs=19,\n",
    "    verbose=0,\n",
    "    n_iter=100,  # number of parameter settings that are sampled\n",
    "    random_state=42  # for reproducibility\n",
    ")\n",
    "\n",
    "# Create the GridSearchCV object\n",
    "'''grid_search = GridSearchCV(\n",
    "    estimator = brfc,\n",
    "    param_grid=param_grid,\n",
    "    scoring=scoring,\n",
    "    refit='f1',  # because we are interested in maximizing f1_score\n",
    "    cv=5,\n",
    "    n_jobs=19,\n",
    "    verbose=0\n",
    ")'''\n",
    "\n"
   ]
  },
  {
   "cell_type": "code",
   "execution_count": null,
   "metadata": {},
   "outputs": [],
   "source": [
    "# Fit GridSearch to the BalancedRandomForestClassifier data\n",
    "grid_search.fit(X_train, y_train)\n",
    "#Fitting 5 folds for each of 12 candidates, totalling 60 fits\n"
   ]
  },
  {
   "cell_type": "code",
   "execution_count": null,
   "metadata": {},
   "outputs": [],
   "source": [
    "def is_fitted(estimator):\n",
    "    try:\n",
    "        getattr(estimator, \"estimators_\")\n",
    "        return True\n",
    "    except AttributeError:\n",
    "        return False\n",
    "\n",
    "print(is_fitted(brfc))\n"
   ]
  },
  {
   "cell_type": "code",
   "execution_count": 21,
   "metadata": {},
   "outputs": [
    {
     "data": {
      "text/plain": [
       "<bound method BaseSearchCV.score of GridSearchCV(cv=5,\n",
       "             estimator=BalancedRandomForestClassifier(class_weight='balanced',\n",
       "                                                      random_state=42,\n",
       "                                                      sampling_strategy='not '\n",
       "                                                                        'majority'),\n",
       "             n_jobs=19,\n",
       "             param_grid={'max_depth': [None, 5, 10, 20],\n",
       "                         'n_estimators': [50, 100, 200]},\n",
       "             refit='f1',\n",
       "             scoring={'f1': 'f1', 'precision': 'precision', 'recall': 'recall',\n",
       "                      'roc_auc': 'roc_auc'})>"
      ]
     },
     "execution_count": 21,
     "metadata": {},
     "output_type": "execute_result"
    }
   ],
   "source": [
    "grid_search.score\n"
   ]
  },
  {
   "cell_type": "code",
   "execution_count": 22,
   "metadata": {},
   "outputs": [
    {
     "name": "stdout",
     "output_type": "stream",
     "text": [
      "Best parameters: {'max_depth': None, 'n_estimators': 50}\n",
      "Best cross-validation score: 0.4845839150573231\n"
     ]
    }
   ],
   "source": [
    "\n",
    "\n",
    "# Get the best parameters and the corresponding score\n",
    "best_params = grid_search.best_params_\n",
    "best_score = grid_search.best_score_\n",
    "\n",
    "best_estimator = grid_search.best_estimator_\n",
    "\n",
    "cv_results = grid_search.cv_results_\n",
    "\n",
    "cv_results_df = pd.DataFrame(grid_search.cv_results_)\n",
    "\n",
    "scorer = grid_search.scorer_\n",
    "\n",
    "refit_time = grid_search.refit_time_\n"
   ]
  },
  {
   "cell_type": "code",
   "execution_count": 44,
   "metadata": {},
   "outputs": [
    {
     "name": "stdout",
     "output_type": "stream",
     "text": [
      "Best parameters: {'max_depth': None, 'n_estimators': 50}\n",
      "Best cross-validation score: 0.4845839150573231\n",
      "Best estimator: BalancedRandomForestClassifier(class_weight='balanced', n_estimators=50,\n",
      "                               random_state=42,\n",
      "                               sampling_strategy='not majority')\n",
      "CV Results:     mean_fit_time  std_fit_time  mean_score_time  std_score_time  \\\n",
      "0      535.629575      2.330320        31.496318        0.155117   \n",
      "1     1069.753634      6.405724        56.478282        0.184474   \n",
      "2     2165.919110     19.817767       154.048608        5.364894   \n",
      "3      535.728546      3.833532        31.584356        0.071081   \n",
      "4     1062.729164      4.347988        95.832514        1.050506   \n",
      "5     2280.197555     96.314744       106.971950        0.609603   \n",
      "6      563.289992     26.147850        33.580086        2.533693   \n",
      "7     1133.890707     33.708493       117.828511       21.865802   \n",
      "8     2208.049586     78.751899       110.331541       12.376744   \n",
      "9      564.648655     29.856377        36.018730        7.309556   \n",
      "10    1064.418717     12.824489        62.287242       11.113011   \n",
      "11    2095.983412     14.954348       102.118531        0.664861   \n",
      "\n",
      "   param_max_depth param_n_estimators  \\\n",
      "0             None                 50   \n",
      "1             None                100   \n",
      "2             None                200   \n",
      "3                5                 50   \n",
      "4                5                100   \n",
      "5                5                200   \n",
      "6               10                 50   \n",
      "7               10                100   \n",
      "8               10                200   \n",
      "9               20                 50   \n",
      "10              20                100   \n",
      "11              20                200   \n",
      "\n",
      "                                      params  split0_test_precision  \\\n",
      "0    {'max_depth': None, 'n_estimators': 50}               0.355341   \n",
      "1   {'max_depth': None, 'n_estimators': 100}               0.355341   \n",
      "2   {'max_depth': None, 'n_estimators': 200}               0.355341   \n",
      "3       {'max_depth': 5, 'n_estimators': 50}               0.355341   \n",
      "4      {'max_depth': 5, 'n_estimators': 100}               0.355341   \n",
      "5      {'max_depth': 5, 'n_estimators': 200}               0.355341   \n",
      "6      {'max_depth': 10, 'n_estimators': 50}               0.355341   \n",
      "7     {'max_depth': 10, 'n_estimators': 100}               0.355341   \n",
      "8     {'max_depth': 10, 'n_estimators': 200}               0.355341   \n",
      "9      {'max_depth': 20, 'n_estimators': 50}               0.355341   \n",
      "10    {'max_depth': 20, 'n_estimators': 100}               0.355341   \n",
      "11    {'max_depth': 20, 'n_estimators': 200}               0.355341   \n",
      "\n",
      "    split1_test_precision  split2_test_precision  ...  std_test_f1  \\\n",
      "0                0.355647               0.355298  ...     0.000301   \n",
      "1                0.355647               0.355298  ...     0.000301   \n",
      "2                0.355647               0.355298  ...     0.000301   \n",
      "3                0.355647               0.355298  ...     0.000301   \n",
      "4                0.355647               0.355298  ...     0.000301   \n",
      "5                0.355647               0.355298  ...     0.000301   \n",
      "6                0.355647               0.355298  ...     0.000301   \n",
      "7                0.355647               0.355298  ...     0.000301   \n",
      "8                0.355647               0.355298  ...     0.000301   \n",
      "9                0.355647               0.355298  ...     0.000301   \n",
      "10               0.355647               0.355298  ...     0.000301   \n",
      "11               0.355647               0.355298  ...     0.000301   \n",
      "\n",
      "    rank_test_f1  split0_test_roc_auc  split1_test_roc_auc  \\\n",
      "0              1             0.765407             0.765637   \n",
      "1              1             0.765407             0.765637   \n",
      "2              1             0.765407             0.765637   \n",
      "3              1             0.765407             0.765637   \n",
      "4              1             0.765407             0.765637   \n",
      "5              1             0.765407             0.765637   \n",
      "6              1             0.765407             0.765637   \n",
      "7              1             0.765407             0.765637   \n",
      "8              1             0.765407             0.765637   \n",
      "9              1             0.765407             0.765637   \n",
      "10             1             0.765407             0.765637   \n",
      "11             1             0.765407             0.765637   \n",
      "\n",
      "    split2_test_roc_auc  split3_test_roc_auc  split4_test_roc_auc  \\\n",
      "0              0.765439             0.765824             0.765295   \n",
      "1              0.765439             0.765824             0.765295   \n",
      "2              0.765439             0.765824             0.765295   \n",
      "3              0.765439             0.765824             0.765295   \n",
      "4              0.765439             0.765824             0.765295   \n",
      "5              0.765439             0.765824             0.765295   \n",
      "6              0.765439             0.765824             0.765295   \n",
      "7              0.765439             0.765824             0.765295   \n",
      "8              0.765439             0.765824             0.765295   \n",
      "9              0.765439             0.765824             0.765295   \n",
      "10             0.765439             0.765824             0.765295   \n",
      "11             0.765439             0.765824             0.765295   \n",
      "\n",
      "    mean_test_roc_auc  std_test_roc_auc  rank_test_roc_auc  \n",
      "0             0.76552          0.000188                  1  \n",
      "1             0.76552          0.000188                  1  \n",
      "2             0.76552          0.000188                  1  \n",
      "3             0.76552          0.000188                  1  \n",
      "4             0.76552          0.000188                  1  \n",
      "5             0.76552          0.000188                  1  \n",
      "6             0.76552          0.000188                  1  \n",
      "7             0.76552          0.000188                  1  \n",
      "8             0.76552          0.000188                  1  \n",
      "9             0.76552          0.000188                  1  \n",
      "10            0.76552          0.000188                  1  \n",
      "11            0.76552          0.000188                  1  \n",
      "\n",
      "[12 rows x 39 columns]\n",
      "Scorer function: {'precision': make_scorer(precision_score, average=binary), 'recall': make_scorer(recall_score, average=binary), 'f1': make_scorer(f1_score, average=binary), 'roc_auc': make_scorer(roc_auc_score, needs_threshold=True)}\n",
      "Refit time (seconds): 602.0482501983643\n"
     ]
    }
   ],
   "source": [
    "print(\"Best parameters:\", best_params)\n",
    "print(\"Best cross-validation score:\", best_score)\n",
    "print(\"Best estimator:\", best_estimator)\n",
    "print(\"CV Results:\",cv_results_df)\n",
    "print(\"Scorer function:\", scorer)\n",
    "print(\"Refit time (seconds):\", refit_time)\n",
    "\n"
   ]
  },
  {
   "cell_type": "markdown",
   "metadata": {},
   "source": [
    "# Model evaluation performance  metrics \n",
    "e.g., confusion matrix, classification report, accuracy, F1-score, etc."
   ]
  },
  {
   "cell_type": "code",
   "execution_count": 24,
   "metadata": {},
   "outputs": [],
   "source": [
    "best_model = grid_search.best_estimator_\n"
   ]
  },
  {
   "cell_type": "code",
   "execution_count": 25,
   "metadata": {},
   "outputs": [],
   "source": [
    "# Predictions for test data\n",
    "y_pred = best_model.predict(X_test)\n"
   ]
  },
  {
   "cell_type": "markdown",
   "metadata": {},
   "source": [
    "# TESTING DATA Classificatin Report-Confusion Matrix"
   ]
  },
  {
   "cell_type": "code",
   "execution_count": 26,
   "metadata": {},
   "outputs": [
    {
     "name": "stdout",
     "output_type": "stream",
     "text": [
      "Accuracy: 0.6869900388432683\n",
      "F1-score: 0.7190388232149647\n",
      "Classification report:\n",
      "               precision    recall  f1-score   support\n",
      "\n",
      "           0       0.92      0.67      0.78   9184478\n",
      "           1       0.36      0.76      0.48   2202051\n",
      "\n",
      "    accuracy                           0.69  11386529\n",
      "   macro avg       0.64      0.72      0.63  11386529\n",
      "weighted avg       0.81      0.69      0.72  11386529\n",
      "\n"
     ]
    }
   ],
   "source": [
    "\n",
    "# Calculate accuracy\n",
    "accuracy = accuracy_score(y_test, y_pred)\n",
    "print(\"Accuracy:\", accuracy)\n",
    "\n",
    "# Calculate F1-score (use 'weighted' or 'macro' depending on your problem)\n",
    "f1 = f1_score(y_test, y_pred, average='weighted')\n",
    "print(\"F1-score:\", f1)\n",
    "\n",
    "# Print classification report\n",
    "report = classification_report(y_test, y_pred)\n",
    "print(\"Classification report:\\n\", report)\n"
   ]
  },
  {
   "cell_type": "code",
   "execution_count": 29,
   "metadata": {},
   "outputs": [
    {
     "data": {
      "image/png": "[encoded data removed]",
      "text/plain": [
       "<Figure size 640x480 with 2 Axes>"
      ]
     },
     "metadata": {},
     "output_type": "display_data"
    }
   ],
   "source": [
    "ConfusionMatrixDisplay.from_predictions(y_test, y_pred)\n",
    "plt.show()"
   ]
  },
  {
   "cell_type": "markdown",
   "metadata": {},
   "source": [
    "# TRAINING DATA Classificatin Report-Confusion Matrix"
   ]
  },
  {
   "cell_type": "code",
   "execution_count": 27,
   "metadata": {},
   "outputs": [],
   "source": [
    "# Predictions for train data\n",
    "y_pred_train = best_model.predict(X_train)"
   ]
  },
  {
   "cell_type": "code",
   "execution_count": 28,
   "metadata": {},
   "outputs": [
    {
     "name": "stdout",
     "output_type": "stream",
     "text": [
      "Training confusion matrix:\n",
      "[[14341028  7089417]\n",
      " [ 1228126  3909994]]\n",
      "Training classification report:\n",
      "              precision    recall  f1-score   support\n",
      "\n",
      "           0       0.92      0.67      0.78  21430445\n",
      "           1       0.36      0.76      0.48   5138120\n",
      "\n",
      "    accuracy                           0.69  26568565\n",
      "   macro avg       0.64      0.72      0.63  26568565\n",
      "weighted avg       0.81      0.69      0.72  26568565\n",
      "\n"
     ]
    }
   ],
   "source": [
    "# Confusion matrix and classification report for train data\n",
    "train_cm = confusion_matrix(y_train, y_pred_train)\n",
    "train_cr = classification_report(y_train, y_pred_train)\n",
    "print(\"Training confusion matrix:\")\n",
    "print(train_cm)\n",
    "print(\"Training classification report:\")\n",
    "print(train_cr)"
   ]
  },
  {
   "cell_type": "code",
   "execution_count": null,
   "metadata": {},
   "outputs": [],
   "source": [
    "from sklearn.metrics import ConfusionMatrixDisplay\n",
    "disp = ConfusionMatrixDisplay.from_estimator(\n",
    "        brfc,\n",
    "        X_test,\n",
    "        y_test,\n",
    "        cmap=plt.cm.Blues)\n",
    "\n",
    "title = disp.ax_.set_title(\"Confusion matrix\")\n",
    "\n",
    "print(title)\n",
    "print(disp.confusion_matrix)\n",
    "\n",
    "plt.show()"
   ]
  },
  {
   "cell_type": "code",
   "execution_count": 33,
   "metadata": {},
   "outputs": [
    {
     "name": "stderr",
     "output_type": "stream",
     "text": [
      "/tmp/ipykernel_3535282/2283730908.py:15: UserWarning: FixedFormatter should only be used together with FixedLocator\n",
      "  ax.set_xticklabels([item[0] for item in sorted_features], rotation=45, ha='right')\n"
     ]
    },
    {
     "data": {
      "image/png": "[encoded data removed]",
      "text/plain": [
       "<Figure size 640x480 with 1 Axes>"
      ]
     },
     "metadata": {},
     "output_type": "display_data"
    }
   ],
   "source": [
    "# Calculate feature importances and the standard deviation for those importances\n",
    "importances = best_model.feature_importances_\n",
    "std = np.std([tree.feature_importances_ for tree in best_model.estimators_], axis=0)\n",
    "\n",
    "\n",
    " # list of feature names corresponding to the input bands of your raster stack\n",
    "feature_names = ['LUP_10', 'Precipitation', 'River','Road', 'Soil']\n",
    "# Create a sorted list of tuples containing feature names and their importances:\n",
    "sorted_features = sorted(zip(feature_names, importances, std), key=lambda x: x[1], reverse=True)\n",
    "\n",
    "# Create a bar chart\n",
    "fig, ax = plt.subplots()\n",
    "\n",
    "# Set the feature names as x-axis labels\n",
    "ax.set_xticklabels([item[0] for item in sorted_features], rotation=45, ha='right')\n",
    "ax.set_xticks(range(len(sorted_features)))\n",
    "\n",
    "# Set the y-axis labels as importances\n",
    "ax.bar(range(len(sorted_features)), [item[1] for item in sorted_features], yerr=[item[2] for item in sorted_features])\n",
    "\n",
    "# Set the title and labels for the chart\n",
    "ax.set_title('Feature Importances')\n",
    "ax.set_xlabel('Features')\n",
    "ax.set_ylabel('Importance')\n",
    "\n",
    "# Display the chart\n",
    "plt.tight_layout()\n",
    "plt.show()\n"
   ]
  },
  {
   "cell_type": "markdown",
   "metadata": {},
   "source": [
    "# Probabilities for deforestation"
   ]
  },
  {
   "cell_type": "code",
   "execution_count": 43,
   "metadata": {},
   "outputs": [],
   "source": [
    "y_proba_curve = best_model.predict_proba(X_test)[:, 1]\n"
   ]
  },
  {
   "cell_type": "code",
   "execution_count": 46,
   "metadata": {},
   "outputs": [
    {
     "name": "stdout",
     "output_type": "stream",
     "text": [
      "Shape of y_proba_curve: (11386529,)\n"
     ]
    }
   ],
   "source": [
    "print(\"Shape of y_proba_curve:\", y_proba_curve.shape)"
   ]
  },
  {
   "cell_type": "code",
   "execution_count": 47,
   "metadata": {},
   "outputs": [
    {
     "data": {
      "image/png": "[encoded data removed]",
      "text/plain": [
       "<Figure size 640x480 with 1 Axes>"
      ]
     },
     "metadata": {},
     "output_type": "display_data"
    },
    {
     "name": "stdout",
     "output_type": "stream",
     "text": [
      "Area under Precision-Recall curve: 0.5569854569566302\n"
     ]
    },
    {
     "data": {
      "image/png": "[encoded data removed]",
      "text/plain": [
       "<Figure size 640x480 with 1 Axes>"
      ]
     },
     "metadata": {},
     "output_type": "display_data"
    },
    {
     "name": "stdout",
     "output_type": "stream",
     "text": [
      "Area under ROC curve: 0.7656242397606493\n"
     ]
    }
   ],
   "source": [
    "# Precision-Recall curve\n",
    "precision, recall, _ = precision_recall_curve(y_test, y_proba_curve)\n",
    "plt.plot(recall, precision, marker='.', label='Random Forest')\n",
    "plt.xlabel('Recall')\n",
    "plt.ylabel('Precision')\n",
    "plt.legend()\n",
    "plt.show()\n",
    "\n",
    "print(f\"Area under Precision-Recall curve: {auc(recall, precision)}\")\n",
    "\n",
    "# ROC curve\n",
    "fpr, tpr, _ = roc_curve(y_test, y_proba_curve)\n",
    "plt.plot(fpr, tpr, marker='.', label='Random Forest')\n",
    "plt.xlabel('False Positive Rate')\n",
    "plt.ylabel('True Positive Rate')\n",
    "plt.legend()\n",
    "plt.show()\n",
    "\n",
    "print(f\"Area under ROC curve: {auc(fpr, tpr)}\")"
   ]
  },
  {
   "cell_type": "code",
   "execution_count": 34,
   "metadata": {},
   "outputs": [],
   "source": [
    "# Predict probabilities for deforestation events\n",
    "y_proba = best_model.predict_proba(X_cleaned)[:, 1]\n"
   ]
  },
  {
   "cell_type": "code",
   "execution_count": 35,
   "metadata": {},
   "outputs": [],
   "source": [
    "# Predicts the \n",
    "# Create a probability raster by filling in the valid pixel values\n",
    "prob_raster = np.full(y.shape, no_data_value, dtype=np.float32)\n",
    "prob_raster[valid_rows] = y_proba\n",
    "prob_raster = prob_raster.reshape(feature_data_arrays[0].shape)\n"
   ]
  },
  {
   "cell_type": "code",
   "execution_count": 48,
   "metadata": {},
   "outputs": [
    {
     "name": "stdout",
     "output_type": "stream",
     "text": [
      "(37955094,)\n"
     ]
    }
   ],
   "source": [
    "print(y_proba.shape)"
   ]
  },
  {
   "cell_type": "code",
   "execution_count": 50,
   "metadata": {},
   "outputs": [],
   "source": [
    "# Save the probability raster as a GeoTIFF file\n",
    "if not os.path.exists(output_folder):\n",
    "    os.makedirs(output_folder)\n",
    "\n",
    "output_file = os.path.join(output_folder, \"deforestation_prob_balanced.tiff\")\n",
    "\n",
    "with rasterio.open(y_file) as src:\n",
    "    profile = src.profile\n",
    "    profile.update(dtype=rasterio.float32, count=1)\n",
    "\n",
    "prob_raster_reshaped = prob_raster.reshape((1, prob_raster.shape[0], prob_raster.shape[1]))\n",
    "\n",
    "with rasterio.open(output_file, 'w', **profile) as dst:\n",
    "    dst.write_band(1, prob_raster_reshaped[0])\n",
    "\n",
    "\n"
   ]
  },
  {
   "cell_type": "markdown",
   "metadata": {},
   "source": [
    "# Tuning Strategies"
   ]
  },
  {
   "cell_type": "code",
   "execution_count": null,
   "metadata": {},
   "outputs": [],
   "source": [
    "# Randomized Search\n",
    "# Set the range of values for each hyperparameter\n",
    "'''param_dist = {\n",
    "    \"n_estimators\": sp_randint(100, 300),\n",
    "    'criterion': ['gini',],\n",
    "    'max_features': ['sqrt', None],\n",
    "    \"max_depth\": sp_randint(1, 20),\n",
    "    \"min_samples_split\": sp_randint(2, 11),\n",
    "    \"min_samples_leaf\": sp_randint(1, 11),\n",
    "    \"bootstrap\": [True],\n",
    "    'class_weight': ['balanced']\n",
    "}\n",
    "\n",
    "# Instantiate the RandomForestClassifier\n",
    "clf = RandomForestClassifier(random_state=0)\n",
    "\n",
    "# Set up the RandomizedSearchCV\n",
    "random_search = RandomizedSearchCV(\n",
    "    clf, param_distributions=param_dist, n_iter=20, cv=5, random_state=0, n_jobs=19\n",
    ")'''\n"
   ]
  }
 ],
 "metadata": {
  "kernelspec": {
   "display_name": "Python 3.11.3 ('pyforest')",
   "language": "python",
   "name": "python3"
  },
  "language_info": {
   "codemirror_mode": {
    "name": "ipython",
    "version": 3
   },
   "file_extension": ".py",
   "mimetype": "text/x-python",
   "name": "python",
   "nbconvert_exporter": "python",
   "pygments_lexer": "ipython3",
   "version": "3.11.3"
  },
  "orig_nbformat": 4,
  "vscode": {
   "interpreter": {
    "hash": "aca51edb778be56207d5a76d5369999259e96b3950a8b6f86c3be07548c77925"
   }
  }
 },
 "nbformat": 4,
 "nbformat_minor": 2
}
