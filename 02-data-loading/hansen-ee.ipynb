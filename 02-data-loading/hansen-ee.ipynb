{
 "cells": [
  {
   "cell_type": "code",
   "execution_count": 2,
   "metadata": {
    "tags": []
   },
   "outputs": [],
   "source": [
    "#1) Import all necessary packages\n",
    "import pandas as pd\n",
    "import numpy as np\n",
    "import matplotlib.pyplot as plt\n",
    "import datetime\n",
    "import ee\n",
    "import geemap\n",
    "import geopandas as gpd\n"
   ]
  },
  {
   "cell_type": "code",
   "execution_count": 3,
   "metadata": {
    "tags": []
   },
   "outputs": [],
   "source": [
    "import os\n",
    "import sys\n",
    "\n",
    "# Get the current working directory\n",
    "current_dir = os.path.abspath('')\n",
    "\n",
    "# Search for the 'constants.py' file starting from the current directory and moving up the hierarchy\n",
    "project_root = current_dir\n",
    "while not os.path.isfile(os.path.join(project_root, 'constants.py')):\n",
    "    project_root = os.path.dirname(project_root)\n",
    "\n",
    "# Add the project root to the Python path\n",
    "sys.path.append(project_root)\n",
    "\n",
    "\n"
   ]
  },
  {
   "cell_type": "code",
   "execution_count": 4,
   "metadata": {
    "tags": []
   },
   "outputs": [],
   "source": [
    "# Import SHAPEFILE_PATH from constants\n",
    "from constants import STUDY_BOUNDARY_PATH"
   ]
  },
  {
   "cell_type": "markdown",
   "metadata": {},
   "source": [
    "# Import Hansen Dataset and Study Boundary\n",
    "\n",
    "https://developers.google.com/earth-engine/datasets/catalog/UMD_hansen_global_forest_change_2021_v1_9\n",
    "\n",
    "Hansen, M. C., P. V. Potapov, R. Moore, M. Hancher, S. A. Turubanova, A. Tyukavina, D. Thau, S. V. Stehman, S. J. Goetz, T. R. Loveland, A. Kommareddy, A. Egorov, L. Chini, C. O. Justice, and J. R. G. Townshend. 2013. \"High-Resolution Global Maps of 21st-Century Forest Cover Change.\" Science 342 (15 November): 850-53. 10.1126/science.1244693 Data available on-line at: https://glad.earthengine.app/view/global-forest-change."
   ]
  },
  {
   "cell_type": "code",
   "execution_count": 5,
   "metadata": {
    "tags": []
   },
   "outputs": [],
   "source": [
    "#ee.Authenticate()\n",
    "ee.Initialize()"
   ]
  },
  {
   "cell_type": "code",
   "execution_count": 6,
   "metadata": {
    "tags": []
   },
   "outputs": [],
   "source": [
    "# load Hansen Global Forest Change v1.9 \n",
    "imagery = ee.Image(\"UMD/hansen/global_forest_change_2021_v1_9\")\n"
   ]
  },
  {
   "cell_type": "code",
   "execution_count": 15,
   "metadata": {
    "tags": []
   },
   "outputs": [
    {
     "data": {
      "text/plain": [
       "{'type': 'Image',\n",
       " 'bands': [{'id': 'treecover2000',\n",
       "   'data_type': {'type': 'PixelType',\n",
       "    'precision': 'int',\n",
       "    'min': 0,\n",
       "    'max': 255},\n",
       "   'dimensions': [1440000, 560000],\n",
       "   'crs': 'EPSG:4326',\n",
       "   'crs_transform': [0.00025, 0, -180, 0, -0.00025, 80]},\n",
       "  {'id': 'loss',\n",
       "   'data_type': {'type': 'PixelType',\n",
       "    'precision': 'int',\n",
       "    'min': 0,\n",
       "    'max': 255},\n",
       "   'dimensions': [1440000, 560000],\n",
       "   'crs': 'EPSG:4326',\n",
       "   'crs_transform': [0.00025, 0, -180, 0, -0.00025, 80]},\n",
       "  {'id': 'gain',\n",
       "   'data_type': {'type': 'PixelType',\n",
       "    'precision': 'int',\n",
       "    'min': 0,\n",
       "    'max': 255},\n",
       "   'dimensions': [1440000, 560000],\n",
       "   'crs': 'EPSG:4326',\n",
       "   'crs_transform': [0.00025, 0, -180, 0, -0.00025, 80]},\n",
       "  {'id': 'lossyear',\n",
       "   'data_type': {'type': 'PixelType',\n",
       "    'precision': 'int',\n",
       "    'min': 0,\n",
       "    'max': 255},\n",
       "   'dimensions': [1440000, 560000],\n",
       "   'crs': 'EPSG:4326',\n",
       "   'crs_transform': [0.00025, 0, -180, 0, -0.00025, 80]},\n",
       "  {'id': 'first_b30',\n",
       "   'data_type': {'type': 'PixelType',\n",
       "    'precision': 'int',\n",
       "    'min': 0,\n",
       "    'max': 255},\n",
       "   'dimensions': [1440000, 560000],\n",
       "   'crs': 'EPSG:4326',\n",
       "   'crs_transform': [0.00025, 0, -180, 0, -0.00025, 80]},\n",
       "  {'id': 'first_b40',\n",
       "   'data_type': {'type': 'PixelType',\n",
       "    'precision': 'int',\n",
       "    'min': 0,\n",
       "    'max': 255},\n",
       "   'dimensions': [1440000, 560000],\n",
       "   'crs': 'EPSG:4326',\n",
       "   'crs_transform': [0.00025, 0, -180, 0, -0.00025, 80]},\n",
       "  {'id': 'first_b50',\n",
       "   'data_type': {'type': 'PixelType',\n",
       "    'precision': 'int',\n",
       "    'min': 0,\n",
       "    'max': 255},\n",
       "   'dimensions': [1440000, 560000],\n",
       "   'crs': 'EPSG:4326',\n",
       "   'crs_transform': [0.00025, 0, -180, 0, -0.00025, 80]},\n",
       "  {'id': 'first_b70',\n",
       "   'data_type': {'type': 'PixelType',\n",
       "    'precision': 'int',\n",
       "    'min': 0,\n",
       "    'max': 255},\n",
       "   'dimensions': [1440000, 560000],\n",
       "   'crs': 'EPSG:4326',\n",
       "   'crs_transform': [0.00025, 0, -180, 0, -0.00025, 80]},\n",
       "  {'id': 'last_b30',\n",
       "   'data_type': {'type': 'PixelType',\n",
       "    'precision': 'int',\n",
       "    'min': 0,\n",
       "    'max': 255},\n",
       "   'dimensions': [1440000, 560000],\n",
       "   'crs': 'EPSG:4326',\n",
       "   'crs_transform': [0.00025, 0, -180, 0, -0.00025, 80]},\n",
       "  {'id': 'last_b40',\n",
       "   'data_type': {'type': 'PixelType',\n",
       "    'precision': 'int',\n",
       "    'min': 0,\n",
       "    'max': 255},\n",
       "   'dimensions': [1440000, 560000],\n",
       "   'crs': 'EPSG:4326',\n",
       "   'crs_transform': [0.00025, 0, -180, 0, -0.00025, 80]},\n",
       "  {'id': 'last_b50',\n",
       "   'data_type': {'type': 'PixelType',\n",
       "    'precision': 'int',\n",
       "    'min': 0,\n",
       "    'max': 255},\n",
       "   'dimensions': [1440000, 560000],\n",
       "   'crs': 'EPSG:4326',\n",
       "   'crs_transform': [0.00025, 0, -180, 0, -0.00025, 80]},\n",
       "  {'id': 'last_b70',\n",
       "   'data_type': {'type': 'PixelType',\n",
       "    'precision': 'int',\n",
       "    'min': 0,\n",
       "    'max': 255},\n",
       "   'dimensions': [1440000, 560000],\n",
       "   'crs': 'EPSG:4326',\n",
       "   'crs_transform': [0.00025, 0, -180, 0, -0.00025, 80]},\n",
       "  {'id': 'datamask',\n",
       "   'data_type': {'type': 'PixelType',\n",
       "    'precision': 'int',\n",
       "    'min': 0,\n",
       "    'max': 255},\n",
       "   'dimensions': [1440000, 560000],\n",
       "   'crs': 'EPSG:4326',\n",
       "   'crs_transform': [0.00025, 0, -180, 0, -0.00025, 80]}],\n",
       " 'version': 1651671978424815,\n",
       " 'id': 'UMD/hansen/global_forest_change_2021_v1_9',\n",
       " 'properties': {'system:footprint': {'type': 'LinearRing',\n",
       "   'coordinates': [[-180, -90],\n",
       "    [180, -90],\n",
       "    [180, 90],\n",
       "    [-180, 90],\n",
       "    [-180, -90]]},\n",
       "  'system:asset_size': 1359372825400}}"
      ]
     },
     "execution_count": 15,
     "metadata": {},
     "output_type": "execute_result"
    }
   ],
   "source": [
    "imagery.getInfo()\n"
   ]
  },
  {
   "cell_type": "code",
   "execution_count": 16,
   "metadata": {
    "tags": []
   },
   "outputs": [
    {
     "data": {
      "application/vnd.jupyter.widget-view+json": {
       "model_id": "64ba1d48240a4b49a599b43834eebd73",
       "version_major": 2,
       "version_minor": 0
      },
      "text/plain": [
       "Map(center=[20, 0], controls=(WidgetControl(options=['position', 'transparent_bg'], widget=HBox(children=(Togg…"
      ]
     },
     "execution_count": 16,
     "metadata": {},
     "output_type": "execute_result"
    }
   ],
   "source": [
    "Map = geemap.Map()\n",
    "\n",
    "Map"
   ]
  },
  {
   "cell_type": "code",
   "execution_count": 17,
   "metadata": {},
   "outputs": [],
   "source": [
    "Map.addLayer(imagery,{}, 'Hansen')"
   ]
  },
  {
   "cell_type": "code",
   "execution_count": 7,
   "metadata": {},
   "outputs": [],
   "source": [
    "shapefile_path = STUDY_BOUNDARY_PATH\n",
    "study_boundary = gpd.read_file(shapefile_path)\n"
   ]
  },
  {
   "cell_type": "code",
   "execution_count": 8,
   "metadata": {},
   "outputs": [],
   "source": [
    "ee_boundary = geemap.geopandas_to_ee(study_boundary)\n",
    "\n"
   ]
  },
  {
   "cell_type": "code",
   "execution_count": 9,
   "metadata": {},
   "outputs": [],
   "source": [
    "clipped_hansen_dataset = imagery.clip(ee_boundary)\n"
   ]
  },
  {
   "cell_type": "code",
   "execution_count": null,
   "metadata": {},
   "outputs": [],
   "source": [
    "Map = geemap.Map()\n",
    "Map.centerObject(ee_boundary, zoom=10)\n",
    "Map.addLayer(clipped_hansen_dataset, {'bands': ['lossyear'], 'palette': ['000000', '00FF00'], 'max': 100}, 'Hansen Dataset Clipped')\n",
    "Map\n"
   ]
  },
  {
   "cell_type": "code",
   "execution_count": 10,
   "metadata": {},
   "outputs": [
    {
     "name": "stdout",
     "output_type": "stream",
     "text": [
      "Number of bands: 13\n",
      "Band names:\n",
      "1. treecover2000\n",
      "2. loss\n",
      "3. gain\n",
      "4. lossyear\n",
      "5. first_b30\n",
      "6. first_b40\n",
      "7. first_b50\n",
      "8. first_b70\n",
      "9. last_b30\n",
      "10. last_b40\n",
      "11. last_b50\n",
      "12. last_b70\n",
      "13. datamask\n"
     ]
    }
   ],
   "source": [
    "num_bands = len(clipped_hansen_dataset.bandNames().getInfo())\n",
    "print(f\"Number of bands: {num_bands}\")\n",
    "# Get the band names from the clipped raster\n",
    "band_names = clipped_hansen_dataset.bandNames().getInfo()\n",
    "\n",
    "# Print the band names\n",
    "print(\"Band names:\")\n",
    "for i, band in enumerate(band_names, 1):\n",
    "    print(f\"{i}. {band}\")\n"
   ]
  },
  {
   "cell_type": "markdown",
   "metadata": {},
   "source": [
    "**Dataset Details**\n",
    "This global dataset is divided into 10x10 degree tiles, consisting of seven files per tile. All files contain unsigned 8-bit values and have a spatial resolution of 1 arc-second per pixel, or approximately 30 meters per pixel at the equator.\n",
    "\n",
    "**Tree canopy cover for year 2000 (treecover2000)**\n",
    "Tree cover in the year 2000, defined as canopy closure for all vegetation taller than 5m in height. Encoded as a percentage per output grid cell, in the range 0–100.\n",
    "\n",
    "**Global forest cover gain 2000–2012 (gain)**\n",
    "Forest gain during the period 2000–2012, defined as the inverse of loss, or a non-forest to forest change entirely within the study period. Encoded as either 1 (gain) or 0 (no gain).\n",
    "\n",
    "**Year of gross forest cover loss event (lossyear)**\n",
    "Forest loss during the period 2000–2020, defined as a stand-replacement disturbance, or a change from a forest to non-forest state. Encoded as either 0 (no loss) or else a value in the range 1–20, representing loss detected primarily in the year 2001–2020, respectively.\n",
    "\n",
    "\n",
    "**Data mask (datamask)**\n",
    "Three values representing areas of no data (0), mapped land surface (1), and permanent water bodies (2).\n",
    "\n",
    "\n",
    "**Circa year 2000 Landsat 7 cloud-free image composite (first)**\n",
    "Reference multispectral imagery from the first available year, typically 2000. If no cloud-free observations were available for year 2000, imagery was taken from the closest year with cloud-free data, within the range 1999–2012.\n",
    "\n",
    "\n",
    "**Circa year 2020 Landsat cloud-free image composite (last)**\n",
    "Reference multispectral imagery from the last available year, typically 2020. If no cloud-free observations were available for year 2020, imagery was taken from the closest year with cloud-free data.\n",
    "\n",
    "\n",
    "Reference composite imagery are median observations from a set of quality assessed growing season observations in four spectral bands, specifically Landsat bands 3, 4, 5, and 7. Normalized top-of-atmosphere (TOA) reflectance values (ρ) have been scaled to an 8-bit data range using a scale factor (g):\n",
    "\n",
    "DN = ρ · g + 1\n",
    "The g factor was chosen independently for each band to preserve the band-specific dynamic range, as shown in the following table:\n",
    "\n",
    "Landsat Band\t       | g\n",
    "-----------------------|----\n",
    "Red (0.66 micrometers) | 508\n",
    "NIR (0.86 micrometers) | 254\n",
    "SWIR1 (1.6 micrometers)| 363\n",
    "SWIR2 (2.2 micrometers)| 423\n",
    "\n"
   ]
  },
  {
   "cell_type": "code",
   "execution_count": 17,
   "metadata": {},
   "outputs": [
    {
     "name": "stdout",
     "output_type": "stream",
     "text": [
      "Number of pixels: 33.31658415137021\n",
      "Estimated file size (bytes): 1732.4623758712507\n"
     ]
    }
   ],
   "source": [
    "export_params = {\n",
    "    'scale': 30, # Resolution in meters\n",
    "    'region': ee_boundary, # Export only the region of interest\n",
    "    'crs': 'EPSG:4326', # Coordinate reference system (optional)\n",
    "    'fileFormat': 'GeoTIFF', # Export format (GeoTIFF or other supported formats)\n",
    "    'fileNamePrefix': 'clipped_hansen_dataset', # Prefix for the exported file name\n",
    "}\n",
    "# Get the geometry and scale (resolution) of the clipped raster\n",
    "geometry = ee_boundary.geometry()\n",
    "scale = export_params['scale']\n",
    "\n",
    "# Compute the pixel dimensions of the exported raster\n",
    "dimensions = ee.Image.pixelLonLat().reproject(geometry.projection().atScale(scale)).reduceRegion(\n",
    "    reducer=ee.Reducer.minMax(),\n",
    "    geometry=geometry,\n",
    "    scale=scale,\n",
    "    maxPixels=1e10\n",
    ").getInfo()\n",
    "\n",
    "pixel_width = dimensions['longitude_max'] - dimensions['longitude_min']\n",
    "pixel_height = dimensions['latitude_max'] - dimensions['latitude_min']\n",
    "\n",
    "# Estimate the number of pixels\n",
    "num_pixels = pixel_width * pixel_height\n",
    "print(f\"Number of pixels: {num_pixels}\")\n",
    "\n",
    "# Estimate the file size in bytes (assuming 4 bytes per pixel per band for GeoTIFF format)``\n",
    "file_size_bytes = num_pixels * num_bands * 4\n",
    "print(f\"Estimated file size (bytes): {file_size_bytes}\")\n",
    "\n",
    "\n",
    "\n"
   ]
  },
  {
   "cell_type": "markdown",
   "metadata": {},
   "source": [
    "# Export Deforestation and TreeCover Files\n",
    "\n"
   ]
  },
  {
   "cell_type": "code",
   "execution_count": null,
   "metadata": {},
   "outputs": [],
   "source": [
    "# Extract the first feature from the FeatureCollection\n",
    "ee_boundary_feature = ee_boundary.first()\n",
    "\n",
    "# Get the geometry of the feature\n",
    "ee_boundary_geometry = ee_boundary_feature.geometry()\n",
    "\n",
    "# Get the coordinates of the geometry\n",
    "ee_boundary_coordinates = ee_boundary_geometry.coordinates().getInfo()\n",
    "\n",
    "\n"
   ]
  },
  {
   "cell_type": "code",
   "execution_count": null,
   "metadata": {},
   "outputs": [],
   "source": [
    "# Update the export_params dictionary\n",
    "export_params = {\n",
    "    'scale': 30,\n",
    "    'region': ee_boundary_coordinates,\n",
    "    'crs': 'EPSG:4326',\n",
    "    'fileFormat': 'GeoTIFF',\n",
    "    'fileNamePrefix': 'clipped_hansen_lossyear',\n",
    "}\n",
    "\n",
    "# Your existing export task code\n",
    "export_task = ee.batch.Export.image.toDrive(\n",
    "    image=clipped_hansen_dataset.select('lossyear'),\n",
    "    description='lossyear',\n",
    "    folder='hansen_data', # specify a folder in your Google Drive\n",
    "    maxPixels=1e10,\n",
    "    **export_params\n",
    ")\n",
    "\n",
    "export_task.start()"
   ]
  },
  {
   "cell_type": "code",
   "execution_count": 28,
   "metadata": {},
   "outputs": [],
   "source": [
    "export_params = {\n",
    "    'scale': 30, # Resolution in meters\n",
    "    'region': ee_boundary, # Export only the region of interest\n",
    "    'crs': 'EPSG:4326', # Coordinate reference system (optional)\n",
    "    'fileFormat': 'GeoTIFF', # Export format (GeoTIFF or other supported formats)\n",
    "    'fileNamePrefix': 'clipped_hansen_dataset', # Prefix for the exported file name\n",
    "}\n",
    "\n",
    "export_task = ee.batch.Export.image.toDrive(\n",
    "    image=clipped_hansen_dataset.select('treecover2000'),\n",
    "    description='treecover2000',\n",
    "    folder='hansen_data',  # specify a folder in your Google Drive\n",
    "    maxPixels=1e10,\n",
    "    **export_params\n",
    ")\n",
    "# Start the export task\n",
    "export_task.start()\n"
   ]
  },
  {
   "cell_type": "markdown",
   "metadata": {},
   "source": [
    "A new empty folder will appear in the google drive associated with Earth Engine account.\n",
    "The export process takes a considerable amount of time, progress can be monitored at\n",
    "https://code.earthengine.google.com/tasks"
   ]
  }
 ],
 "metadata": {
  "kernelspec": {
   "display_name": "Python 3.11.3 ('pyforest')",
   "language": "python",
   "name": "python3"
  },
  "language_info": {
   "codemirror_mode": {
    "name": "ipython",
    "version": 3
   },
   "file_extension": ".py",
   "mimetype": "text/x-python",
   "name": "python",
   "nbconvert_exporter": "python",
   "pygments_lexer": "ipython3",
   "version": "3.11.3"
  },
  "vscode": {
   "interpreter": {
    "hash": "aca51edb778be56207d5a76d5369999259e96b3950a8b6f86c3be07548c77925"
   }
  }
 },
 "nbformat": 4,
 "nbformat_minor": 4
}
